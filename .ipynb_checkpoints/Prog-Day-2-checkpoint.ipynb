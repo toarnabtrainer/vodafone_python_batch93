{
 "cells": [
  {
   "cell_type": "markdown",
   "id": "fa179dfc-ba9e-46a2-8086-bba3adcb1821",
   "metadata": {},
   "source": [
    "### Python Module: Python Math Module"
   ]
  },
  {
   "cell_type": "code",
   "execution_count": 1,
   "id": "25ac9642-73fc-40d1-b0e2-f26da1827d37",
   "metadata": {},
   "outputs": [],
   "source": [
    "# importing the required module\n",
    "import math"
   ]
  },
  {
   "cell_type": "code",
   "execution_count": 22,
   "id": "044000cb-8e6f-4105-9171-22f11f8aa456",
   "metadata": {},
   "outputs": [
    {
     "name": "stdout",
     "output_type": "stream",
     "text": [
      "0.0 1.0 0.0\n",
      "1000.0 1000 1000.0 1000.0\n",
      "pi: 3.141592653589793\n",
      "e: 2.718281828459045\n",
      "tau: 6.283185307179586\n",
      "6.907755278982137 6.907755278982137 2.9999999999999996\n",
      "10.0 10.0\n",
      "3.0 2.9999999999999996\n",
      "11 11 10 10\n",
      "120 5040\n",
      "GCD: 50 LCM: 9000.0\n",
      "1000 1000\n"
     ]
    }
   ],
   "source": [
    "print (math.sin(0), math.cos(0), math.tan(0))\n",
    "print (math.pow(10, 3), 10 ** 3, 10.0 ** 3, 10 ** 3.0)\n",
    "print (\"pi:\", math.pi)\n",
    "print (\"e:\", math.e)\n",
    "print (\"tau:\", math.tau)\n",
    "print (math.log(1000), math.log(1000, math.e), math.log(1000, 10))\n",
    "print (math.log2(1024), math.log(1024, 2))\n",
    "print (math.log10(1000), math.log(1000, 10))\n",
    "print (math.ceil(10.1), math.ceil(10.9), math.floor(10.1), math.floor(10.9))\n",
    "print (math.factorial(5), math.factorial(7))\n",
    "print (\"GCD:\", math.gcd(1000, 450), \"LCM:\", (1000 * 450) / math.gcd(1000, 450))\n",
    "print (abs(-1000), abs(1000))  # abs() function is inbuilt"
   ]
  },
  {
   "cell_type": "code",
   "execution_count": 23,
   "id": "5d04d087-4300-4eea-8c4c-f74535f6e5f2",
   "metadata": {},
   "outputs": [
    {
     "name": "stdout",
     "output_type": "stream",
     "text": [
      "Help on built-in function pow in module math:\n",
      "\n",
      "pow(x, y, /)\n",
      "    Return x**y (x to the power of y).\n",
      "\n"
     ]
    }
   ],
   "source": [
    "help (math.pow)"
   ]
  },
  {
   "cell_type": "code",
   "execution_count": null,
   "id": "82ee486b-006b-4c34-9a26-6ecc7650b637",
   "metadata": {},
   "outputs": [],
   "source": [
    "help (math)"
   ]
  },
  {
   "cell_type": "markdown",
   "id": "6d349e21-65c5-4308-b8cd-69d1324d2772",
   "metadata": {},
   "source": [
    "### Dealing with String\n",
    "> String or text consists of alpha-numeric characters and special characters"
   ]
  },
  {
   "cell_type": "markdown",
   "id": "36c69e97-e4eb-47d5-9c5a-7a11c30818ba",
   "metadata": {},
   "source": [
    "# string indexing and slicing\n",
    "index from left to right:   0  1  2  3  4  5  6  7  8  9\n",
    "                   mystr:   u  n  i  v  e  r  s  i  t  y\n",
    "index from right to left: -10 -9 -8 -7 -6 -5 -4 -3 -2 -1"
   ]
  },
  {
   "cell_type": "code",
   "execution_count": 86,
   "id": "dcb45e86-48e8-4e20-a999-1f1d63596db6",
   "metadata": {},
   "outputs": [
    {
     "name": "stdout",
     "output_type": "stream",
     "text": [
      "university 10 <class 'str'> 2199054384048\n",
      "v v t t\n"
     ]
    },
    {
     "ename": "TypeError",
     "evalue": "'str' object does not support item assignment",
     "output_type": "error",
     "traceback": [
      "\u001b[1;31m---------------------------------------------------------------------------\u001b[0m",
      "\u001b[1;31mTypeError\u001b[0m                                 Traceback (most recent call last)",
      "\u001b[1;32m<ipython-input-86-a9bf2aa5da4b>\u001b[0m in \u001b[0;36m<module>\u001b[1;34m\u001b[0m\n\u001b[0;32m      2\u001b[0m \u001b[0mprint\u001b[0m \u001b[1;33m(\u001b[0m\u001b[0mmystr\u001b[0m\u001b[1;33m,\u001b[0m \u001b[0mlen\u001b[0m\u001b[1;33m(\u001b[0m\u001b[0mmystr\u001b[0m\u001b[1;33m)\u001b[0m\u001b[1;33m,\u001b[0m \u001b[0mtype\u001b[0m\u001b[1;33m(\u001b[0m\u001b[0mmystr\u001b[0m\u001b[1;33m)\u001b[0m\u001b[1;33m,\u001b[0m \u001b[0mid\u001b[0m\u001b[1;33m(\u001b[0m\u001b[0mmystr\u001b[0m\u001b[1;33m)\u001b[0m\u001b[1;33m)\u001b[0m\u001b[1;33m\u001b[0m\u001b[1;33m\u001b[0m\u001b[0m\n\u001b[0;32m      3\u001b[0m \u001b[0mprint\u001b[0m \u001b[1;33m(\u001b[0m\u001b[0mmystr\u001b[0m\u001b[1;33m[\u001b[0m\u001b[1;36m3\u001b[0m\u001b[1;33m]\u001b[0m\u001b[1;33m,\u001b[0m \u001b[0mmystr\u001b[0m\u001b[1;33m[\u001b[0m\u001b[1;33m-\u001b[0m\u001b[1;36m7\u001b[0m\u001b[1;33m]\u001b[0m\u001b[1;33m,\u001b[0m \u001b[0mmystr\u001b[0m\u001b[1;33m[\u001b[0m\u001b[1;36m8\u001b[0m\u001b[1;33m]\u001b[0m\u001b[1;33m,\u001b[0m \u001b[0mmystr\u001b[0m\u001b[1;33m[\u001b[0m\u001b[1;33m-\u001b[0m\u001b[1;36m2\u001b[0m\u001b[1;33m]\u001b[0m\u001b[1;33m)\u001b[0m  \u001b[1;31m# indexing\u001b[0m\u001b[1;33m\u001b[0m\u001b[1;33m\u001b[0m\u001b[0m\n\u001b[1;32m----> 4\u001b[1;33m \u001b[0mmystr\u001b[0m\u001b[1;33m[\u001b[0m\u001b[1;36m3\u001b[0m\u001b[1;33m]\u001b[0m \u001b[1;33m=\u001b[0m \u001b[1;34m\"x\"\u001b[0m\u001b[1;33m\u001b[0m\u001b[1;33m\u001b[0m\u001b[0m\n\u001b[0m\u001b[0;32m      5\u001b[0m \u001b[0mprint\u001b[0m \u001b[1;33m(\u001b[0m\u001b[0mmystr\u001b[0m\u001b[1;33m[\u001b[0m\u001b[1;36m0\u001b[0m\u001b[1;33m:\u001b[0m\u001b[1;36m6\u001b[0m\u001b[1;33m]\u001b[0m\u001b[1;33m,\u001b[0m \u001b[0mmystr\u001b[0m\u001b[1;33m[\u001b[0m\u001b[1;33m-\u001b[0m\u001b[1;36m10\u001b[0m\u001b[1;33m:\u001b[0m\u001b[1;33m-\u001b[0m\u001b[1;36m4\u001b[0m\u001b[1;33m]\u001b[0m\u001b[1;33m,\u001b[0m \u001b[0mmystr\u001b[0m\u001b[1;33m[\u001b[0m\u001b[1;33m:\u001b[0m\u001b[1;36m6\u001b[0m\u001b[1;33m]\u001b[0m\u001b[1;33m,\u001b[0m \u001b[0mmystr\u001b[0m\u001b[1;33m[\u001b[0m\u001b[1;33m:\u001b[0m\u001b[1;33m-\u001b[0m\u001b[1;36m4\u001b[0m\u001b[1;33m]\u001b[0m\u001b[1;33m)\u001b[0m  \u001b[1;31m# slicing means sub-string retrieval\u001b[0m\u001b[1;33m\u001b[0m\u001b[1;33m\u001b[0m\u001b[0m\n\u001b[0;32m      6\u001b[0m \u001b[0mprint\u001b[0m \u001b[1;33m(\u001b[0m\u001b[0mmystr\u001b[0m\u001b[1;33m[\u001b[0m\u001b[1;36m3\u001b[0m\u001b[1;33m:\u001b[0m\u001b[1;36m9\u001b[0m\u001b[1;33m]\u001b[0m\u001b[1;33m,\u001b[0m \u001b[0mmystr\u001b[0m\u001b[1;33m[\u001b[0m\u001b[1;33m-\u001b[0m\u001b[1;36m7\u001b[0m\u001b[1;33m:\u001b[0m\u001b[1;33m-\u001b[0m\u001b[1;36m1\u001b[0m\u001b[1;33m]\u001b[0m\u001b[1;33m,\u001b[0m \u001b[0mmystr\u001b[0m\u001b[1;33m[\u001b[0m\u001b[1;36m3\u001b[0m\u001b[1;33m:\u001b[0m\u001b[1;33m-\u001b[0m\u001b[1;36m1\u001b[0m\u001b[1;33m]\u001b[0m\u001b[1;33m,\u001b[0m \u001b[0mmystr\u001b[0m\u001b[1;33m[\u001b[0m\u001b[1;33m-\u001b[0m\u001b[1;36m7\u001b[0m\u001b[1;33m:\u001b[0m\u001b[1;36m9\u001b[0m\u001b[1;33m]\u001b[0m\u001b[1;33m)\u001b[0m\u001b[1;33m\u001b[0m\u001b[1;33m\u001b[0m\u001b[0m\n",
      "\u001b[1;31mTypeError\u001b[0m: 'str' object does not support item assignment"
     ]
    }
   ],
   "source": [
    "mystr = \"university\"\n",
    "print (mystr, len(mystr), type(mystr), id(mystr))\n",
    "print (mystr[3], mystr[-7], mystr[8], mystr[-2])  # indexing\n",
    "mystr[3] = \"x\"    # will cause ERROR as string is immutable\n",
    "print (mystr[0:6], mystr[-10:-4], mystr[:6], mystr[:-4])  # slicing means sub-string retrieval\n",
    "print (mystr[3:9], mystr[-7:-1], mystr[3:-1], mystr[-7:9])\n",
    "print (mystr[::2], mystr[1::2], mystr[::-1], mystr[8::-2], mystr[9::-2])\n",
    "print (mystr[3:6], mystr[-7:-4], mystr[3:-4], mystr[-7:6])"
   ]
  },
  {
   "cell_type": "code",
   "execution_count": 43,
   "id": "4c7faf96-a7f3-420f-bb15-07845a04b925",
   "metadata": {},
   "outputs": [
    {
     "name": "stdout",
     "output_type": "stream",
     "text": [
      "caLCuTTa uniVeRSitY 19 <class 'str'> 2199053140016\n",
      "CALCUTTA UNIVERSITY\n",
      "calcutta university\n",
      "Calcutta university\n",
      "Calcutta University\n",
      "          caLCuTTa uniVeRSitY           \n",
      "CAlcUttA UNIvErsITy\n"
     ]
    }
   ],
   "source": [
    "mystr = \"caLCuTTa uniVeRSitY\"\n",
    "print (mystr, len(mystr), type(mystr), id(mystr))\n",
    "print (mystr.upper())\n",
    "print (mystr.lower())\n",
    "print (mystr.capitalize())\n",
    "print (mystr.title())\n",
    "print (mystr.center(40))\n",
    "print (mystr.swapcase())"
   ]
  },
  {
   "cell_type": "code",
   "execution_count": 87,
   "id": "223b8f87-2920-4a7c-b780-93b18e4b3d3a",
   "metadata": {},
   "outputs": [
    {
     "name": "stdout",
     "output_type": "stream",
     "text": [
      "caLCuTTa uniVeRSitY 19 <class 'str'> 2199058219296\n",
      "CALCUTTA UNIVERSITY 19 <class 'str'> 2199058219616\n"
     ]
    }
   ],
   "source": [
    "mystr = \"caLCuTTa uniVeRSitY\"\n",
    "print (mystr, len(mystr), type(mystr), id(mystr))\n",
    "capstr = mystr.upper()\n",
    "print (capstr, len(capstr), type(capstr), id(capstr))"
   ]
  },
  {
   "cell_type": "code",
   "execution_count": 44,
   "id": "3be9c0fe-2a2e-4473-9724-fc21515de440",
   "metadata": {},
   "outputs": [
    {
     "name": "stdout",
     "output_type": "stream",
     "text": [
      "abcd True True False\n",
      "1234 False True True\n",
      "abcd1234 False True False\n",
      "abcd@1234 False False False\n"
     ]
    }
   ],
   "source": [
    "mystr = \"abcd\"\n",
    "print (mystr, mystr.isalpha(), mystr.isalnum(), mystr.isdigit())\n",
    "mystr = \"1234\"\n",
    "print (mystr, mystr.isalpha(), mystr.isalnum(), mystr.isdigit())\n",
    "mystr = \"abcd1234\"\n",
    "print (mystr, mystr.isalpha(), mystr.isalnum(), mystr.isdigit())\n",
    "mystr = \"abcd@1234\"\n",
    "print (mystr, mystr.isalpha(), mystr.isalnum(), mystr.isdigit())"
   ]
  },
  {
   "cell_type": "code",
   "execution_count": null,
   "id": "b9effdff-8df9-4508-8de6-1c3da874ee42",
   "metadata": {},
   "outputs": [],
   "source": [
    "help(str)"
   ]
  },
  {
   "cell_type": "code",
   "execution_count": 48,
   "id": "20b24ca7-7541-4bad-81b5-d1c52362f486",
   "metadata": {},
   "outputs": [
    {
     "name": "stdout",
     "output_type": "stream",
     "text": [
      "Good morning\n",
      "Good night\n",
      "Good night\n"
     ]
    }
   ],
   "source": [
    "mystr = \"Good morning\"\n",
    "print (mystr)\n",
    "mystr = mystr.replace(\"morning\", \"night\")\n",
    "print (mystr)\n",
    "mystr = mystr.replace(\"evening\", \"afternoon\")\n",
    "print (mystr)"
   ]
  },
  {
   "cell_type": "code",
   "execution_count": 52,
   "id": "21367598-fc66-4998-8164-bc5a0c46aef9",
   "metadata": {},
   "outputs": [
    {
     "name": "stdout",
     "output_type": "stream",
     "text": [
      "charity begins at home\n",
      "15\n",
      "15\n",
      "15\n",
      "-1\n"
     ]
    }
   ],
   "source": [
    "mystr = \"charity begins at home\"\n",
    "print (mystr)\n",
    "print (mystr.find(\"at\"))\n",
    "print (mystr.find(\"at\", 10))\n",
    "print (mystr.find(\"at\", 15))\n",
    "print (mystr.find(\"at\", 16))"
   ]
  },
  {
   "cell_type": "code",
   "execution_count": 56,
   "id": "3daf2add-da5f-4fbf-9599-a2f7e09fa8c9",
   "metadata": {},
   "outputs": [
    {
     "name": "stdout",
     "output_type": "stream",
     "text": [
      "charity begins at home\n",
      "4\n",
      "11\n",
      "11\n",
      "-1\n"
     ]
    }
   ],
   "source": [
    "mystr = \"charity begins at home\"\n",
    "print (mystr)\n",
    "print (mystr.find(\"i\"))\n",
    "print (mystr.find(\"i\", 10))\n",
    "print (mystr.find(\"i\", 11))\n",
    "print (mystr.find(\"i\", 16))"
   ]
  },
  {
   "cell_type": "code",
   "execution_count": 58,
   "id": "c609820e-6a15-4ac1-bbab-f6cb558c0dda",
   "metadata": {},
   "outputs": [
    {
     "name": "stdout",
     "output_type": "stream",
     "text": [
      "charity begins at home\n",
      "4\n",
      "11\n",
      "11\n",
      "Exception type: <class 'ValueError'> and error message: substring not found...\n"
     ]
    }
   ],
   "source": [
    "try:\n",
    "    mystr = \"charity begins at home\"\n",
    "    print (mystr)\n",
    "    print (mystr.index(\"i\"))\n",
    "    print (mystr.index(\"i\", 10))\n",
    "    print (mystr.index(\"i\", 11))\n",
    "    print (mystr.index(\"i\", 16))\n",
    "except ValueError as ve:\n",
    "    print (f\"Exception type: {type(ve)} and error message: {ve}...\")"
   ]
  },
  {
   "cell_type": "code",
   "execution_count": 59,
   "id": "a1a174a2-e394-4d0e-bc6f-3f559593ebd9",
   "metadata": {},
   "outputs": [
    {
     "name": "stdout",
     "output_type": "stream",
     "text": [
      "university\n",
      "1 2 0\n"
     ]
    }
   ],
   "source": [
    "mystr = \"university\"\n",
    "print (mystr)\n",
    "print (mystr.count(\"u\"), mystr.count(\"i\"), mystr.count(\"x\"))"
   ]
  },
  {
   "cell_type": "code",
   "execution_count": 65,
   "id": "cdcc82f7-5a51-4396-b635-5b3bf0e3e40f",
   "metadata": {},
   "outputs": [
    {
     "name": "stdout",
     "output_type": "stream",
     "text": [
      "charity begins at home\n",
      "True False\n",
      "False\n",
      "True\n"
     ]
    }
   ],
   "source": [
    "mystr = \"charity begins at home\"\n",
    "print (mystr)\n",
    "print (mystr.endswith(\"home\"), mystr.endswith(\"Home\"))\n",
    "print (mystr.endswith(\"at\"))\n",
    "print (mystr.endswith(\"at\", 0, 17))"
   ]
  },
  {
   "cell_type": "code",
   "execution_count": 71,
   "id": "0e97b92d-ff96-4dac-89e9-811e514f5b1a",
   "metadata": {},
   "outputs": [
    {
     "name": "stdout",
     "output_type": "stream",
     "text": [
      "charity begins at home\n",
      "True\n",
      "False\n",
      "True\n",
      "True\n",
      "False\n"
     ]
    }
   ],
   "source": [
    "mystr = \"charity begins at home\"\n",
    "print (mystr)\n",
    "print (mystr.startswith(\"char\"))\n",
    "print (mystr.startswith(\"gin\"))\n",
    "print (mystr.startswith(\"gin\", 10))\n",
    "print (mystr.startswith(\"gin\", 10, 15))\n",
    "print (mystr.startswith(\"gin\", 10, 12))"
   ]
  },
  {
   "cell_type": "code",
   "execution_count": 75,
   "id": "57fdfa18-50fd-484c-bd7c-70dcb1d569f8",
   "metadata": {},
   "outputs": [
    {
     "name": "stdout",
     "output_type": "stream",
     "text": [
      "    calcutta    university      31\n",
      "calcutta    university 22\n",
      "calcutta    university      27\n",
      "    calcutta    university 26\n"
     ]
    }
   ],
   "source": [
    "mystr = \"    calcutta    university     \"\n",
    "print (mystr, len(mystr))\n",
    "print (mystr.strip(), len(mystr.strip()))\n",
    "print (mystr.lstrip(), len(mystr.lstrip()))\n",
    "print (mystr.rstrip(), len(mystr.rstrip()))"
   ]
  },
  {
   "cell_type": "code",
   "execution_count": 77,
   "id": "0b68699f-075f-45e4-bc31-35fdc51fccd2",
   "metadata": {},
   "outputs": [
    {
     "name": "stdout",
     "output_type": "stream",
     "text": [
      "#@@#calcutta #@ university@@##@ 31\n",
      "calcutta #@ university 22\n",
      "calcutta #@ university@@##@ 27\n",
      "#@@#calcutta #@ university 26\n"
     ]
    }
   ],
   "source": [
    "mystr = \"#@@#calcutta #@ university@@##@\"\n",
    "print (mystr, len(mystr))\n",
    "print (mystr.strip(\"#@\"), len(mystr.strip(\"#@\")))\n",
    "print (mystr.lstrip(\"#@\"), len(mystr.lstrip(\"#@\")))\n",
    "print (mystr.rstrip(\"#@\"), len(mystr.rstrip(\"#@\")))"
   ]
  },
  {
   "cell_type": "code",
   "execution_count": 81,
   "id": "6d683402-b377-42fe-9c51-1489db60c6d8",
   "metadata": {},
   "outputs": [
    {
     "name": "stdout",
     "output_type": "stream",
     "text": [
      "u, n, i, v, e, r, s, i, t, y, \n",
      "u, n, i, v, e, r, s, i, t, y, "
     ]
    }
   ],
   "source": [
    "mystr = \"university\"\n",
    "for ch in mystr:\n",
    "    print (ch, end = \", \")\n",
    "print ()\n",
    "for i in range(len(mystr)):\n",
    "    print (mystr[i], end = \", \")"
   ]
  },
  {
   "cell_type": "code",
   "execution_count": 83,
   "id": "5ca7c9be-ffff-46a6-8624-7224d7806da8",
   "metadata": {},
   "outputs": [
    {
     "name": "stdout",
     "output_type": "stream",
     "text": [
      "charity begins at home\n",
      "['charity', 'begins', 'at', 'home'] <class 'list'>\n",
      "['char', 'ty beg', 'ns at home'] <class 'list'>\n"
     ]
    }
   ],
   "source": [
    "mystr = \"charity begins at home\"\n",
    "print (mystr)\n",
    "list1 = mystr.split(\" \")\n",
    "print (list1, type(list1))\n",
    "list1 = mystr.split(\"i\")\n",
    "print (list1, type(list1))"
   ]
  },
  {
   "cell_type": "code",
   "execution_count": 85,
   "id": "b3735436-cb8c-4fcd-a055-887937a70285",
   "metadata": {},
   "outputs": [
    {
     "name": "stdout",
     "output_type": "stream",
     "text": [
      "charity begins at home\n",
      "charity begins at home\n"
     ]
    }
   ],
   "source": [
    "list1 = ['charity', 'begins', 'at', 'home']\n",
    "mystr = \" \".join(list1)\n",
    "print (mystr)\n",
    "list1 = ['char', 'ty beg', 'ns at home']\n",
    "mystr = \"i\".join(list1)\n",
    "print (mystr)"
   ]
  },
  {
   "cell_type": "markdown",
   "id": "c99a8b19-f98e-482b-903c-51bcada1458d",
   "metadata": {},
   "source": [
    "### Dealing with List\n",
    "> A list consists of items of same or different data types separated by commas and enclosed within []. List is mutable[]. That means we can perform insert, delete and update operations."
   ]
  },
  {
   "cell_type": "code",
   "execution_count": 94,
   "id": "fca79b95-a4f7-4fa8-bd77-0484b78acd76",
   "metadata": {},
   "outputs": [
    {
     "name": "stdout",
     "output_type": "stream",
     "text": [
      "[100, 400, False, 200.5, 300, 500, True] 7 <class 'list'> 2199063381760\n",
      "500 False\n",
      "1501.5 214.5\n"
     ]
    }
   ],
   "source": [
    "list1 = [100, 400, False, 200.5, 300, 500, True]\n",
    "print (list1, len(list1), type(list1), id(list1))\n",
    "print (max(list1), min(list1))\n",
    "print (sum(list1), sum(list1)/len(list1))"
   ]
  },
  {
   "cell_type": "code",
   "execution_count": 97,
   "id": "24719e76-3ce3-4327-b532-c2a998f9eb8a",
   "metadata": {},
   "outputs": [
    {
     "name": "stdout",
     "output_type": "stream",
     "text": [
      "['Monday', 'Friday', 'Tuesday', 'thursday'] 4 <class 'list'> 2199057656000\n",
      "thursday Friday\n"
     ]
    }
   ],
   "source": [
    "list1 = [\"Monday\", \"Friday\", \"Tuesday\", \"thursday\"]\n",
    "print (list1, len(list1), type(list1), id(list1))\n",
    "print (max(list1), min(list1))\n",
    "# print (sum(list1), sum(list1)/len(list1))"
   ]
  },
  {
   "cell_type": "code",
   "execution_count": 101,
   "id": "e6e7a507-bf95-4f9b-87fd-784e51b5a080",
   "metadata": {},
   "outputs": [
    {
     "name": "stdout",
     "output_type": "stream",
     "text": [
      "['Monday', 'Friday', 100, 'Tuesday', 34.56, True, 'Thursday'] 7 <class 'list'> 2199057211136\n"
     ]
    }
   ],
   "source": [
    "list1 = [\"Monday\", \"Friday\", 100, \"Tuesday\", 34.56, True,\"Thursday\"]\n",
    "print (list1, len(list1), type(list1), id(list1))\n",
    "# print (max(list1), min(list1))\n",
    "# print (sum(list1), sum(list1)/len(list1))"
   ]
  },
  {
   "cell_type": "code",
   "execution_count": 112,
   "id": "8e8b1cee-bd73-4231-8ade-50ce31a802fa",
   "metadata": {},
   "outputs": [
    {
     "name": "stdout",
     "output_type": "stream",
     "text": [
      "['Monday', 'Friday', 'Tuesday', 'Thursday'] 4\n",
      "Friday Friday\n",
      "['Friday', 'Tuesday', 'Thursday'] ['Friday', 'Tuesday', 'Thursday']\n",
      "esd esd\n"
     ]
    }
   ],
   "source": [
    "# indexing and slicing\n",
    "#  L2R =>   0         1         2          3\n",
    "daylist = [\"Monday\", \"Friday\", \"Tuesday\", \"Thursday\"]\n",
    "#  R2L =>  -4        -3        -2         -1 \n",
    "print (daylist, len(daylist))\n",
    "print (daylist[1], daylist[-3])\n",
    "print (daylist[1:], daylist[-3:])\n",
    "print (daylist[2][2:5], daylist[-2][-5:-2])"
   ]
  },
  {
   "cell_type": "code",
   "execution_count": 127,
   "id": "ca178313-6f15-4bdf-9b47-aa605548145a",
   "metadata": {},
   "outputs": [
    {
     "name": "stdout",
     "output_type": "stream",
     "text": [
      "['Red', 'Black', 'Brown', 'Yellow'] 4\n",
      "['Monday', 'Friday', 'Tuesday', 'Thursday'] 4\n",
      "['Red', 'Black', 'Brown', 'Yellow', 'Monday', 'Friday', 'Tuesday', 'Thursday'] 8\n",
      "['Monday', 'Friday', 'Tuesday', 'Thursday', 'Red', 'Black', 'Brown', 'Yellow'] 8\n",
      "['Monday', 'Friday', 'Tuesday', 'Thursday', 'Red', 'Black', 'Brown', 'Yellow'] 8\n"
     ]
    }
   ],
   "source": [
    "colorlist = [\"Red\", \"Black\", \"Brown\", \"Yellow\"]\n",
    "print (colorlist, len(colorlist))\n",
    "daylist = [\"Monday\", \"Friday\", \"Tuesday\", \"Thursday\"]\n",
    "print (daylist, len(daylist))\n",
    "list1 = colorlist + daylist\n",
    "print (list1, len(list1))\n",
    "list1 = daylist + colorlist\n",
    "print (list1, len(list1))\n",
    "daylist.extend(colorlist)\n",
    "print (daylist, len(daylist))"
   ]
  },
  {
   "cell_type": "code",
   "execution_count": 114,
   "id": "3c8918f0-8a87-4090-9071-1a0dbd513671",
   "metadata": {},
   "outputs": [
    {
     "name": "stdout",
     "output_type": "stream",
     "text": [
      "['Red', 'Black', 'Brown', 'Yellow'] 4\n",
      "['Monday', 'Friday', 'Tuesday', 'Thursday'] 4\n",
      "[['Red', 'Black', 'Brown', 'Yellow'], ['Monday', 'Friday', 'Tuesday', 'Thursday']] 2\n",
      "['Monday', 'Friday', 'Tuesday', 'Thursday', 'Red', 'Black', 'Brown', 'Yellow'] 8\n"
     ]
    }
   ],
   "source": [
    "colorlist = [\"Red\", \"Black\", \"Brown\", \"Yellow\"]\n",
    "print (colorlist, len(colorlist))\n",
    "daylist = [\"Monday\", \"Friday\", \"Tuesday\", \"Thursday\"]\n",
    "print (daylist, len(daylist))\n",
    "list1 = [colorlist, daylist]   # list of lists\n",
    "print (list1, len(list1))\n",
    "list2 = daylist + colorlist    # list concatenation\n",
    "print (list2, len(list2))"
   ]
  },
  {
   "cell_type": "code",
   "execution_count": 119,
   "id": "15e6805e-c92d-4e91-bc67-d35da526ba3d",
   "metadata": {},
   "outputs": [
    {
     "name": "stdout",
     "output_type": "stream",
     "text": [
      "Tuesday Tuesday\n",
      "row row\n"
     ]
    }
   ],
   "source": [
    "list1 = [['Red', 'Black', 'Brown', 'Yellow'], ['Monday', 'Friday', 'Tuesday', 'Thursday']]\n",
    "print (list1[1][2], list1[-1][-2])  # indexing\n",
    "print (list1[0][2][1:4], list1[-2][-2][-4:-1])  # slicing"
   ]
  },
  {
   "cell_type": "code",
   "execution_count": 125,
   "id": "25c0f836-e85f-4181-bc44-ebbba14aa321",
   "metadata": {},
   "outputs": [
    {
     "name": "stdout",
     "output_type": "stream",
     "text": [
      "[10, 10, 10, 10, 10] 5\n",
      "[[10, 10, 10], [10, 10, 10], [10, 10, 10], [10, 10, 10]] 4\n",
      "[[10, 10, 10, 10, 10], [10, 10, 10, 10, 10], [10, 10, 10, 10, 10]] 3\n"
     ]
    }
   ],
   "source": [
    "list1 = [10] * 5\n",
    "print (list1, len(list1))\n",
    "list1 = [[10] * 3] * 4\n",
    "print (list1, len(list1))\n",
    "list1 = [[10 for i in range(5)] for j in range(3)]\n",
    "print (list1, len(list1))"
   ]
  },
  {
   "cell_type": "code",
   "execution_count": 133,
   "id": "f53b6fdc-e744-4cab-bd3b-63b4a49041fc",
   "metadata": {},
   "outputs": [
    {
     "name": "stdout",
     "output_type": "stream",
     "text": [
      "['Red', 'Black', 'Brown', 'Yellow'] 4 <class 'list'> 2199061612480\n",
      "['Red', 'Black', 'Brown', 'Yellow', 'Silver', 'Magenta', 'Golden'] 7 <class 'list'> 2199061612480\n",
      "['Red', 'Black', 'Brown', 'Cyan', 'Yellow', 'Silver', 'Magenta', 'Golden'] 8 <class 'list'> 2199061612480\n",
      "['Red', 'Black', 'Brown', 'Cyan', 'Yellow', 'Silver', 'Magenta', 'Golden', 'Blue'] 9 <class 'list'> 2199061612480\n"
     ]
    }
   ],
   "source": [
    "list1 = ['Red', 'Black', 'Brown', 'Yellow']\n",
    "print (list1, len(list1), type(list1), id(list1))\n",
    "list1.append(\"Silver\")\n",
    "list1.append(\"Magenta\")\n",
    "list1.append(\"Golden\")\n",
    "print (list1, len(list1), type(list1), id(list1))\n",
    "list1.insert(3, \"Cyan\")\n",
    "print (list1, len(list1), type(list1), id(list1))\n",
    "list1.insert(500, \"Blue\")\n",
    "print (list1, len(list1), type(list1), id(list1))"
   ]
  },
  {
   "cell_type": "code",
   "execution_count": 135,
   "id": "b40b05ad-33b1-4451-bd88-78dd58452310",
   "metadata": {},
   "outputs": [
    {
     "name": "stdout",
     "output_type": "stream",
     "text": [
      "['Red', 'Black', 'Brown', 'Cyan', 'Yellow', 'Silver', 'Magenta', 'Golden'] 8 <class 'list'> 2199054465536\n"
     ]
    },
    {
     "ename": "NameError",
     "evalue": "name 'list1' is not defined",
     "output_type": "error",
     "traceback": [
      "\u001b[1;31m---------------------------------------------------------------------------\u001b[0m",
      "\u001b[1;31mNameError\u001b[0m                                 Traceback (most recent call last)",
      "\u001b[1;32m<ipython-input-135-647681fcefbf>\u001b[0m in \u001b[0;36m<module>\u001b[1;34m\u001b[0m\n\u001b[0;32m      2\u001b[0m \u001b[0mprint\u001b[0m \u001b[1;33m(\u001b[0m\u001b[0mlist1\u001b[0m\u001b[1;33m,\u001b[0m \u001b[0mlen\u001b[0m\u001b[1;33m(\u001b[0m\u001b[0mlist1\u001b[0m\u001b[1;33m)\u001b[0m\u001b[1;33m,\u001b[0m \u001b[0mtype\u001b[0m\u001b[1;33m(\u001b[0m\u001b[0mlist1\u001b[0m\u001b[1;33m)\u001b[0m\u001b[1;33m,\u001b[0m \u001b[0mid\u001b[0m\u001b[1;33m(\u001b[0m\u001b[0mlist1\u001b[0m\u001b[1;33m)\u001b[0m\u001b[1;33m)\u001b[0m\u001b[1;33m\u001b[0m\u001b[1;33m\u001b[0m\u001b[0m\n\u001b[0;32m      3\u001b[0m \u001b[1;32mdel\u001b[0m \u001b[0mlist1\u001b[0m\u001b[1;33m\u001b[0m\u001b[1;33m\u001b[0m\u001b[0m\n\u001b[1;32m----> 4\u001b[1;33m \u001b[0mprint\u001b[0m \u001b[1;33m(\u001b[0m\u001b[0mlist1\u001b[0m\u001b[1;33m,\u001b[0m \u001b[0mlen\u001b[0m\u001b[1;33m(\u001b[0m\u001b[0mlist1\u001b[0m\u001b[1;33m)\u001b[0m\u001b[1;33m,\u001b[0m \u001b[0mtype\u001b[0m\u001b[1;33m(\u001b[0m\u001b[0mlist1\u001b[0m\u001b[1;33m)\u001b[0m\u001b[1;33m,\u001b[0m \u001b[0mid\u001b[0m\u001b[1;33m(\u001b[0m\u001b[0mlist1\u001b[0m\u001b[1;33m)\u001b[0m\u001b[1;33m)\u001b[0m\u001b[1;33m\u001b[0m\u001b[1;33m\u001b[0m\u001b[0m\n\u001b[0m",
      "\u001b[1;31mNameError\u001b[0m: name 'list1' is not defined"
     ]
    }
   ],
   "source": [
    "list1 = ['Red', 'Black', 'Brown', 'Cyan', 'Yellow', 'Silver', 'Magenta', 'Golden']\n",
    "print (list1, len(list1), type(list1), id(list1))\n",
    "del list1\n",
    "print (list1, len(list1), type(list1), id(list1))"
   ]
  },
  {
   "cell_type": "code",
   "execution_count": 136,
   "id": "c097d83b-f15e-44c4-b811-e689ea82272a",
   "metadata": {},
   "outputs": [
    {
     "name": "stdout",
     "output_type": "stream",
     "text": [
      "['Red', 'Black', 'Brown', 'Cyan', 'Yellow', 'Silver', 'Magenta', 'Golden'] 8 <class 'list'> 2199053815488\n",
      "[] 0 <class 'list'> 2199053815488\n"
     ]
    }
   ],
   "source": [
    "list1 = ['Red', 'Black', 'Brown', 'Cyan', 'Yellow', 'Silver', 'Magenta', 'Golden']\n",
    "print (list1, len(list1), type(list1), id(list1))\n",
    "list1.clear()\n",
    "print (list1, len(list1), type(list1), id(list1))"
   ]
  },
  {
   "cell_type": "code",
   "execution_count": 138,
   "id": "829acd2c-dfe8-4ec8-b9b7-32274cd4faa8",
   "metadata": {},
   "outputs": [
    {
     "name": "stdout",
     "output_type": "stream",
     "text": [
      "['Red', 'Black', 'Brown', 'Cyan', 'Yellow', 'Silver', 'Magenta', 'Golden'] 8 <class 'list'> 2199063558400\n",
      "['Red', 'Black', 'Cyan', 'Yellow', 'Silver', 'Magenta', 'Golden'] 7 <class 'list'> 2199063558400\n",
      "['Red', 'Black', 'Yellow', 'Silver', 'Magenta', 'Golden'] 6 <class 'list'> 2199063558400\n"
     ]
    },
    {
     "ename": "ValueError",
     "evalue": "list.remove(x): x not in list",
     "output_type": "error",
     "traceback": [
      "\u001b[1;31m---------------------------------------------------------------------------\u001b[0m",
      "\u001b[1;31mValueError\u001b[0m                                Traceback (most recent call last)",
      "\u001b[1;32m<ipython-input-138-ae262204b5b3>\u001b[0m in \u001b[0;36m<module>\u001b[1;34m\u001b[0m\n\u001b[0;32m      5\u001b[0m \u001b[0mlist1\u001b[0m\u001b[1;33m.\u001b[0m\u001b[0mremove\u001b[0m\u001b[1;33m(\u001b[0m\u001b[1;34m\"Cyan\"\u001b[0m\u001b[1;33m)\u001b[0m\u001b[1;33m\u001b[0m\u001b[1;33m\u001b[0m\u001b[0m\n\u001b[0;32m      6\u001b[0m \u001b[0mprint\u001b[0m \u001b[1;33m(\u001b[0m\u001b[0mlist1\u001b[0m\u001b[1;33m,\u001b[0m \u001b[0mlen\u001b[0m\u001b[1;33m(\u001b[0m\u001b[0mlist1\u001b[0m\u001b[1;33m)\u001b[0m\u001b[1;33m,\u001b[0m \u001b[0mtype\u001b[0m\u001b[1;33m(\u001b[0m\u001b[0mlist1\u001b[0m\u001b[1;33m)\u001b[0m\u001b[1;33m,\u001b[0m \u001b[0mid\u001b[0m\u001b[1;33m(\u001b[0m\u001b[0mlist1\u001b[0m\u001b[1;33m)\u001b[0m\u001b[1;33m)\u001b[0m\u001b[1;33m\u001b[0m\u001b[1;33m\u001b[0m\u001b[0m\n\u001b[1;32m----> 7\u001b[1;33m \u001b[0mlist1\u001b[0m\u001b[1;33m.\u001b[0m\u001b[0mremove\u001b[0m\u001b[1;33m(\u001b[0m\u001b[1;34m\"Green\"\u001b[0m\u001b[1;33m)\u001b[0m\u001b[1;33m\u001b[0m\u001b[1;33m\u001b[0m\u001b[0m\n\u001b[0m\u001b[0;32m      8\u001b[0m \u001b[0mprint\u001b[0m \u001b[1;33m(\u001b[0m\u001b[0mlist1\u001b[0m\u001b[1;33m,\u001b[0m \u001b[0mlen\u001b[0m\u001b[1;33m(\u001b[0m\u001b[0mlist1\u001b[0m\u001b[1;33m)\u001b[0m\u001b[1;33m,\u001b[0m \u001b[0mtype\u001b[0m\u001b[1;33m(\u001b[0m\u001b[0mlist1\u001b[0m\u001b[1;33m)\u001b[0m\u001b[1;33m,\u001b[0m \u001b[0mid\u001b[0m\u001b[1;33m(\u001b[0m\u001b[0mlist1\u001b[0m\u001b[1;33m)\u001b[0m\u001b[1;33m)\u001b[0m\u001b[1;33m\u001b[0m\u001b[1;33m\u001b[0m\u001b[0m\n",
      "\u001b[1;31mValueError\u001b[0m: list.remove(x): x not in list"
     ]
    }
   ],
   "source": [
    "list1 = ['Red', 'Black', 'Brown', 'Cyan', 'Yellow', 'Silver', 'Magenta', 'Golden']\n",
    "print (list1, len(list1), type(list1), id(list1))\n",
    "list1.remove(\"Brown\")\n",
    "print (list1, len(list1), type(list1), id(list1))\n",
    "list1.remove(\"Cyan\")\n",
    "print (list1, len(list1), type(list1), id(list1))\n",
    "list1.remove(\"Green\")\n",
    "print (list1, len(list1), type(list1), id(list1))"
   ]
  },
  {
   "cell_type": "code",
   "execution_count": 139,
   "id": "a6e73746-db56-4560-994f-134a7eadf7e2",
   "metadata": {},
   "outputs": [
    {
     "name": "stdout",
     "output_type": "stream",
     "text": [
      "['Red', 'Black', 'Brown', 'Cyan', 'Yellow', 'Silver', 'Magenta', 'Golden'] 8 <class 'list'> 2199068070016\n",
      "Golden\n",
      "Magenta\n",
      "Silver\n",
      "Yellow\n",
      "['Red', 'Black', 'Brown', 'Cyan'] 4 <class 'list'> 2199068070016\n"
     ]
    }
   ],
   "source": [
    "list1 = ['Red', 'Black', 'Brown', 'Cyan', 'Yellow', 'Silver', 'Magenta', 'Golden']\n",
    "print (list1, len(list1), type(list1), id(list1))\n",
    "print (list1.pop())\n",
    "print (list1.pop())\n",
    "print (list1.pop())\n",
    "print (list1.pop())\n",
    "print (list1, len(list1), type(list1), id(list1))"
   ]
  },
  {
   "cell_type": "code",
   "execution_count": 140,
   "id": "3de37eff-7be5-4a84-bf86-e9bfac9af103",
   "metadata": {},
   "outputs": [
    {
     "name": "stdout",
     "output_type": "stream",
     "text": [
      "['Red', 'Black', 'Brown', 'Cyan', 'Yellow', 'Silver', 'Magenta', 'Golden'] 8 <class 'list'> 2199053425472\n",
      "Cyan\n",
      "['Red', 'Black', 'Brown', 'Yellow', 'Silver', 'Magenta', 'Golden'] 7 <class 'list'> 2199053425472\n",
      "Silver\n",
      "['Red', 'Black', 'Brown', 'Yellow', 'Magenta', 'Golden'] 6 <class 'list'> 2199053425472\n",
      "Brown\n",
      "['Red', 'Black', 'Yellow', 'Magenta', 'Golden'] 5 <class 'list'> 2199053425472\n",
      "Black\n",
      "['Red', 'Yellow', 'Magenta', 'Golden'] 4 <class 'list'> 2199053425472\n"
     ]
    }
   ],
   "source": [
    "list1 = ['Red', 'Black', 'Brown', 'Cyan', 'Yellow', 'Silver', 'Magenta', 'Golden']\n",
    "print (list1, len(list1), type(list1), id(list1))\n",
    "print (list1.pop(3))\n",
    "print (list1, len(list1), type(list1), id(list1))\n",
    "print (list1.pop(4))\n",
    "print (list1, len(list1), type(list1), id(list1))\n",
    "print (list1.pop(2))\n",
    "print (list1, len(list1), type(list1), id(list1))\n",
    "print (list1.pop(1))\n",
    "print (list1, len(list1), type(list1), id(list1))"
   ]
  },
  {
   "cell_type": "code",
   "execution_count": 141,
   "id": "76ccaddd-80d6-40fe-918e-86d0e1ae7dfd",
   "metadata": {},
   "outputs": [
    {
     "name": "stdout",
     "output_type": "stream",
     "text": [
      "['Red', 'Black', 'Brown', 'Cyan', 'Yellow'] 5 <class 'list'> 2199061767232\n",
      "['Red', 'Black', 'Brown', 'Silver', 'Yellow'] 5 <class 'list'> 2199061767232\n",
      "['Red', 'Black', 'Brown', 'Silver', 'Golden'] 5 <class 'list'> 2199061767232\n"
     ]
    }
   ],
   "source": [
    "list1 = ['Red', 'Black', 'Brown', 'Cyan', 'Yellow']\n",
    "print (list1, len(list1), type(list1), id(list1))\n",
    "list1[3] = \"Silver\"\n",
    "print (list1, len(list1), type(list1), id(list1))\n",
    "list1[4] = \"Golden\"\n",
    "print (list1, len(list1), type(list1), id(list1))"
   ]
  },
  {
   "cell_type": "code",
   "execution_count": 143,
   "id": "bdc96cb4-4967-4bfa-9ac0-7a757a974c4a",
   "metadata": {},
   "outputs": [
    {
     "name": "stdout",
     "output_type": "stream",
     "text": [
      "['Red', 'Black', 'Brown', 'Cyan', 'Yellow'] 5 <class 'list'> 2199057196032\n",
      "['Black', 'Brown', 'Cyan', 'Red', 'Yellow'] 5 <class 'list'> 2199057196032\n",
      "['Yellow', 'Red', 'Cyan', 'Brown', 'Black'] 5 <class 'list'> 2199057196032\n"
     ]
    }
   ],
   "source": [
    "list1 = ['Red', 'Black', 'Brown', 'Cyan', 'Yellow']\n",
    "print (list1, len(list1), type(list1), id(list1))\n",
    "list1.sort()\n",
    "print (list1, len(list1), type(list1), id(list1))\n",
    "list1.sort(reverse=True)\n",
    "print (list1, len(list1), type(list1), id(list1))"
   ]
  },
  {
   "cell_type": "code",
   "execution_count": 144,
   "id": "149aa4e6-6e23-4b21-82ba-97e0984d84df",
   "metadata": {},
   "outputs": [
    {
     "name": "stdout",
     "output_type": "stream",
     "text": [
      "['Red', 'Black', 'Brown', 'Cyan', 'Yellow'] 5 <class 'list'> 2199061222400\n",
      "['Black', 'Brown', 'Cyan', 'Red', 'Yellow'] 5 <class 'list'> 2199061225088\n",
      "['Yellow', 'Red', 'Cyan', 'Brown', 'Black'] 5 <class 'list'> 2199057642816\n"
     ]
    }
   ],
   "source": [
    "list1 = ['Red', 'Black', 'Brown', 'Cyan', 'Yellow']\n",
    "print (list1, len(list1), type(list1), id(list1))\n",
    "list1 = sorted(list1)\n",
    "print (list1, len(list1), type(list1), id(list1))\n",
    "list1 = sorted(list1, reverse=True)\n",
    "print (list1, len(list1), type(list1), id(list1))"
   ]
  },
  {
   "cell_type": "code",
   "execution_count": 148,
   "id": "d7db4106-f7b4-4667-9583-f6526f912ec1",
   "metadata": {},
   "outputs": [
    {
     "name": "stdout",
     "output_type": "stream",
     "text": [
      "['Red', 'Black', 'Brown', 'Cyan', 'Yellow'] 5 <class 'list'> 2199060958336\n",
      "True True\n",
      "['Red', 'Black', 'Brown', False, 'Cyan', 'Yellow'] 6 <class 'list'> 2199060901056\n",
      "False True\n",
      "['Red', 'Black', '', 'Cyan', 'Yellow'] 5 <class 'list'> 2199061299328\n",
      "False True\n",
      "['', '', '', ''] 4 <class 'list'> 2199060463168\n",
      "False False\n"
     ]
    }
   ],
   "source": [
    "list1 = ['Red', 'Black', 'Brown', 'Cyan', 'Yellow']\n",
    "print (list1, len(list1), type(list1), id(list1))\n",
    "print (all(list1), any(list1))\n",
    "list1 = ['Red', 'Black', 'Brown', False, 'Cyan', 'Yellow']\n",
    "print (list1, len(list1), type(list1), id(list1))\n",
    "print (all(list1), any(list1))\n",
    "list1 = ['Red', 'Black', '', 'Cyan', 'Yellow']\n",
    "print (list1, len(list1), type(list1), id(list1))\n",
    "print (all(list1), any(list1))\n",
    "list1 = ['', '', '', '']\n",
    "print (list1, len(list1), type(list1), id(list1))\n",
    "print (all(list1), any(list1))"
   ]
  },
  {
   "cell_type": "code",
   "execution_count": 150,
   "id": "f666f53b-dc7d-4acc-9b71-57854801e942",
   "metadata": {},
   "outputs": [
    {
     "name": "stdout",
     "output_type": "stream",
     "text": [
      "['Red', 'Black', 'Brown', 'Cyan', 'Yellow'] 5 <class 'list'> 2199058782656\n",
      "1 3\n"
     ]
    },
    {
     "ename": "ValueError",
     "evalue": "'Silver' is not in list",
     "output_type": "error",
     "traceback": [
      "\u001b[1;31m---------------------------------------------------------------------------\u001b[0m",
      "\u001b[1;31mValueError\u001b[0m                                Traceback (most recent call last)",
      "\u001b[1;32m<ipython-input-150-d9a86219478c>\u001b[0m in \u001b[0;36m<module>\u001b[1;34m\u001b[0m\n\u001b[0;32m      2\u001b[0m \u001b[0mprint\u001b[0m \u001b[1;33m(\u001b[0m\u001b[0mlist1\u001b[0m\u001b[1;33m,\u001b[0m \u001b[0mlen\u001b[0m\u001b[1;33m(\u001b[0m\u001b[0mlist1\u001b[0m\u001b[1;33m)\u001b[0m\u001b[1;33m,\u001b[0m \u001b[0mtype\u001b[0m\u001b[1;33m(\u001b[0m\u001b[0mlist1\u001b[0m\u001b[1;33m)\u001b[0m\u001b[1;33m,\u001b[0m \u001b[0mid\u001b[0m\u001b[1;33m(\u001b[0m\u001b[0mlist1\u001b[0m\u001b[1;33m)\u001b[0m\u001b[1;33m)\u001b[0m\u001b[1;33m\u001b[0m\u001b[1;33m\u001b[0m\u001b[0m\n\u001b[0;32m      3\u001b[0m \u001b[0mprint\u001b[0m \u001b[1;33m(\u001b[0m\u001b[0mlist1\u001b[0m\u001b[1;33m.\u001b[0m\u001b[0mindex\u001b[0m\u001b[1;33m(\u001b[0m\u001b[1;34m\"Black\"\u001b[0m\u001b[1;33m)\u001b[0m\u001b[1;33m,\u001b[0m \u001b[0mlist1\u001b[0m\u001b[1;33m.\u001b[0m\u001b[0mindex\u001b[0m\u001b[1;33m(\u001b[0m\u001b[1;34m\"Cyan\"\u001b[0m\u001b[1;33m)\u001b[0m\u001b[1;33m)\u001b[0m\u001b[1;33m\u001b[0m\u001b[1;33m\u001b[0m\u001b[0m\n\u001b[1;32m----> 4\u001b[1;33m \u001b[0mprint\u001b[0m \u001b[1;33m(\u001b[0m\u001b[0mlist1\u001b[0m\u001b[1;33m.\u001b[0m\u001b[0mindex\u001b[0m\u001b[1;33m(\u001b[0m\u001b[1;34m\"Silver\"\u001b[0m\u001b[1;33m)\u001b[0m\u001b[1;33m)\u001b[0m\u001b[1;33m\u001b[0m\u001b[1;33m\u001b[0m\u001b[0m\n\u001b[0m",
      "\u001b[1;31mValueError\u001b[0m: 'Silver' is not in list"
     ]
    }
   ],
   "source": [
    "list1 = ['Red', 'Black', 'Brown', 'Cyan', 'Yellow']\n",
    "print (list1, len(list1), type(list1), id(list1))\n",
    "print (list1.index(\"Black\"), list1.index(\"Cyan\"))\n",
    "print (list1.index(\"Silver\"))"
   ]
  },
  {
   "cell_type": "code",
   "execution_count": 153,
   "id": "d2a99e4a-ef84-403e-afc9-20c63b07ab99",
   "metadata": {},
   "outputs": [
    {
     "name": "stdout",
     "output_type": "stream",
     "text": [
      "['Red', 'Black', 'Brown', 'Cyan', 'Yellow', 'Brown', 'Cyan', 'Yellow'] 8 <class 'list'> 2199055253696\n",
      "2 2 1\n"
     ]
    }
   ],
   "source": [
    "list1 = ['Red', 'Black', 'Brown', 'Cyan', 'Yellow', 'Brown', 'Cyan', 'Yellow']\n",
    "print (list1, len(list1), type(list1), id(list1))\n",
    "print (list1.count('Yellow'), list1.count('Cyan'), list1.count('Red'))"
   ]
  },
  {
   "cell_type": "code",
   "execution_count": null,
   "id": "9baa94ae-d5f7-44d7-a9e2-92b851365320",
   "metadata": {},
   "outputs": [],
   "source": [
    "help(list)"
   ]
  },
  {
   "cell_type": "markdown",
   "id": "868b19da-b9a4-4917-96f7-ad9b4dbd0a5f",
   "metadata": {},
   "source": [
    "**Class Assignment-2**\n",
    "* Take n number of numbers from the user and put them in a list and print it.\n",
    "* Then split the list into even_list and odd_list depending on whether the number is even or odd.\n",
    "* And print those two newly created lists."
   ]
  },
  {
   "cell_type": "code",
   "execution_count": 155,
   "id": "a73a4978-902d-4b6b-8788-21be58b80cff",
   "metadata": {},
   "outputs": [
    {
     "name": "stdin",
     "output_type": "stream",
     "text": [
      "Please enter the number of terms:  5\n",
      "Please enter item number 0:  22\n",
      "Please enter item number 1:  11\n",
      "Please enter item number 2:  44\n",
      "Please enter item number 3:  33\n",
      "Please enter item number 4:  66\n"
     ]
    },
    {
     "name": "stdout",
     "output_type": "stream",
     "text": [
      "So the data list is [22, 11, 44, 33, 66]\n",
      "Now segregating numbers into even list and odd list...\n",
      "So the list containing EVEN numbers: [22, 44, 66]\n",
      "So the list containing ODD numbers: [11, 33]\n",
      "End of the program...\n"
     ]
    }
   ],
   "source": [
    "num = int(input(\"Please enter the number of terms: \"))\n",
    "num_list = []\n",
    "for i in range(num):\n",
    "    data = int(input(\"Please enter item number \" + str(i) + \": \"))\n",
    "    num_list.append(data)\n",
    "print (\"So the data list is\", num_list)\n",
    "print (\"Now segregating numbers into even list and odd list...\")\n",
    "even_list = []\n",
    "odd_list = []\n",
    "for data in num_list:\n",
    "    if (data % 2 == 0):\n",
    "        even_list.append(data)\n",
    "    else:\n",
    "        odd_list.append(data)\n",
    "print (\"So the list containing EVEN numbers:\", even_list)\n",
    "print (\"So the list containing ODD numbers:\", odd_list)\n",
    "print (\"End of the program...\")"
   ]
  },
  {
   "cell_type": "markdown",
   "id": "60b9ab95-79c2-49d2-9b91-e18056cfda61",
   "metadata": {},
   "source": [
    "### Dealing with Tuple\n",
    "> A tuple consists of items of same or different data types separated by commas and enclosed within (). Tuple is immutable[]. That means we can not perform insert, delete and update operations."
   ]
  },
  {
   "cell_type": "code",
   "execution_count": 156,
   "id": "5ae23c94-04cf-4c2b-9ef8-0efbd8f8a2ce",
   "metadata": {},
   "outputs": [
    {
     "name": "stdout",
     "output_type": "stream",
     "text": [
      "(100, 400, False, 200.5, 300, 500, True) 7 <class 'tuple'> 2199037333120\n",
      "500 False\n",
      "1501.5 214.5\n"
     ]
    }
   ],
   "source": [
    "tuple1 = (100, 400, False, 200.5, 300, 500, True)\n",
    "print (tuple1, len(tuple1), type(tuple1), id(tuple1))\n",
    "print (max(tuple1), min(tuple1))\n",
    "print (sum(tuple1), sum(tuple1)/len(tuple1))"
   ]
  },
  {
   "cell_type": "code",
   "execution_count": 158,
   "id": "2ce6191c-f4e3-4bd2-81f9-1ba3a63bd011",
   "metadata": {},
   "outputs": [
    {
     "name": "stdout",
     "output_type": "stream",
     "text": [
      "('Monday', 'Friday', 'Tuesday', 'Thursday') 4 <class 'tuple'> 2199065385856\n",
      "Tuesday Friday\n"
     ]
    }
   ],
   "source": [
    "tuple1 = (\"Monday\", \"Friday\", \"Tuesday\", \"Thursday\")\n",
    "print (tuple1, len(tuple1), type(tuple1), id(tuple1))\n",
    "print (max(tuple1), min(tuple1))\n",
    "# print (sum(tuple1), sum(tuple1)/len(tuple1))"
   ]
  },
  {
   "cell_type": "code",
   "execution_count": 161,
   "id": "51d07899-05d9-42e7-8d6c-79e204fb6173",
   "metadata": {},
   "outputs": [
    {
     "name": "stdout",
     "output_type": "stream",
     "text": [
      "('Monday', 'Friday', 100, 'Tuesday', 34.56, True, 'Thursday') 7 <class 'tuple'> 2199037333120\n"
     ]
    }
   ],
   "source": [
    "tuple1 = (\"Monday\", \"Friday\", 100, \"Tuesday\", 34.56, True,\"Thursday\")\n",
    "print (tuple1, len(tuple1), type(tuple1), id(tuple1))\n",
    "# print (max(tuple1), min(tuple1))\n",
    "# print (sum(tuple1), sum(tuple1)/len(tuple1))"
   ]
  },
  {
   "cell_type": "code",
   "execution_count": 162,
   "id": "e773e515-49a6-40b4-b7da-3458e869d660",
   "metadata": {},
   "outputs": [
    {
     "name": "stdout",
     "output_type": "stream",
     "text": [
      "('Monday', 'Friday', 'Tuesday', 'Thursday') 4\n",
      "Friday Friday\n",
      "('Friday', 'Tuesday', 'Thursday') ('Friday', 'Tuesday', 'Thursday')\n",
      "esd esd\n"
     ]
    }
   ],
   "source": [
    "# indexing and slicing\n",
    "#  L2R =>   0         1         2          3\n",
    "daytuple = (\"Monday\", \"Friday\", \"Tuesday\", \"Thursday\")\n",
    "#  R2L =>  -4        -3        -2         -1 \n",
    "print (daytuple, len(daytuple))\n",
    "print (daytuple[1], daytuple[-3])\n",
    "print (daytuple[1:], daytuple[-3:])\n",
    "print (daytuple[2][2:5], daytuple[-2][-5:-2])"
   ]
  },
  {
   "cell_type": "code",
   "execution_count": 3,
   "id": "4fed2eb8-f99b-449d-ad02-c81350d53f01",
   "metadata": {},
   "outputs": [
    {
     "name": "stdout",
     "output_type": "stream",
     "text": [
      "('Red', 'Black', 'Brown', 'Yellow') 4\n",
      "('Monday', 'Friday', 'Tuesday', 'Thursday') 4\n",
      "('Red', 'Black', 'Brown', 'Yellow', 'Monday', 'Friday', 'Tuesday', 'Thursday') 8\n",
      "('Monday', 'Friday', 'Tuesday', 'Thursday', 'Red', 'Black', 'Brown', 'Yellow') 8\n"
     ]
    }
   ],
   "source": [
    "colortuple = (\"Red\", \"Black\", \"Brown\", \"Yellow\")\n",
    "print (colortuple, len(colortuple))\n",
    "daytuple = (\"Monday\", \"Friday\", \"Tuesday\", \"Thursday\")\n",
    "print (daytuple, len(daytuple))\n",
    "tuple1 = colortuple + daytuple\n",
    "print (tuple1, len(tuple1))\n",
    "tuple1 = daytuple + colortuple\n",
    "print (tuple1, len(tuple1))"
   ]
  },
  {
   "cell_type": "code",
   "execution_count": 5,
   "id": "ed372d29-5886-4aca-b220-b41b58417def",
   "metadata": {},
   "outputs": [
    {
     "name": "stdout",
     "output_type": "stream",
     "text": [
      "('Red', 'Black', 'Brown', 'Yellow') 4\n",
      "('Monday', 'Friday', 'Tuesday', 'Thursday') 4\n",
      "(('Red', 'Black', 'Brown', 'Yellow'), ('Monday', 'Friday', 'Tuesday', 'Thursday')) 2\n",
      "('Monday', 'Friday', 'Tuesday', 'Thursday', 'Red', 'Black', 'Brown', 'Yellow') 8\n"
     ]
    }
   ],
   "source": [
    "colortuple = (\"Red\", \"Black\", \"Brown\", \"Yellow\")\n",
    "print (colortuple, len(colortuple))\n",
    "daytuple = (\"Monday\", \"Friday\", \"Tuesday\", \"Thursday\")\n",
    "print (daytuple, len(daytuple))\n",
    "tuple1 = (colortuple, daytuple)   # tuple of tuples\n",
    "print (tuple1, len(tuple1))\n",
    "tuple2 = daytuple + colortuple    # tuple concatenation\n",
    "print (tuple2, len(tuple2))"
   ]
  },
  {
   "cell_type": "code",
   "execution_count": 6,
   "id": "c6f81e2b-84ec-4ced-b96e-fc21a8bc8a94",
   "metadata": {},
   "outputs": [
    {
     "name": "stdout",
     "output_type": "stream",
     "text": [
      "Tuesday Tuesday\n",
      "row row\n"
     ]
    }
   ],
   "source": [
    "tuple1 = (('Red', 'Black', 'Brown', 'Yellow'), ('Monday', 'Friday', 'Tuesday', 'Thursday'))\n",
    "print (tuple1[1][2], tuple1[-1][-2])  # indexing\n",
    "print (tuple1[0][2][1:4], tuple1[-2][-2][-4:-1])  # slicing"
   ]
  },
  {
   "cell_type": "code",
   "execution_count": 11,
   "id": "f898e87f-800d-4bf9-a73a-ea8cb105a449",
   "metadata": {},
   "outputs": [
    {
     "name": "stdout",
     "output_type": "stream",
     "text": [
      "('Red', 'Black', 'Brown', 'Yellow') 4\n",
      "0\n",
      "2\n"
     ]
    },
    {
     "ename": "ValueError",
     "evalue": "tuple.index(x): x not in tuple",
     "output_type": "error",
     "traceback": [
      "\u001b[1;31m---------------------------------------------------------------------------\u001b[0m",
      "\u001b[1;31mValueError\u001b[0m                                Traceback (most recent call last)",
      "\u001b[1;32m<ipython-input-11-038296ee2237>\u001b[0m in \u001b[0;36m<module>\u001b[1;34m\u001b[0m\n\u001b[0;32m      3\u001b[0m \u001b[0mprint\u001b[0m \u001b[1;33m(\u001b[0m\u001b[0mcolortuple\u001b[0m\u001b[1;33m.\u001b[0m\u001b[0mindex\u001b[0m\u001b[1;33m(\u001b[0m\u001b[1;34m\"Red\"\u001b[0m\u001b[1;33m)\u001b[0m\u001b[1;33m)\u001b[0m\u001b[1;33m\u001b[0m\u001b[1;33m\u001b[0m\u001b[0m\n\u001b[0;32m      4\u001b[0m \u001b[0mprint\u001b[0m \u001b[1;33m(\u001b[0m\u001b[0mcolortuple\u001b[0m\u001b[1;33m.\u001b[0m\u001b[0mindex\u001b[0m\u001b[1;33m(\u001b[0m\u001b[1;34m\"Brown\"\u001b[0m\u001b[1;33m)\u001b[0m\u001b[1;33m)\u001b[0m\u001b[1;33m\u001b[0m\u001b[1;33m\u001b[0m\u001b[0m\n\u001b[1;32m----> 5\u001b[1;33m \u001b[0mprint\u001b[0m \u001b[1;33m(\u001b[0m\u001b[0mcolortuple\u001b[0m\u001b[1;33m.\u001b[0m\u001b[0mindex\u001b[0m\u001b[1;33m(\u001b[0m\u001b[1;34m\"yellow\"\u001b[0m\u001b[1;33m)\u001b[0m\u001b[1;33m)\u001b[0m\u001b[1;33m\u001b[0m\u001b[1;33m\u001b[0m\u001b[0m\n\u001b[0m",
      "\u001b[1;31mValueError\u001b[0m: tuple.index(x): x not in tuple"
     ]
    }
   ],
   "source": [
    "colortuple = (\"Red\", \"Black\", \"Brown\", \"Yellow\")\n",
    "print (colortuple, len(colortuple))\n",
    "print (colortuple.index(\"Red\"))\n",
    "print (colortuple.index(\"Brown\"))\n",
    "print (colortuple.index(\"yellow\"))"
   ]
  },
  {
   "cell_type": "code",
   "execution_count": 10,
   "id": "1bd1d927-b34d-4157-853c-276ec2c20def",
   "metadata": {},
   "outputs": [
    {
     "name": "stdout",
     "output_type": "stream",
     "text": [
      "('Red', 'Black', 'Brown', 'Yellow', 'Black', 'Brown', 'Yellow', 'Black', 'Brown', 'Yellow') 10\n",
      "1\n",
      "3\n",
      "0\n"
     ]
    }
   ],
   "source": [
    "colortuple = (\"Red\", \"Black\", \"Brown\", \"Yellow\", \"Black\", \"Brown\", \"Yellow\", \"Black\", \"Brown\", \"Yellow\")\n",
    "print (colortuple, len(colortuple))\n",
    "print (colortuple.count(\"Red\"))\n",
    "print (colortuple.count(\"Brown\"))\n",
    "print (colortuple.count(\"Green\"))"
   ]
  },
  {
   "cell_type": "code",
   "execution_count": 15,
   "id": "887dcee4-1828-4582-af5d-d7d1b6ba230d",
   "metadata": {},
   "outputs": [
    {
     "name": "stdout",
     "output_type": "stream",
     "text": [
      "('Red', 'Black', 'Brown', 'Yellow') 4 2658962566176\n",
      "['Red', 'Black', 'Brown', 'Yellow'] 4 2658968293312\n",
      "['Red', 'Black', 'Green', 'Yellow'] 4 2658968293312\n",
      "('Red', 'Black', 'Green', 'Yellow') 4 2658962565776\n"
     ]
    }
   ],
   "source": [
    "colortuple = (\"Red\", \"Black\", \"Brown\", \"Yellow\")\n",
    "print (colortuple, len(colortuple), id(colortuple))\n",
    "# colortuple[2] = \"Green\"\n",
    "colorlist = list(colortuple)\n",
    "print(colorlist, len(colorlist), id(colorlist))\n",
    "colorlist[2] = \"Green\"\n",
    "print(colorlist, len(colorlist), id(colorlist))\n",
    "colortuple = tuple(colorlist)\n",
    "print (colortuple, len(colortuple), id(colortuple))"
   ]
  },
  {
   "cell_type": "code",
   "execution_count": 37,
   "id": "ddae8d64-4c47-496e-a278-bcac23a2dc19",
   "metadata": {},
   "outputs": [
    {
     "name": "stdout",
     "output_type": "stream",
     "text": [
      "('Red', 'Black', 'Brown', 'Yellow') 4 2658949625872\n"
     ]
    },
    {
     "ename": "NameError",
     "evalue": "name 'colortuple' is not defined",
     "output_type": "error",
     "traceback": [
      "\u001b[1;31m---------------------------------------------------------------------------\u001b[0m",
      "\u001b[1;31mNameError\u001b[0m                                 Traceback (most recent call last)",
      "\u001b[1;32m<ipython-input-37-a10c05918267>\u001b[0m in \u001b[0;36m<module>\u001b[1;34m\u001b[0m\n\u001b[0;32m      2\u001b[0m \u001b[0mprint\u001b[0m \u001b[1;33m(\u001b[0m\u001b[0mcolortuple\u001b[0m\u001b[1;33m,\u001b[0m \u001b[0mlen\u001b[0m\u001b[1;33m(\u001b[0m\u001b[0mcolortuple\u001b[0m\u001b[1;33m)\u001b[0m\u001b[1;33m,\u001b[0m \u001b[0mid\u001b[0m\u001b[1;33m(\u001b[0m\u001b[0mcolortuple\u001b[0m\u001b[1;33m)\u001b[0m\u001b[1;33m)\u001b[0m\u001b[1;33m\u001b[0m\u001b[1;33m\u001b[0m\u001b[0m\n\u001b[0;32m      3\u001b[0m \u001b[1;32mdel\u001b[0m \u001b[0mcolortuple\u001b[0m\u001b[1;33m\u001b[0m\u001b[1;33m\u001b[0m\u001b[0m\n\u001b[1;32m----> 4\u001b[1;33m \u001b[0mprint\u001b[0m \u001b[1;33m(\u001b[0m\u001b[0mcolortuple\u001b[0m\u001b[1;33m,\u001b[0m \u001b[0mlen\u001b[0m\u001b[1;33m(\u001b[0m\u001b[0mcolortuple\u001b[0m\u001b[1;33m)\u001b[0m\u001b[1;33m,\u001b[0m \u001b[0mid\u001b[0m\u001b[1;33m(\u001b[0m\u001b[0mcolortuple\u001b[0m\u001b[1;33m)\u001b[0m\u001b[1;33m)\u001b[0m\u001b[1;33m\u001b[0m\u001b[1;33m\u001b[0m\u001b[0m\n\u001b[0m",
      "\u001b[1;31mNameError\u001b[0m: name 'colortuple' is not defined"
     ]
    }
   ],
   "source": [
    "colortuple = (\"Red\", \"Black\", \"Brown\", \"Yellow\")\n",
    "print (colortuple, len(colortuple), id(colortuple))\n",
    "del colortuple\n",
    "print (colortuple, len(colortuple), id(colortuple))"
   ]
  },
  {
   "cell_type": "markdown",
   "id": "6d637ebf-f107-4502-b6e2-63d345cd6839",
   "metadata": {},
   "source": [
    "### Dealing with Dictionary\n",
    "> Dictionary is a collection of Key-Value pairs enclosed within {}. All keys must be unique and values may repeat. All keys must be of immutable datatype. "
   ]
  },
  {
   "cell_type": "code",
   "execution_count": 23,
   "id": "6da7dcea-efee-452b-ae6f-477bd606d0c1",
   "metadata": {},
   "outputs": [
    {
     "name": "stdout",
     "output_type": "stream",
     "text": [
      "{'mango': 100, 'banana': 200, 'pineapple': 500, 'apple': 400} 4 <class 'dict'> 2658970197440\n",
      "dict_items([('mango', 100), ('banana', 200), ('pineapple', 500), ('apple', 400)])\n",
      "dict_keys(['mango', 'banana', 'pineapple', 'apple'])\n",
      "dict_values([100, 200, 500, 400])\n"
     ]
    }
   ],
   "source": [
    "dict1 = {\"mango\":100, \"banana\":200, \"pineapple\":500, \"apple\":400}\n",
    "print (dict1, len(dict1), type(dict1), id(dict1))\n",
    "print (dict1.items())  # returns list of tuples\n",
    "print (dict1.keys())    # returns a list\n",
    "print (dict1.values())  # returns a list"
   ]
  },
  {
   "cell_type": "code",
   "execution_count": 28,
   "id": "6fc951d1-73f1-42a3-aebd-f54cd0947eef",
   "metadata": {},
   "outputs": [
    {
     "name": "stdout",
     "output_type": "stream",
     "text": [
      "{'mango': 100, 'banana': 200, 'pineapple': 500, 'apple': 400} 4 <class 'dict'> 2658971810112\n",
      "200\n",
      "500\n",
      "None\n",
      "Not in the dictionary...\n",
      "400\n"
     ]
    }
   ],
   "source": [
    "dict1 = {\"mango\":100, \"banana\":200, \"pineapple\":500, \"apple\":400}\n",
    "print (dict1, len(dict1), type(dict1), id(dict1))\n",
    "print (dict1.get(\"banana\"))\n",
    "print (dict1.get(\"pineapple\"))\n",
    "print (dict1.get(\"goava\"))\n",
    "print (dict1.get(\"goava\", \"Not in the dictionary...\"))\n",
    "print (dict1.get(\"apple\", \"Not in the dictionary...\"))"
   ]
  },
  {
   "cell_type": "code",
   "execution_count": 32,
   "id": "da8f4ec0-1403-4962-8652-7732c44483e8",
   "metadata": {},
   "outputs": [
    {
     "name": "stdout",
     "output_type": "stream",
     "text": [
      "{'mango': 100, 'banana': 200, 'pineapple': 500, 'apple': 400} 4 <class 'dict'> 2658971727744\n",
      "200\n",
      "500\n"
     ]
    },
    {
     "ename": "KeyError",
     "evalue": "'goava'",
     "output_type": "error",
     "traceback": [
      "\u001b[1;31m---------------------------------------------------------------------------\u001b[0m",
      "\u001b[1;31mKeyError\u001b[0m                                  Traceback (most recent call last)",
      "\u001b[1;32m<ipython-input-32-aae1a4ba32ee>\u001b[0m in \u001b[0;36m<module>\u001b[1;34m\u001b[0m\n\u001b[0;32m      3\u001b[0m \u001b[0mprint\u001b[0m \u001b[1;33m(\u001b[0m\u001b[0mdict1\u001b[0m\u001b[1;33m[\u001b[0m\u001b[1;34m\"banana\"\u001b[0m\u001b[1;33m]\u001b[0m\u001b[1;33m)\u001b[0m\u001b[1;33m\u001b[0m\u001b[1;33m\u001b[0m\u001b[0m\n\u001b[0;32m      4\u001b[0m \u001b[0mprint\u001b[0m \u001b[1;33m(\u001b[0m\u001b[0mdict1\u001b[0m\u001b[1;33m[\u001b[0m\u001b[1;34m\"pineapple\"\u001b[0m\u001b[1;33m]\u001b[0m\u001b[1;33m)\u001b[0m\u001b[1;33m\u001b[0m\u001b[1;33m\u001b[0m\u001b[0m\n\u001b[1;32m----> 5\u001b[1;33m \u001b[0mprint\u001b[0m \u001b[1;33m(\u001b[0m\u001b[0mdict1\u001b[0m\u001b[1;33m[\u001b[0m\u001b[1;34m\"goava\"\u001b[0m\u001b[1;33m]\u001b[0m\u001b[1;33m)\u001b[0m\u001b[1;33m\u001b[0m\u001b[1;33m\u001b[0m\u001b[0m\n\u001b[0m",
      "\u001b[1;31mKeyError\u001b[0m: 'goava'"
     ]
    }
   ],
   "source": [
    "dict1 = {\"mango\":100, \"banana\":200, \"pineapple\":500, \"apple\":400}\n",
    "print (dict1, len(dict1), type(dict1), id(dict1))\n",
    "print (dict1[\"banana\"])\n",
    "print (dict1[\"pineapple\"])\n",
    "print (dict1[\"goava\"])"
   ]
  },
  {
   "cell_type": "code",
   "execution_count": 34,
   "id": "8a5e0de4-0953-4259-8978-cd43edb16b22",
   "metadata": {},
   "outputs": [
    {
     "name": "stdout",
     "output_type": "stream",
     "text": [
      "{'mango': 100, 'banana': 200, 'pineapple': 500, 'apple': 400} 4 <class 'dict'> 2658971590208\n",
      "{'mango': 100, 'banana': 200, 'pineapple': 500, 'apple': 400, 'orange': 750} 5 <class 'dict'> 2658971590208\n",
      "{'mango': 100, 'banana': 1050, 'pineapple': 500, 'apple': 400, 'orange': 750} 5 <class 'dict'> 2658971590208\n"
     ]
    }
   ],
   "source": [
    "dict1 = {\"mango\":100, \"banana\":200, \"pineapple\":500, \"apple\":400}\n",
    "print (dict1, len(dict1), type(dict1), id(dict1))\n",
    "dict1[\"orange\"] = 750   # insert operation\n",
    "print (dict1, len(dict1), type(dict1), id(dict1))\n",
    "dict1[\"banana\"] = 1050   # update operation\n",
    "print (dict1, len(dict1), type(dict1), id(dict1))"
   ]
  },
  {
   "cell_type": "code",
   "execution_count": 35,
   "id": "8ba60545-57d8-4e00-a2f3-f851723e0edf",
   "metadata": {},
   "outputs": [
    {
     "name": "stdout",
     "output_type": "stream",
     "text": [
      "{'mango': 100, 'banana': 1050, 'pineapple': 500, 'apple': 400, 'orange': 750} 5 <class 'dict'> 2658970140416\n",
      "{} 0 <class 'dict'> 2658970140416\n"
     ]
    }
   ],
   "source": [
    "dict1 = {'mango': 100, 'banana': 1050, 'pineapple': 500, 'apple': 400, 'orange': 750}\n",
    "print (dict1, len(dict1), type(dict1), id(dict1))\n",
    "dict1.clear()\n",
    "print (dict1, len(dict1), type(dict1), id(dict1))"
   ]
  },
  {
   "cell_type": "code",
   "execution_count": 36,
   "id": "0a2d5f2e-2e7b-43f7-8d69-99ebddfdd590",
   "metadata": {},
   "outputs": [
    {
     "name": "stdout",
     "output_type": "stream",
     "text": [
      "{'mango': 100, 'banana': 1050, 'pineapple': 500, 'apple': 400, 'orange': 750} 5 <class 'dict'> 2658971444224\n"
     ]
    },
    {
     "ename": "NameError",
     "evalue": "name 'dict1' is not defined",
     "output_type": "error",
     "traceback": [
      "\u001b[1;31m---------------------------------------------------------------------------\u001b[0m",
      "\u001b[1;31mNameError\u001b[0m                                 Traceback (most recent call last)",
      "\u001b[1;32m<ipython-input-36-b739bbde912a>\u001b[0m in \u001b[0;36m<module>\u001b[1;34m\u001b[0m\n\u001b[0;32m      2\u001b[0m \u001b[0mprint\u001b[0m \u001b[1;33m(\u001b[0m\u001b[0mdict1\u001b[0m\u001b[1;33m,\u001b[0m \u001b[0mlen\u001b[0m\u001b[1;33m(\u001b[0m\u001b[0mdict1\u001b[0m\u001b[1;33m)\u001b[0m\u001b[1;33m,\u001b[0m \u001b[0mtype\u001b[0m\u001b[1;33m(\u001b[0m\u001b[0mdict1\u001b[0m\u001b[1;33m)\u001b[0m\u001b[1;33m,\u001b[0m \u001b[0mid\u001b[0m\u001b[1;33m(\u001b[0m\u001b[0mdict1\u001b[0m\u001b[1;33m)\u001b[0m\u001b[1;33m)\u001b[0m\u001b[1;33m\u001b[0m\u001b[1;33m\u001b[0m\u001b[0m\n\u001b[0;32m      3\u001b[0m \u001b[1;32mdel\u001b[0m \u001b[0mdict1\u001b[0m\u001b[1;33m\u001b[0m\u001b[1;33m\u001b[0m\u001b[0m\n\u001b[1;32m----> 4\u001b[1;33m \u001b[0mprint\u001b[0m \u001b[1;33m(\u001b[0m\u001b[0mdict1\u001b[0m\u001b[1;33m,\u001b[0m \u001b[0mlen\u001b[0m\u001b[1;33m(\u001b[0m\u001b[0mdict1\u001b[0m\u001b[1;33m)\u001b[0m\u001b[1;33m,\u001b[0m \u001b[0mtype\u001b[0m\u001b[1;33m(\u001b[0m\u001b[0mdict1\u001b[0m\u001b[1;33m)\u001b[0m\u001b[1;33m,\u001b[0m \u001b[0mid\u001b[0m\u001b[1;33m(\u001b[0m\u001b[0mdict1\u001b[0m\u001b[1;33m)\u001b[0m\u001b[1;33m)\u001b[0m\u001b[1;33m\u001b[0m\u001b[1;33m\u001b[0m\u001b[0m\n\u001b[0m",
      "\u001b[1;31mNameError\u001b[0m: name 'dict1' is not defined"
     ]
    }
   ],
   "source": [
    "dict1 = {'mango': 100, 'banana': 1050, 'pineapple': 500, 'apple': 400, 'orange': 750}\n",
    "print (dict1, len(dict1), type(dict1), id(dict1))\n",
    "del dict1\n",
    "print (dict1, len(dict1), type(dict1), id(dict1))"
   ]
  },
  {
   "cell_type": "code",
   "execution_count": 38,
   "id": "bc09b3e1-867d-443c-95dc-7f672d2a4e70",
   "metadata": {},
   "outputs": [
    {
     "name": "stdout",
     "output_type": "stream",
     "text": [
      "{'mango': 100, 'banana': 1050, 'pineapple': 500, 'apple': 400, 'orange': 750} 5 <class 'dict'> 2658971005952\n",
      "{'mango': 100, 'banana': 1050, 'apple': 400, 'orange': 750} 4 <class 'dict'> 2658971005952\n",
      "{'mango': 100, 'banana': 1050, 'orange': 750} 3 <class 'dict'> 2658971005952\n"
     ]
    }
   ],
   "source": [
    "dict1 = {'mango': 100, 'banana': 1050, 'pineapple': 500, 'apple': 400, 'orange': 750}\n",
    "print (dict1, len(dict1), type(dict1), id(dict1))\n",
    "del dict1[\"pineapple\"]\n",
    "print (dict1, len(dict1), type(dict1), id(dict1))\n",
    "del dict1[\"apple\"]\n",
    "print (dict1, len(dict1), type(dict1), id(dict1))"
   ]
  },
  {
   "cell_type": "code",
   "execution_count": 39,
   "id": "cbd51089-f62e-4c2c-9ddc-ceeb82da95ac",
   "metadata": {},
   "outputs": [
    {
     "name": "stdout",
     "output_type": "stream",
     "text": [
      "{'mango': 100, 'banana': 1050, 'pineapple': 500, 'apple': 400, 'orange': 750} 5 <class 'dict'> 2658970842240\n",
      "('orange', 750)\n",
      "{'mango': 100, 'banana': 1050, 'pineapple': 500, 'apple': 400} 4 <class 'dict'> 2658970842240\n",
      "('apple', 400)\n",
      "{'mango': 100, 'banana': 1050, 'pineapple': 500} 3 <class 'dict'> 2658970842240\n",
      "('pineapple', 500)\n",
      "{'mango': 100, 'banana': 1050} 2 <class 'dict'> 2658970842240\n"
     ]
    }
   ],
   "source": [
    "dict1 = {'mango': 100, 'banana': 1050, 'pineapple': 500, 'apple': 400, 'orange': 750}\n",
    "print (dict1, len(dict1), type(dict1), id(dict1))\n",
    "print (dict1.popitem())\n",
    "print (dict1, len(dict1), type(dict1), id(dict1))\n",
    "print (dict1.popitem())\n",
    "print (dict1, len(dict1), type(dict1), id(dict1))\n",
    "print (dict1.popitem())\n",
    "print (dict1, len(dict1), type(dict1), id(dict1))"
   ]
  },
  {
   "cell_type": "code",
   "execution_count": 41,
   "id": "2c979665-7921-45ab-9abf-b38fbfd8f663",
   "metadata": {},
   "outputs": [
    {
     "name": "stdout",
     "output_type": "stream",
     "text": [
      "{'mango': 100, 'banana': 1050, 'pineapple': 500, 'apple': 400, 'orange': 750} 5 <class 'dict'> 2658968926336\n",
      "1050\n",
      "{'mango': 100, 'pineapple': 500, 'apple': 400, 'orange': 750} 4 <class 'dict'> 2658968926336\n",
      "500\n",
      "{'mango': 100, 'apple': 400, 'orange': 750} 3 <class 'dict'> 2658968926336\n",
      "400\n",
      "{'mango': 100, 'orange': 750} 2 <class 'dict'> 2658968926336\n"
     ]
    }
   ],
   "source": [
    "dict1 = {'mango': 100, 'banana': 1050, 'pineapple': 500, 'apple': 400, 'orange': 750}\n",
    "print (dict1, len(dict1), type(dict1), id(dict1))\n",
    "print (dict1.pop(\"banana\"))\n",
    "print (dict1, len(dict1), type(dict1), id(dict1))\n",
    "print (dict1.pop(\"pineapple\"))\n",
    "print (dict1, len(dict1), type(dict1), id(dict1))\n",
    "print (dict1.pop(\"apple\"))\n",
    "print (dict1, len(dict1), type(dict1), id(dict1))"
   ]
  },
  {
   "cell_type": "code",
   "execution_count": 43,
   "id": "6146bd01-ce44-425e-8c91-324e49da1601",
   "metadata": {},
   "outputs": [
    {
     "name": "stdout",
     "output_type": "stream",
     "text": [
      "{'Red': 100, 'Green': 100, 'Blue': 100, 'Purple': 100, 'Magenta': 100} 5 <class 'dict'> 2658970434176\n"
     ]
    }
   ],
   "source": [
    "MyKeyList = [\"Red\", \"Green\", \"Blue\", \"Purple\", \"Magenta\"]\n",
    "MyValue = 100\n",
    "dict1 = dict.fromkeys(MyKeyList, MyValue)\n",
    "print (dict1, len(dict1), type(dict1), id(dict1))"
   ]
  },
  {
   "cell_type": "code",
   "execution_count": 45,
   "id": "670fd56e-43e6-4259-b57d-28494f2344f0",
   "metadata": {},
   "outputs": [
    {
     "name": "stdout",
     "output_type": "stream",
     "text": [
      "{'Red': 100, 'Green': 100, 'Blue': 100, 'Purple': 100} 4 <class 'dict'> 2658972395648\n",
      "{'Red': 100, 'Green': 100, 'Blue': 100, 'Purple': 100} 4 <class 'dict'> 2658972395648\n",
      "{'Red': 100, 'Green': 100, 'Blue': 100, 'Purple': 100, 'Magenta': 999} 5 <class 'dict'> 2658972395648\n"
     ]
    }
   ],
   "source": [
    "dict1 = {'Red': 100, 'Green': 100, 'Blue': 100, 'Purple': 100}\n",
    "print (dict1, len(dict1), type(dict1), id(dict1))\n",
    "dict1.setdefault(\"Blue\", 555)\n",
    "print (dict1, len(dict1), type(dict1), id(dict1))\n",
    "dict1.setdefault(\"Magenta\", 999)\n",
    "print (dict1, len(dict1), type(dict1), id(dict1))"
   ]
  },
  {
   "cell_type": "code",
   "execution_count": 48,
   "id": "77dd6466-6283-4c26-848b-86aff9eed156",
   "metadata": {},
   "outputs": [
    {
     "name": "stdout",
     "output_type": "stream",
     "text": [
      "{'Red': 800, 'Green': 700, 'Blue': 100} 3 <class 'dict'> 2658972081152\n",
      "{'Purple': 200, 'Magenta': 500} 2 <class 'dict'> 2658972080256\n",
      "{'Red': 800, 'Green': 700, 'Blue': 100, 'Purple': 200, 'Magenta': 500} 5 <class 'dict'> 2658972081152\n",
      "{'Purple': 200, 'Magenta': 500} 2 <class 'dict'> 2658972080256\n"
     ]
    }
   ],
   "source": [
    "dict1 = {'Red': 800, 'Green': 700, 'Blue': 100}\n",
    "print (dict1, len(dict1), type(dict1), id(dict1))\n",
    "dict2 = {'Purple': 200, 'Magenta':500}\n",
    "print (dict2, len(dict2), type(dict2), id(dict2))\n",
    "dict1.update(dict2)\n",
    "print (dict1, len(dict1), type(dict1), id(dict1))\n",
    "print (dict2, len(dict2), type(dict2), id(dict2))"
   ]
  },
  {
   "cell_type": "code",
   "execution_count": null,
   "id": "5eaf0ecd-c71f-4375-b65d-552ca23df2e0",
   "metadata": {},
   "outputs": [],
   "source": [
    "help(dict)"
   ]
  },
  {
   "cell_type": "code",
   "execution_count": 84,
   "id": "50314d89-ec1a-4be5-97ed-1e56041fce37",
   "metadata": {},
   "outputs": [
    {
     "name": "stdout",
     "output_type": "stream",
     "text": [
      "[] 0 <class 'list'> 2658976906624\n",
      "() 0 <class 'tuple'> 2658874490944\n",
      "{} 0 <class 'dict'> 2658972754816\n",
      "set() 0 <class 'set'> 2658969906304\n",
      "(3,) 1 <class 'tuple'> 2658979220544\n"
     ]
    }
   ],
   "source": [
    "var = []      # empty list\n",
    "print (var, len(var), type(var), id(var))\n",
    "var = ()      # empty tuple\n",
    "print (var, len(var), type(var), id(var))\n",
    "var = {}      # empty dictionary\n",
    "print (var, len(var), type(var), id(var))\n",
    "var = set()   # empty set\n",
    "print (var, len(var), type(var), id(var))\n",
    "var = (3,)    # singleton notation of a tuple\n",
    "print (var, len(var), type(var), id(var))"
   ]
  },
  {
   "cell_type": "code",
   "execution_count": 62,
   "id": "41bb3f85-b309-4958-be52-b2ef5137e262",
   "metadata": {},
   "outputs": [
    {
     "name": "stdout",
     "output_type": "stream",
     "text": [
      "['Red', 'Yellow', 'Green', 'Orange', 'Purple', 'Magenta'] 6 <class 'list'> 2658975430848\n",
      "['Apple', 'Banana', 'Goava', 'Orange'] 4 <class 'list'> 2658975428928\n",
      "<zip object at 0x0000026B174A48C0> <class 'zip'>\n",
      "[('Apple', 'Red'), ('Banana', 'Yellow'), ('Goava', 'Green'), ('Orange', 'Orange')] <class 'list'>\n",
      "{'Apple': 'Red', 'Banana': 'Yellow', 'Goava': 'Green', 'Orange': 'Orange'} <class 'dict'>\n",
      "(('Apple', 'Red'), ('Banana', 'Yellow'), ('Goava', 'Green'), ('Orange', 'Orange')) <class 'tuple'>\n",
      "{'Apple': 'Red', 'Banana': 'Yellow', 'Goava': 'Green', 'Orange': 'Orange'} <class 'dict'>\n"
     ]
    }
   ],
   "source": [
    "colors = [\"Red\", \"Yellow\", \"Green\", \"Orange\", \"Purple\", \"Magenta\"]\n",
    "fruits = [\"Apple\", \"Banana\", \"Goava\", \"Orange\"]\n",
    "print (colors, len(colors), type(colors), id(colors))\n",
    "print (fruits, len(fruits), type(fruits), id(fruits))\n",
    "var = zip(fruits, colors)\n",
    "print (var, type(var))\n",
    "var = list(zip(fruits, colors))\n",
    "print (var, type(var))\n",
    "var = dict(list(zip(fruits, colors)))\n",
    "print (var, type(var))\n",
    "var = tuple(zip(fruits, colors))\n",
    "print (var, type(var))\n",
    "var = dict(tuple(zip(fruits, colors)))\n",
    "print (var, type(var))"
   ]
  },
  {
   "cell_type": "markdown",
   "id": "3fcb718d-849d-4e68-b3f2-484664c44cc9",
   "metadata": {},
   "source": [
    "**Class Assignment - 3**\n",
    "> Take a word from the user and find and print frequency of occurrences of each distinct character in the given word.\n",
    "* As example: Input is \"mississippi\" then output will be\n",
    "* m -> 1, s -> 4, i -> 4, p -> 2"
   ]
  },
  {
   "cell_type": "code",
   "execution_count": 68,
   "id": "27bc3b3e-f4b6-4912-9734-279cd22401ef",
   "metadata": {},
   "outputs": [
    {
     "name": "stdin",
     "output_type": "stream",
     "text": [
      "Please enter your word: mississippi\n"
     ]
    },
    {
     "name": "stdout",
     "output_type": "stream",
     "text": [
      "{'m': 1, 'i': 4, 's': 4, 'p': 2}\n"
     ]
    }
   ],
   "source": [
    "myword = input(\"Please enter your word:\").lower()\n",
    "mychar = {}\n",
    "for ch in myword:\n",
    "    if ch in mychar:\n",
    "        mychar[ch] += 1\n",
    "    else:\n",
    "        mychar[ch] = 1\n",
    "print (mychar)"
   ]
  },
  {
   "cell_type": "markdown",
   "id": "07023454-a446-4629-b069-f80147273f4e",
   "metadata": {},
   "source": [
    "### Dealing with Set\n",
    "> Set is an unordered collection of unique values enclosed within {}. And set is mutable."
   ]
  },
  {
   "cell_type": "code",
   "execution_count": 65,
   "id": "d60cf299-9660-4c0a-a217-2c4b66de9f88",
   "metadata": {},
   "outputs": [
    {
     "name": "stdout",
     "output_type": "stream",
     "text": [
      "{'C', 'Java', 'C++', 'Python'} 4 <class 'set'> 2658967633472\n",
      "{'C', 'Java', 'C++', 'Python'} 4 <class 'set'> 2658967633248\n",
      "{'C', 'Java', 'C++', 'Python'} 4 <class 'set'> 2658967633472\n"
     ]
    }
   ],
   "source": [
    "set1 = {\"Python\", \"Java\", \"C\", \"Python\", \"C++\", \"C\", \"Java\"}\n",
    "print (set1, len(set1), type(set1), id(set1))\n",
    "set1 = set([\"Python\", \"Java\", \"C\", \"Python\", \"C++\", \"C\", \"Java\"])\n",
    "print (set1, len(set1), type(set1), id(set1))\n",
    "set1 = set((\"Python\", \"Java\", \"C\", \"Python\", \"C++\", \"C\", \"Java\"))\n",
    "print (set1, len(set1), type(set1), id(set1))"
   ]
  },
  {
   "attachments": {
    "SetOperations.png": {
     "image/png": "[encoded data removed]"
    }
   },
   "cell_type": "markdown",
   "id": "05fc35d0-8636-4d2a-9e25-f0958058920f",
   "metadata": {},
   "source": [
    "![SetOperations.png](attachment:SetOperations.png)"
   ]
  },
  {
   "cell_type": "code",
   "execution_count": 71,
   "id": "3e422102-d2bd-4351-bd43-5510541d1752",
   "metadata": {},
   "outputs": [
    {
     "name": "stdout",
     "output_type": "stream",
     "text": [
      "{'java', 'python', 'c'} 3 <class 'set'> 2658971789792\n",
      "{'cobra', 'python', 'viper'} 3 <class 'set'> 2658971789568\n",
      "{'java', 'c', 'cobra', 'python', 'viper'} 5 <class 'set'> 2658971790240\n",
      "{'java', 'c', 'cobra', 'python', 'viper'} 5 <class 'set'> 2658975571520\n"
     ]
    }
   ],
   "source": [
    "# union operation\n",
    "languages = {\"python\", \"java\", \"c\"}\n",
    "print (languages, len(languages), type(languages), id(languages))\n",
    "snakes = {\"cobra\", \"viper\", \"python\"}\n",
    "print (snakes, len(snakes), type(snakes), id(snakes))\n",
    "result = languages.union(snakes)\n",
    "print (result, len(result), type(result), id(result))\n",
    "result = languages | snakes\n",
    "print (result, len(result), type(result), id(result))"
   ]
  },
  {
   "cell_type": "code",
   "execution_count": 74,
   "id": "ac87503f-cee0-4794-b3c6-39725c69fbbc",
   "metadata": {},
   "outputs": [
    {
     "name": "stdout",
     "output_type": "stream",
     "text": [
      "{'java', 'python', 'c'} 3 <class 'set'> 2658980694944\n",
      "{'cobra', 'python', 'viper'} 3 <class 'set'> 2658980695168\n",
      "{'python'} 1 <class 'set'> 2658980693152\n",
      "{'python'} 1 <class 'set'> 2658980695392\n",
      "{'python'} 1 <class 'set'> 2658980694944\n",
      "{'cobra', 'python', 'viper'} 3 <class 'set'> 2658980695168\n"
     ]
    }
   ],
   "source": [
    "# intersection operation\n",
    "languages = {\"python\", \"java\", \"c\"}\n",
    "print (languages, len(languages), type(languages), id(languages))\n",
    "snakes = {\"cobra\", \"viper\", \"python\"}\n",
    "print (snakes, len(snakes), type(snakes), id(snakes))\n",
    "result = languages.intersection(snakes)\n",
    "print (result, len(result), type(result), id(result))\n",
    "result = languages & snakes\n",
    "print (result, len(result), type(result), id(result))\n",
    "languages.intersection_update(snakes)\n",
    "print (languages, len(languages), type(languages), id(languages))\n",
    "print (snakes, len(snakes), type(snakes), id(snakes))"
   ]
  },
  {
   "cell_type": "code",
   "execution_count": 76,
   "id": "7a8777f8-d6cc-4d8a-ae31-982ea55cab9b",
   "metadata": {},
   "outputs": [
    {
     "name": "stdout",
     "output_type": "stream",
     "text": [
      "{'java', 'python', 'c'} 3 <class 'set'> 2658980817376\n",
      "{'cobra', 'python', 'viper'} 3 <class 'set'> 2658980829440\n",
      "{'java', 'c', 'cobra', 'viper'} 4 <class 'set'> 2658980828320\n",
      "{'java', 'c', 'cobra', 'viper'} 4 <class 'set'> 2658980828992\n",
      "{'java', 'c', 'cobra', 'viper'} 4 <class 'set'> 2658980817376\n",
      "{'cobra', 'python', 'viper'} 3 <class 'set'> 2658980829440\n"
     ]
    }
   ],
   "source": [
    "# excusive-or / xor / symmetric difference operation\n",
    "languages = {\"python\", \"java\", \"c\"}\n",
    "print (languages, len(languages), type(languages), id(languages))\n",
    "snakes = {\"cobra\", \"viper\", \"python\"}\n",
    "print (snakes, len(snakes), type(snakes), id(snakes))\n",
    "result = languages.symmetric_difference(snakes)\n",
    "print (result, len(result), type(result), id(result))\n",
    "result = languages ^ snakes\n",
    "print (result, len(result), type(result), id(result))\n",
    "languages.symmetric_difference_update(snakes)\n",
    "print (languages, len(languages), type(languages), id(languages))\n",
    "print (snakes, len(snakes), type(snakes), id(snakes))"
   ]
  },
  {
   "cell_type": "code",
   "execution_count": 78,
   "id": "a03a1394-0a73-46c4-b77d-a1b9359c45c0",
   "metadata": {},
   "outputs": [
    {
     "name": "stdout",
     "output_type": "stream",
     "text": [
      "{'java', 'python', 'c'} 3 <class 'set'> 2658977622496\n",
      "{'cobra', 'python', 'viper'} 3 <class 'set'> 2658976843584\n",
      "{'java', 'c'} 2 <class 'set'> 2658976842240\n",
      "{'java', 'c'} 2 <class 'set'> 2658976844928\n",
      "{'java', 'c'} 2 <class 'set'> 2658977622496\n",
      "{'cobra', 'python', 'viper'} 3 <class 'set'> 2658976843584\n"
     ]
    }
   ],
   "source": [
    "# subtraction / set difference operation\n",
    "languages = {\"python\", \"java\", \"c\"}\n",
    "print (languages, len(languages), type(languages), id(languages))\n",
    "snakes = {\"cobra\", \"viper\", \"python\"}\n",
    "print (snakes, len(snakes), type(snakes), id(snakes))\n",
    "result = languages.difference(snakes)\n",
    "print (result, len(result), type(result), id(result))\n",
    "result = languages - snakes\n",
    "print (result, len(result), type(result), id(result))\n",
    "languages.difference_update(snakes)\n",
    "print (languages, len(languages), type(languages), id(languages))\n",
    "print (snakes, len(snakes), type(snakes), id(snakes))"
   ]
  },
  {
   "cell_type": "code",
   "execution_count": 88,
   "id": "67dc2b85-75d0-43b4-ad05-b7bb98227d3d",
   "metadata": {},
   "outputs": [
    {
     "name": "stdout",
     "output_type": "stream",
     "text": [
      "{33, 11, 22} {33, 66, 11, 44, 22, 55} {88, 99, 77}\n",
      "True False False\n",
      "False False True\n",
      "False True False\n"
     ]
    }
   ],
   "source": [
    "set1 = {11, 22, 33}\n",
    "set2 = {11, 22, 33, 44, 55, 66}\n",
    "set3 = {77, 88, 99}\n",
    "print (set1, set2, set3)\n",
    "print (set1.issubset(set2), set1.issubset(set3), set2.issubset(set1))\n",
    "print (set1.issuperset(set2), set1.issuperset(set3), set2.issuperset(set1))\n",
    "print (set1.isdisjoint(set2), set1.isdisjoint(set3), set2.isdisjoint(set1))"
   ]
  },
  {
   "cell_type": "code",
   "execution_count": 90,
   "id": "b98d9247-f9ca-4c77-95c7-c386579a2dce",
   "metadata": {},
   "outputs": [
    {
     "name": "stdout",
     "output_type": "stream",
     "text": [
      "{'java', 'python', 'c'} 3 <class 'set'> 2658979007840\n",
      "{'java', 'python', 'cobol', 'c'} 4 <class 'set'> 2658979007840\n",
      "{'perl', 'python', 'cobol', 'java', 'c'} 5 <class 'set'> 2658979007840\n",
      "{'perl', 'python', 'cobol', 'java', 'r', 'c'} 6 <class 'set'> 2658979007840\n"
     ]
    }
   ],
   "source": [
    "languages = {\"python\", \"java\", \"c\"}\n",
    "print (languages, len(languages), type(languages), id(languages))\n",
    "languages.add(\"cobol\")\n",
    "print (languages, len(languages), type(languages), id(languages))\n",
    "languages.add(\"perl\")\n",
    "print (languages, len(languages), type(languages), id(languages))\n",
    "languages.add(\"r\")\n",
    "print (languages, len(languages), type(languages), id(languages))"
   ]
  },
  {
   "cell_type": "code",
   "execution_count": 91,
   "id": "e4a20513-e2e1-4836-90ed-2cc3d1029a3e",
   "metadata": {},
   "outputs": [
    {
     "name": "stdout",
     "output_type": "stream",
     "text": [
      "{'java', 'python', 'c'} 3 <class 'set'> 2658967292832\n",
      "set() 0 <class 'set'> 2658967292832\n"
     ]
    }
   ],
   "source": [
    "languages = {\"python\", \"java\", \"c\"}\n",
    "print (languages, len(languages), type(languages), id(languages))\n",
    "languages.clear()\n",
    "print (languages, len(languages), type(languages), id(languages))"
   ]
  },
  {
   "cell_type": "code",
   "execution_count": 92,
   "id": "40c596a0-a392-4b9f-8bf2-0ef4c8e40c85",
   "metadata": {},
   "outputs": [
    {
     "name": "stdout",
     "output_type": "stream",
     "text": [
      "{'java', 'python', 'c'} 3 <class 'set'> 2658967291040\n"
     ]
    },
    {
     "ename": "NameError",
     "evalue": "name 'languages' is not defined",
     "output_type": "error",
     "traceback": [
      "\u001b[1;31m---------------------------------------------------------------------------\u001b[0m",
      "\u001b[1;31mNameError\u001b[0m                                 Traceback (most recent call last)",
      "\u001b[1;32m<ipython-input-92-bc850a3b30be>\u001b[0m in \u001b[0;36m<module>\u001b[1;34m\u001b[0m\n\u001b[0;32m      2\u001b[0m \u001b[0mprint\u001b[0m \u001b[1;33m(\u001b[0m\u001b[0mlanguages\u001b[0m\u001b[1;33m,\u001b[0m \u001b[0mlen\u001b[0m\u001b[1;33m(\u001b[0m\u001b[0mlanguages\u001b[0m\u001b[1;33m)\u001b[0m\u001b[1;33m,\u001b[0m \u001b[0mtype\u001b[0m\u001b[1;33m(\u001b[0m\u001b[0mlanguages\u001b[0m\u001b[1;33m)\u001b[0m\u001b[1;33m,\u001b[0m \u001b[0mid\u001b[0m\u001b[1;33m(\u001b[0m\u001b[0mlanguages\u001b[0m\u001b[1;33m)\u001b[0m\u001b[1;33m)\u001b[0m\u001b[1;33m\u001b[0m\u001b[1;33m\u001b[0m\u001b[0m\n\u001b[0;32m      3\u001b[0m \u001b[1;32mdel\u001b[0m \u001b[0mlanguages\u001b[0m\u001b[1;33m\u001b[0m\u001b[1;33m\u001b[0m\u001b[0m\n\u001b[1;32m----> 4\u001b[1;33m \u001b[0mprint\u001b[0m \u001b[1;33m(\u001b[0m\u001b[0mlanguages\u001b[0m\u001b[1;33m,\u001b[0m \u001b[0mlen\u001b[0m\u001b[1;33m(\u001b[0m\u001b[0mlanguages\u001b[0m\u001b[1;33m)\u001b[0m\u001b[1;33m,\u001b[0m \u001b[0mtype\u001b[0m\u001b[1;33m(\u001b[0m\u001b[0mlanguages\u001b[0m\u001b[1;33m)\u001b[0m\u001b[1;33m,\u001b[0m \u001b[0mid\u001b[0m\u001b[1;33m(\u001b[0m\u001b[0mlanguages\u001b[0m\u001b[1;33m)\u001b[0m\u001b[1;33m)\u001b[0m\u001b[1;33m\u001b[0m\u001b[1;33m\u001b[0m\u001b[0m\n\u001b[0m",
      "\u001b[1;31mNameError\u001b[0m: name 'languages' is not defined"
     ]
    }
   ],
   "source": [
    "languages = {\"python\", \"java\", \"c\"}\n",
    "print (languages, len(languages), type(languages), id(languages))\n",
    "del languages\n",
    "print (languages, len(languages), type(languages), id(languages))"
   ]
  },
  {
   "cell_type": "code",
   "execution_count": 93,
   "id": "b3ef825b-c663-4a68-9035-45503ef56d4b",
   "metadata": {},
   "outputs": [
    {
     "name": "stdout",
     "output_type": "stream",
     "text": [
      "{'perl', 'python', 'cobol', 'r', 'java', 'c'} 6 <class 'set'> 2658967292832\n",
      "perl\n",
      "{'python', 'cobol', 'r', 'java', 'c'} 5 <class 'set'> 2658967292832\n",
      "python\n",
      "{'cobol', 'r', 'java', 'c'} 4 <class 'set'> 2658967292832\n",
      "cobol\n",
      "{'r', 'java', 'c'} 3 <class 'set'> 2658967292832\n",
      "r\n",
      "{'java', 'c'} 2 <class 'set'> 2658967292832\n"
     ]
    }
   ],
   "source": [
    "languages = {'perl', 'python', 'cobol', 'java', 'r', 'c'}\n",
    "print (languages, len(languages), type(languages), id(languages))\n",
    "print (languages.pop())\n",
    "print (languages, len(languages), type(languages), id(languages))\n",
    "print (languages.pop())\n",
    "print (languages, len(languages), type(languages), id(languages))\n",
    "print (languages.pop())\n",
    "print (languages, len(languages), type(languages), id(languages))\n",
    "print (languages.pop())\n",
    "print (languages, len(languages), type(languages), id(languages))"
   ]
  },
  {
   "cell_type": "code",
   "execution_count": 94,
   "id": "7aded10f-0c3f-4d83-81fc-aa5559dad9d9",
   "metadata": {},
   "outputs": [
    {
     "name": "stdout",
     "output_type": "stream",
     "text": [
      "{'perl', 'python', 'cobol', 'r', 'java', 'c'} 6 <class 'set'> 2658972759200\n",
      "{'perl', 'cobol', 'r', 'java', 'c'} 5 <class 'set'> 2658972759200\n",
      "{'perl', 'r', 'java', 'c'} 4 <class 'set'> 2658972759200\n",
      "{'perl', 'java', 'c'} 3 <class 'set'> 2658972759200\n",
      "{'perl', 'java', 'c'} 3 <class 'set'> 2658972759200\n"
     ]
    }
   ],
   "source": [
    "languages = {'perl', 'python', 'cobol', 'java', 'r', 'c'}\n",
    "print (languages, len(languages), type(languages), id(languages))\n",
    "languages.discard(\"python\")\n",
    "print (languages, len(languages), type(languages), id(languages))\n",
    "languages.discard(\"cobol\")\n",
    "print (languages, len(languages), type(languages), id(languages))\n",
    "languages.discard(\"r\")\n",
    "print (languages, len(languages), type(languages), id(languages))\n",
    "languages.discard(\"kotlin\")\n",
    "print (languages, len(languages), type(languages), id(languages))"
   ]
  },
  {
   "cell_type": "code",
   "execution_count": 95,
   "id": "90c4ca3d-799d-453b-a4cc-739cf39ecee7",
   "metadata": {},
   "outputs": [
    {
     "name": "stdout",
     "output_type": "stream",
     "text": [
      "{'perl', 'python', 'cobol', 'r', 'java', 'c'} 6 <class 'set'> 2658971846912\n",
      "{'perl', 'cobol', 'r', 'java', 'c'} 5 <class 'set'> 2658971846912\n",
      "{'perl', 'r', 'java', 'c'} 4 <class 'set'> 2658971846912\n",
      "{'perl', 'java', 'c'} 3 <class 'set'> 2658971846912\n"
     ]
    },
    {
     "ename": "KeyError",
     "evalue": "'kotlin'",
     "output_type": "error",
     "traceback": [
      "\u001b[1;31m---------------------------------------------------------------------------\u001b[0m",
      "\u001b[1;31mKeyError\u001b[0m                                  Traceback (most recent call last)",
      "\u001b[1;32m<ipython-input-95-377f0cc8e8d2>\u001b[0m in \u001b[0;36m<module>\u001b[1;34m\u001b[0m\n\u001b[0;32m      7\u001b[0m \u001b[0mlanguages\u001b[0m\u001b[1;33m.\u001b[0m\u001b[0mremove\u001b[0m\u001b[1;33m(\u001b[0m\u001b[1;34m\"r\"\u001b[0m\u001b[1;33m)\u001b[0m\u001b[1;33m\u001b[0m\u001b[1;33m\u001b[0m\u001b[0m\n\u001b[0;32m      8\u001b[0m \u001b[0mprint\u001b[0m \u001b[1;33m(\u001b[0m\u001b[0mlanguages\u001b[0m\u001b[1;33m,\u001b[0m \u001b[0mlen\u001b[0m\u001b[1;33m(\u001b[0m\u001b[0mlanguages\u001b[0m\u001b[1;33m)\u001b[0m\u001b[1;33m,\u001b[0m \u001b[0mtype\u001b[0m\u001b[1;33m(\u001b[0m\u001b[0mlanguages\u001b[0m\u001b[1;33m)\u001b[0m\u001b[1;33m,\u001b[0m \u001b[0mid\u001b[0m\u001b[1;33m(\u001b[0m\u001b[0mlanguages\u001b[0m\u001b[1;33m)\u001b[0m\u001b[1;33m)\u001b[0m\u001b[1;33m\u001b[0m\u001b[1;33m\u001b[0m\u001b[0m\n\u001b[1;32m----> 9\u001b[1;33m \u001b[0mlanguages\u001b[0m\u001b[1;33m.\u001b[0m\u001b[0mremove\u001b[0m\u001b[1;33m(\u001b[0m\u001b[1;34m\"kotlin\"\u001b[0m\u001b[1;33m)\u001b[0m\u001b[1;33m\u001b[0m\u001b[1;33m\u001b[0m\u001b[0m\n\u001b[0m\u001b[0;32m     10\u001b[0m \u001b[0mprint\u001b[0m \u001b[1;33m(\u001b[0m\u001b[0mlanguages\u001b[0m\u001b[1;33m,\u001b[0m \u001b[0mlen\u001b[0m\u001b[1;33m(\u001b[0m\u001b[0mlanguages\u001b[0m\u001b[1;33m)\u001b[0m\u001b[1;33m,\u001b[0m \u001b[0mtype\u001b[0m\u001b[1;33m(\u001b[0m\u001b[0mlanguages\u001b[0m\u001b[1;33m)\u001b[0m\u001b[1;33m,\u001b[0m \u001b[0mid\u001b[0m\u001b[1;33m(\u001b[0m\u001b[0mlanguages\u001b[0m\u001b[1;33m)\u001b[0m\u001b[1;33m)\u001b[0m\u001b[1;33m\u001b[0m\u001b[1;33m\u001b[0m\u001b[0m\n",
      "\u001b[1;31mKeyError\u001b[0m: 'kotlin'"
     ]
    }
   ],
   "source": [
    "languages = {'perl', 'python', 'cobol', 'java', 'r', 'c'}\n",
    "print (languages, len(languages), type(languages), id(languages))\n",
    "languages.remove(\"python\")\n",
    "print (languages, len(languages), type(languages), id(languages))\n",
    "languages.remove(\"cobol\")\n",
    "print (languages, len(languages), type(languages), id(languages))\n",
    "languages.remove(\"r\")\n",
    "print (languages, len(languages), type(languages), id(languages))\n",
    "languages.remove(\"kotlin\")\n",
    "print (languages, len(languages), type(languages), id(languages))"
   ]
  },
  {
   "cell_type": "code",
   "execution_count": 99,
   "id": "e729dee7-5e2d-4a6d-8b89-2458c514ac9b",
   "metadata": {},
   "outputs": [
    {
     "name": "stdout",
     "output_type": "stream",
     "text": [
      "{'perl', 'python', 'cobol'} 3 <class 'set'> 2658968396288\n",
      "{'r', 'java', 'c'} 3 <class 'set'> 2658968397184\n",
      "{'r', 'java', 'python', 'c', 'perl', 'cobol'} 6 <class 'set'> 2658968396288\n",
      "{'r', 'java', 'c'} 3 <class 'set'> 2658968397184\n"
     ]
    }
   ],
   "source": [
    "languages1 = {'perl', 'python', 'cobol'}\n",
    "languages2 = {'r', 'java', 'c'}\n",
    "print (languages1, len(languages1), type(languages1), id(languages1))\n",
    "print (languages2, len(languages2), type(languages2), id(languages2))\n",
    "languages1.update(languages2)\n",
    "print (languages1, len(languages1), type(languages1), id(languages1))\n",
    "print (languages2, len(languages2), type(languages2), id(languages2))"
   ]
  },
  {
   "cell_type": "code",
   "execution_count": 104,
   "id": "48f037b2-3b88-4c21-aac2-dee40d3aa3c8",
   "metadata": {},
   "outputs": [
    {
     "name": "stdout",
     "output_type": "stream",
     "text": [
      "mississippi 11 <class 'str'>\n",
      "['m', 'i', 's', 's', 'i', 's', 's', 'i', 'p', 'p', 'i'] 11 <class 'list'>\n",
      "('m', 'i', 's', 's', 'i', 's', 's', 'i', 'p', 'p', 'i') 11 <class 'tuple'>\n",
      "{'i', 'm', 'p', 's'} 4 <class 'set'>\n"
     ]
    }
   ],
   "source": [
    "mystr = \"mississippi\"\n",
    "print (mystr, len(mystr), type(mystr))\n",
    "print (list(mystr), len(list(mystr)), type(list(mystr)))\n",
    "print (tuple(mystr), len(tuple(mystr)), type(tuple(mystr)))\n",
    "print (set(mystr), len(set(mystr)), type(set(mystr)))"
   ]
  },
  {
   "cell_type": "markdown",
   "id": "58f3d6c2-0938-452b-b524-6684e2bed8d1",
   "metadata": {},
   "source": [
    "### Dealing with Frozen-Set\n",
    "> Frozen-Set is an unordered collection of unique values enclosed within {}. And Frozen-Set is immutable."
   ]
  },
  {
   "cell_type": "code",
   "execution_count": 66,
   "id": "a7a19c57-dedd-427e-9660-7292d758b7eb",
   "metadata": {},
   "outputs": [
    {
     "name": "stdout",
     "output_type": "stream",
     "text": [
      "frozenset({'C', 'Java', 'C++', 'Python'}) 4 <class 'frozenset'> 2658967633248\n",
      "frozenset({'C', 'Java', 'C++', 'Python'}) 4 <class 'frozenset'> 2658966793568\n"
     ]
    }
   ],
   "source": [
    "frozen_set1 = frozenset([\"Python\", \"Java\", \"C\", \"Python\", \"C++\", \"C\", \"Java\"])\n",
    "print (frozen_set1, len(frozen_set1), type(frozen_set1), id(frozen_set1))\n",
    "frozen_set1 = frozenset((\"Python\", \"Java\", \"C\", \"Python\", \"C++\", \"C\", \"Java\"))\n",
    "print (frozen_set1, len(frozen_set1), type(frozen_set1), id(frozen_set1))"
   ]
  },
  {
   "cell_type": "code",
   "execution_count": 72,
   "id": "3a68e51e-04b8-4f8b-a674-b54c0d369e98",
   "metadata": {},
   "outputs": [
    {
     "name": "stdout",
     "output_type": "stream",
     "text": [
      "frozenset({'java', 'python', 'c'}) 3 <class 'frozenset'> 2658967030464\n",
      "frozenset({'cobra', 'python', 'viper'}) 3 <class 'frozenset'> 2658967031584\n",
      "frozenset({'java', 'c', 'cobra', 'python', 'viper'}) 5 <class 'frozenset'> 2658967028224\n",
      "frozenset({'java', 'c', 'cobra', 'python', 'viper'}) 5 <class 'frozenset'> 2658967030688\n"
     ]
    }
   ],
   "source": [
    "# union operation\n",
    "languages = frozenset([\"python\", \"java\", \"c\"])\n",
    "print (languages, len(languages), type(languages), id(languages))\n",
    "snakes = frozenset([\"cobra\", \"viper\", \"python\"])\n",
    "print (snakes, len(snakes), type(snakes), id(snakes))\n",
    "result = languages.union(snakes)\n",
    "print (result, len(result), type(result), id(result))\n",
    "result = languages | snakes\n",
    "print (result, len(result), type(result), id(result))"
   ]
  },
  {
   "cell_type": "code",
   "execution_count": 75,
   "id": "2f5f42a6-2ac4-431b-906f-b9eeac30d093",
   "metadata": {},
   "outputs": [
    {
     "name": "stdout",
     "output_type": "stream",
     "text": [
      "frozenset({'java', 'python', 'c'}) 3 <class 'frozenset'> 2658975432992\n",
      "frozenset({'cobra', 'python', 'viper'}) 3 <class 'frozenset'> 2658975434784\n",
      "frozenset({'python'}) 1 <class 'frozenset'> 2658975434112\n",
      "frozenset({'python'}) 1 <class 'frozenset'> 2658975436128\n"
     ]
    }
   ],
   "source": [
    "# intersection operation\n",
    "languages = frozenset([\"python\", \"java\", \"c\"])\n",
    "print (languages, len(languages), type(languages), id(languages))\n",
    "snakes = frozenset([\"cobra\", \"viper\", \"python\"])\n",
    "print (snakes, len(snakes), type(snakes), id(snakes))\n",
    "result = languages.intersection(snakes)\n",
    "print (result, len(result), type(result), id(result))\n",
    "result = languages & snakes\n",
    "print (result, len(result), type(result), id(result))"
   ]
  },
  {
   "cell_type": "code",
   "execution_count": 77,
   "id": "d358eaa9-badd-43fd-a854-1662b064999e",
   "metadata": {},
   "outputs": [
    {
     "name": "stdout",
     "output_type": "stream",
     "text": [
      "frozenset({'java', 'python', 'c'}) 3 <class 'frozenset'> 2658980818272\n",
      "frozenset({'cobra', 'python', 'viper'}) 3 <class 'frozenset'> 2658967413248\n",
      "frozenset({'java', 'c', 'cobra', 'viper'}) 4 <class 'frozenset'> 2658967414592\n",
      "frozenset({'java', 'c', 'cobra', 'viper'}) 4 <class 'frozenset'> 2658967412800\n"
     ]
    }
   ],
   "source": [
    "# excusive-or / xor / symmetric difference operation\n",
    "languages = frozenset([\"python\", \"java\", \"c\"])\n",
    "print (languages, len(languages), type(languages), id(languages))\n",
    "snakes = frozenset([\"cobra\", \"viper\", \"python\"])\n",
    "print (snakes, len(snakes), type(snakes), id(snakes))\n",
    "result = languages.symmetric_difference(snakes)\n",
    "print (result, len(result), type(result), id(result))\n",
    "result = languages ^ snakes\n",
    "print (result, len(result), type(result), id(result))"
   ]
  },
  {
   "cell_type": "code",
   "execution_count": 82,
   "id": "822f45ff-18c0-40cd-93e0-7c2c647820a2",
   "metadata": {},
   "outputs": [
    {
     "name": "stdout",
     "output_type": "stream",
     "text": [
      "frozenset({'java', 'python', 'c'}) 3 <class 'frozenset'> 2658969904512\n",
      "frozenset({'cobra', 'python', 'viper'}) 3 <class 'frozenset'> 2658969906976\n",
      "frozenset({'java', 'c'}) 2 <class 'frozenset'> 2658969906304\n",
      "frozenset({'java', 'c'}) 2 <class 'frozenset'> 2658969903616\n"
     ]
    }
   ],
   "source": [
    "# subtraction / set difference operation\n",
    "languages = frozenset([\"python\", \"java\", \"c\"])\n",
    "print (languages, len(languages), type(languages), id(languages))\n",
    "snakes = frozenset([\"cobra\", \"viper\", \"python\"])\n",
    "print (snakes, len(snakes), type(snakes), id(snakes))\n",
    "result = languages.difference(snakes)\n",
    "print (result, len(result), type(result), id(result))\n",
    "result = languages - snakes\n",
    "print (result, len(result), type(result), id(result))"
   ]
  },
  {
   "cell_type": "code",
   "execution_count": 89,
   "id": "ff49df0f-c188-4fba-812b-001774dd278d",
   "metadata": {},
   "outputs": [
    {
     "name": "stdout",
     "output_type": "stream",
     "text": [
      "frozenset({33, 11, 22}) frozenset({33, 66, 11, 44, 22, 55}) frozenset({88, 99, 77})\n",
      "True False False\n",
      "False False True\n",
      "False True False\n"
     ]
    }
   ],
   "source": [
    "set1 = frozenset([11, 22, 33])\n",
    "set2 = frozenset([11, 22, 33, 44, 55, 66])\n",
    "set3 = frozenset([77, 88, 99])\n",
    "print (set1, set2, set3)\n",
    "print (set1.issubset(set2), set1.issubset(set3), set2.issubset(set1))\n",
    "print (set1.issuperset(set2), set1.issuperset(set3), set2.issuperset(set1))\n",
    "print (set1.isdisjoint(set2), set1.isdisjoint(set3), set2.isdisjoint(set1))"
   ]
  },
  {
   "cell_type": "markdown",
   "id": "6d7c1d0c-27c8-418b-9f32-fcb1bc5186a0",
   "metadata": {},
   "source": [
    "### Dealing with Data File"
   ]
  },
  {
   "cell_type": "markdown",
   "id": "29348b81-086a-4470-9296-561f409cd3ab",
   "metadata": {},
   "source": [
    "Data file path is \"C:\\Users\\Arnab\\USA Batch\\Vodafone\\emp_data.csv\""
   ]
  },
  {
   "cell_type": "code",
   "execution_count": 113,
   "id": "3249e582-cc28-4c12-a59f-2aaf8c38538a",
   "metadata": {},
   "outputs": [
    {
     "name": "stdout",
     "output_type": "stream",
     "text": [
      "<_csv.reader object at 0x0000026B1710C940>\n",
      "(['1001', 'Dhiman', 'Kolkata', '39000'], ['1002', 'Anupam', 'Kolkata', '25000'], ['1003', 'Subham', 'Mumbai', '36000'], ['1004', 'Dinesh', 'Chennai', '28000'], ['1005', 'Kakali', 'Mumbai', '25000'], ['1006', 'Bimal', 'Hyderabad', '30000'], ['1007', 'Tarun', 'Chennai', '17000'], ['1008', 'Rittik', 'Durgapur', '45000'], ['1009', 'Barun', 'Hyderabad', '39000'], ['1010', 'Utpal', 'Lucknow', '20000'])\n"
     ]
    }
   ],
   "source": [
    "# importing the required module\n",
    "import csv\n",
    "with open('emp_data.csv') as data_file:   # relative path\n",
    "    csv_reader = csv.reader(data_file)\n",
    "    print (csv_reader)\n",
    "    # print (len(list(csv_reader)))\n",
    "    # print (list(csv_reader))\n",
    "    print (tuple(csv_reader))"
   ]
  },
  {
   "cell_type": "code",
   "execution_count": 126,
   "id": "60996079-5114-4911-a0f6-f645212ee12d",
   "metadata": {},
   "outputs": [
    {
     "name": "stdout",
     "output_type": "stream",
     "text": [
      "<_csv.reader object at 0x0000026B16B4F160>\n",
      "(['1001', 'Dhiman', 'Kolkata', '39000'], ['1002', 'Anupam', 'Kolkata', '25000'], ['1003', 'Subham', 'Mumbai', '36000'], ['1004', 'Dinesh', 'Chennai', '28000'], ['1005', 'Kakali', 'Mumbai', '25000'], ['1006', 'Bimal', 'Hyderabad', '30000'], ['1007', 'Tarun', 'Chennai', '17000'], ['1008', 'Rittik', 'Durgapur', '45000'], ['1009', 'Barun', 'Hyderabad', '39000'], ['1010', 'Utpal', 'Lucknow', '20000'])\n",
      "<class '_csv.reader'> <class '_io.TextIOWrapper'>\n"
     ]
    },
    {
     "ename": "ValueError",
     "evalue": "I/O operation on closed file.",
     "output_type": "error",
     "traceback": [
      "\u001b[1;31m---------------------------------------------------------------------------\u001b[0m",
      "\u001b[1;31mValueError\u001b[0m                                Traceback (most recent call last)",
      "\u001b[1;32m<ipython-input-126-024e54a52ccb>\u001b[0m in \u001b[0;36m<module>\u001b[1;34m\u001b[0m\n\u001b[0;32m     10\u001b[0m     \u001b[0mprint\u001b[0m \u001b[1;33m(\u001b[0m\u001b[0mtuple\u001b[0m\u001b[1;33m(\u001b[0m\u001b[0mcsv_reader\u001b[0m\u001b[1;33m)\u001b[0m\u001b[1;33m)\u001b[0m\u001b[1;33m\u001b[0m\u001b[1;33m\u001b[0m\u001b[0m\n\u001b[0;32m     11\u001b[0m \u001b[0mprint\u001b[0m \u001b[1;33m(\u001b[0m\u001b[0mtype\u001b[0m\u001b[1;33m(\u001b[0m\u001b[0mcsv_reader\u001b[0m\u001b[1;33m)\u001b[0m\u001b[1;33m,\u001b[0m \u001b[0mtype\u001b[0m\u001b[1;33m(\u001b[0m\u001b[0mdata_file\u001b[0m\u001b[1;33m)\u001b[0m\u001b[1;33m)\u001b[0m\u001b[1;33m\u001b[0m\u001b[1;33m\u001b[0m\u001b[0m\n\u001b[1;32m---> 12\u001b[1;33m \u001b[0mcsv_reader\u001b[0m \u001b[1;33m=\u001b[0m \u001b[0mcsv\u001b[0m\u001b[1;33m.\u001b[0m\u001b[0mreader\u001b[0m\u001b[1;33m(\u001b[0m\u001b[0mdata_file\u001b[0m\u001b[1;33m)\u001b[0m\u001b[1;33m\u001b[0m\u001b[1;33m\u001b[0m\u001b[0m\n\u001b[0m",
      "\u001b[1;31mValueError\u001b[0m: I/O operation on closed file."
     ]
    }
   ],
   "source": [
    "# importing the required module\n",
    "import csv\n",
    "# with open('C:\\\\Users\\\\Arnab\\\\USA Batch\\\\Vodafone\\\\emp_data.csv') as data_file:\n",
    "# with open('C://Users//Arnab//USA Batch//Vodafone//emp_data.csv') as data_file:\n",
    "with open('C:/Users/Arnab/USA Batch/Vodafone/emp_data.csv') as data_file:  # fully qualified / absolute path\n",
    "    csv_reader = csv.reader(data_file)\n",
    "    print (csv_reader)\n",
    "    # print (len(list(csv_reader)))\n",
    "    # print (list(csv_reader))\n",
    "    print (tuple(csv_reader))\n",
    "print (type(csv_reader), type(data_file))\n",
    "csv_reader = csv.reader(data_file)"
   ]
  },
  {
   "cell_type": "code",
   "execution_count": 122,
   "id": "87af229f-749c-4250-bb6d-6512b0cade0b",
   "metadata": {},
   "outputs": [
    {
     "name": "stdout",
     "output_type": "stream",
     "text": [
      "['1001', 'Dhiman', 'Kolkata', '39000']\n",
      "['1002', 'Anupam', 'Kolkata', '25000']\n",
      "['1003', 'Subham', 'Mumbai', '36000']\n",
      "['1004', 'Dinesh', 'Chennai', '28000']\n",
      "['1005', 'Kakali', 'Mumbai', '25000']\n",
      "['1006', 'Bimal', 'Hyderabad', '30000']\n",
      "['1007', 'Tarun', 'Chennai', '17000']\n",
      "['1008', 'Rittik', 'Durgapur', '45000']\n",
      "['1009', 'Barun', 'Hyderabad', '39000']\n",
      "['1010', 'Utpal', 'Lucknow', '20000']\n"
     ]
    }
   ],
   "source": [
    "with open('emp_data.csv') as data_file:   # relative path\n",
    "    csv_reader = csv.reader(data_file)\n",
    "    for row in csv_reader:\n",
    "        print (row)"
   ]
  },
  {
   "cell_type": "code",
   "execution_count": 123,
   "id": "a654934e-4c56-4965-aed1-d433e2f39015",
   "metadata": {},
   "outputs": [
    {
     "name": "stdout",
     "output_type": "stream",
     "text": [
      "Emp-ID: 1001, Emp-Name: Dhiman, Emp-Location: Kolkata, Emp-Salary: 39000...\n",
      "Emp-ID: 1002, Emp-Name: Anupam, Emp-Location: Kolkata, Emp-Salary: 25000...\n",
      "Emp-ID: 1003, Emp-Name: Subham, Emp-Location: Mumbai, Emp-Salary: 36000...\n",
      "Emp-ID: 1004, Emp-Name: Dinesh, Emp-Location: Chennai, Emp-Salary: 28000...\n",
      "Emp-ID: 1005, Emp-Name: Kakali, Emp-Location: Mumbai, Emp-Salary: 25000...\n",
      "Emp-ID: 1006, Emp-Name: Bimal, Emp-Location: Hyderabad, Emp-Salary: 30000...\n",
      "Emp-ID: 1007, Emp-Name: Tarun, Emp-Location: Chennai, Emp-Salary: 17000...\n",
      "Emp-ID: 1008, Emp-Name: Rittik, Emp-Location: Durgapur, Emp-Salary: 45000...\n",
      "Emp-ID: 1009, Emp-Name: Barun, Emp-Location: Hyderabad, Emp-Salary: 39000...\n",
      "Emp-ID: 1010, Emp-Name: Utpal, Emp-Location: Lucknow, Emp-Salary: 20000...\n"
     ]
    }
   ],
   "source": [
    "with open('emp_data.csv') as data_file:   # relative path\n",
    "    csv_reader = csv.reader(data_file)\n",
    "    for row in csv_reader:\n",
    "        print (f\"Emp-ID: {row[0]}, Emp-Name: {row[1]}, Emp-Location: {row[2]}, Emp-Salary: {row[3]}...\")"
   ]
  }
 ],
 "metadata": {
  "kernelspec": {
   "display_name": "Python 3",
   "language": "python",
   "name": "python3"
  },
  "language_info": {
   "codemirror_mode": {
    "name": "ipython",
    "version": 3
   },
   "file_extension": ".py",
   "mimetype": "text/x-python",
   "name": "python",
   "nbconvert_exporter": "python",
   "pygments_lexer": "ipython3",
   "version": "3.8.8"
  }
 },
 "nbformat": 4,
 "nbformat_minor": 5
}

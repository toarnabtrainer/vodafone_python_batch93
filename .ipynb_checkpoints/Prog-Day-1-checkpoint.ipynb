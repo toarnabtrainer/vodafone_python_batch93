{
 "cells": [
  {
   "cell_type": "code",
   "execution_count": null,
   "id": "7030f989-56df-4b07-8fa3-a854000fe3c6",
   "metadata": {},
   "outputs": [],
   "source": [
    "# ipynb stands for Interactive Python Note Book\n",
    "# We are working on Anaconda Jupyter Lab\n",
    "# Other Python popular editors available on Anaconda is \"Jupyter Notebook\" and \"Spider\"\n",
    "# Python is a case sensative, zero base, functional, fully Object Oriented Programming (OOP) language"
   ]
  },
  {
   "cell_type": "code",
   "execution_count": 2,
   "id": "4e0392b3-0fbb-48e4-b87b-e3d9fe05555a",
   "metadata": {},
   "outputs": [
    {
     "name": "stdout",
     "output_type": "stream",
     "text": [
      "Hello to all...\n",
      "Welcome to all...\n"
     ]
    }
   ],
   "source": [
    "print (\"Hello to all...\")\n",
    "print (\"Welcome to all...\")"
   ]
  },
  {
   "cell_type": "code",
   "execution_count": 6,
   "id": "317461d5-ddb6-4f52-9c47-2260f340d3c8",
   "metadata": {},
   "outputs": [
    {
     "name": "stdout",
     "output_type": "stream",
     "text": [
      "Hello    and Welcome\n"
     ]
    }
   ],
   "source": [
    "print (\"Hello\", \"and Welcome\")"
   ]
  },
  {
   "cell_type": "code",
   "execution_count": 7,
   "id": "117fa084-44a9-41e1-880a-39e16c890cfc",
   "metadata": {},
   "outputs": [
    {
     "name": "stdout",
     "output_type": "stream",
     "text": [
      "Help on built-in function print in module builtins:\n",
      "\n",
      "print(...)\n",
      "    print(value, ..., sep=' ', end='\\n', file=sys.stdout, flush=False)\n",
      "    \n",
      "    Prints the values to a stream, or to sys.stdout by default.\n",
      "    Optional keyword arguments:\n",
      "    file:  a file-like object (stream); defaults to the current sys.stdout.\n",
      "    sep:   string inserted between values, default a space.\n",
      "    end:   string appended after the last value, default a newline.\n",
      "    flush: whether to forcibly flush the stream.\n",
      "\n"
     ]
    }
   ],
   "source": [
    "help(print)"
   ]
  },
  {
   "cell_type": "code",
   "execution_count": 23,
   "id": "43fa60c7-0c79-4270-ae8f-04a888802ca4",
   "metadata": {},
   "outputs": [
    {
     "name": "stdout",
     "output_type": "stream",
     "text": [
      "Hello to all..., Welcome to all...\n",
      "Hello - and Welcome\n",
      "Good Morning Good Morning Good Morning Good Morning Good Morning \n",
      "Good day...\n",
      "Good Morning \n",
      "Good Morning \n",
      "Good Morning \n",
      "Good Morning \n",
      "Good Morning \n",
      "\n"
     ]
    }
   ],
   "source": [
    "print (\"Hello to all...\", end = \", \")\n",
    "print (\"Welcome to all...\")\n",
    "print (\"Hello\", \"and Welcome\", sep = \" - \")\n",
    "print (\"Good Morning \" * 5)\n",
    "print ('Good day...')\n",
    "print (\"Good Morning \\n\" * 5)"
   ]
  },
  {
   "cell_type": "code",
   "execution_count": 26,
   "id": "50150494-1905-47eb-ae00-930fe50aa0c4",
   "metadata": {},
   "outputs": [
    {
     "name": "stdin",
     "output_type": "stream",
     "text": [
      "Please enter the first number:  100\n",
      "Please enter the second number:  200\n"
     ]
    },
    {
     "name": "stdout",
     "output_type": "stream",
     "text": [
      "100 <class 'str'> 200 <class 'str'>\n",
      "100 + 200 = 100200\n"
     ]
    }
   ],
   "source": [
    "num1 = input(\"Please enter the first number: \")\n",
    "num2 = input(\"Please enter the second number: \")\n",
    "print (num1, type(num1), num2, type(num2))\n",
    "total = num1 + num2\n",
    "print (num1, \"+\", num2, \"=\", total)"
   ]
  },
  {
   "cell_type": "code",
   "execution_count": 27,
   "id": "20b268fc-7bc5-4359-8310-edbc3d6ac57f",
   "metadata": {},
   "outputs": [
    {
     "name": "stdin",
     "output_type": "stream",
     "text": [
      "Please enter the first number:  100\n",
      "Please enter the second number:  200\n"
     ]
    },
    {
     "name": "stdout",
     "output_type": "stream",
     "text": [
      "100 <class 'int'> 200 <class 'int'>\n",
      "100 + 200 = 300\n"
     ]
    }
   ],
   "source": [
    "num1 = int(input(\"Please enter the first number: \"))\n",
    "num2 = int(input(\"Please enter the second number: \"))\n",
    "print (num1, type(num1), num2, type(num2))\n",
    "total = num1 + num2\n",
    "print (num1, \"+\", num2, \"=\", total)"
   ]
  },
  {
   "cell_type": "code",
   "execution_count": 28,
   "id": "9b10e905-27bf-4d15-ba7c-cd0fccc48eb1",
   "metadata": {},
   "outputs": [
    {
     "name": "stdin",
     "output_type": "stream",
     "text": [
      "Please enter the first number:  200\n",
      "Please enter the second number:  300\n"
     ]
    },
    {
     "name": "stdout",
     "output_type": "stream",
     "text": [
      "200 <class 'int'> 300 <class 'int'>\n"
     ]
    }
   ],
   "source": [
    "num1 = int(input(\"Please enter the first number: \"))\n",
    "num2 = int(input(\"Please enter the second number: \"))\n",
    "print (num1, type(num1), num2, type(num2))\n",
    "total = num1 + num2"
   ]
  },
  {
   "cell_type": "code",
   "execution_count": 40,
   "id": "c29882f3-28c9-447d-81d5-bb6b545a4f6f",
   "metadata": {},
   "outputs": [
    {
     "name": "stdout",
     "output_type": "stream",
     "text": [
      "So 200 + 300 = 500\n",
      "So 200 + 300 = 500\n",
      "So 200 + 300 = 500\n",
      "So 200 + 300 = 500\n",
      "So 200 + 300 = 500\n",
      "So 200 + 300 = 500\n",
      "So 200 + 300 = 500\n",
      "So 200 + 300 = 500\n",
      "So 200 + 300.000000 = 500\n",
      "So 200 + 300.000000 = 500\n",
      "So 200 +    300.00000 = 500\n",
      "So 200 + 300 = 500\n"
     ]
    }
   ],
   "source": [
    "print (\"So\", num1, \"+\", num2, \"=\", total)\n",
    "print (\"So \" + str(num1) + \" + \" + str(num2) + \" = \" + str(total))\n",
    "print (\"So {} + {} = {}\".format(num1, num2, total))   # place holder\n",
    "print (\"So {0} + {1} = {2}\".format(num1, num2, total))   # numbered/indexed place holder\n",
    "print (\"So {2} + {1} = {0}\".format(total, num2, num1))   # numbered/indexed place holder\n",
    "print (\"So {fnum} + {snum} = {result}\".format(fnum=num1, snum=num2, result=total))   # labeled place holder\n",
    "print (\"So {fnum} + {snum} = {result}\".format(result=total, snum=num2, fnum=num1))   # labeled place holder\n",
    "print (\"So %d + %d = %d\"%(num1, num2, total))\n",
    "print (\"So %d + %f = %d\"%(num1, num2, total))\n",
    "print (\"So %d + %10.6f = %d\"%(num1, num2, total))\n",
    "print (\"So %d + %12.5f = %d\"%(num1, num2, total))\n",
    "print (f\"So {num1} + {num2} = {total}\")"
   ]
  },
  {
   "cell_type": "code",
   "execution_count": 44,
   "id": "b21d2431-39fb-47aa-aa12-e723bc7d64d3",
   "metadata": {},
   "outputs": [
    {
     "name": "stdout",
     "output_type": "stream",
     "text": [
      "120\n",
      "80\n",
      "2000\n",
      "3.3333333333333335\n",
      "3\n",
      "20\n",
      "10000\n"
     ]
    }
   ],
   "source": [
    "# Arithmetic Operators: + - * / // % **\n",
    "print (100 + 20)   # addition operation\n",
    "print (100 - 20)   # subtraction operation\n",
    "print (100 * 20)   # multiplication operation\n",
    "print (100 / 30)   # float division operation\n",
    "print (100 // 30)  # integer division operation\n",
    "print (100 % 40)   # modulus operation\n",
    "print (100 ** 2)   # exponentiation operation"
   ]
  },
  {
   "cell_type": "code",
   "execution_count": 48,
   "id": "b31de395-f4d2-497a-a921-36ee25f1a636",
   "metadata": {},
   "outputs": [
    {
     "name": "stdout",
     "output_type": "stream",
     "text": [
      "False False False True\n",
      "False True True True\n",
      "True False\n"
     ]
    }
   ],
   "source": [
    "# Logical Operators: and, or, not\n",
    "print (False and False, False and True, True and False, True and True)\n",
    "print (False or False, False or True, True or False, True or True)\n",
    "print (not(False or False), not(True and True))"
   ]
  },
  {
   "cell_type": "code",
   "execution_count": 52,
   "id": "a7498116-2f4e-4d88-9ea0-7d09180bdb00",
   "metadata": {},
   "outputs": [
    {
     "name": "stdout",
     "output_type": "stream",
     "text": [
      "True True True True True True\n"
     ]
    }
   ],
   "source": [
    "# relational Operators: > >= < <= != ==\n",
    "print (100 > 80, 100 >= 80, 100 < 500, 100 <= 500, 100 != 80, 100 == 100)"
   ]
  },
  {
   "cell_type": "code",
   "execution_count": 55,
   "id": "05b9a156-ad16-4494-b6a4-06d50c67681d",
   "metadata": {},
   "outputs": [
    {
     "name": "stdout",
     "output_type": "stream",
     "text": [
      "EVEN\n",
      "ODD\n"
     ]
    }
   ],
   "source": [
    "# Ternary Operator: Unary (one operand) -10 +20, Binary (two operands) 10+20, Ternary (three operands)\n",
    "num = 100\n",
    "result = \"EVEN\" if (num % 2  == 0) else \"ODD\"  # three operands: True Part, Condition and False Part\n",
    "print (result)\n",
    "\n",
    "num = 101\n",
    "result = \"EVEN\" if (num % 2  == 0) else \"ODD\"\n",
    "print (result)"
   ]
  },
  {
   "cell_type": "raw",
   "id": "76367f21-3937-4fc1-812a-7580e0da2389",
   "metadata": {},
   "source": [
    "ASCII (American Standard Code for Information Interchange) Code:\n",
    "----------------------------------------------------------------\n",
    "ASCII Code are of 8 bits: Value range is 0 to 255\n",
    "Category-1: 0 to 127 (Normal ASCII codes, printable)\n",
    "            A (65), B (66), ..., Z (90), a (97), b (98), ..., z (122), 0 (48), 1 (49), ..., 9 (57), \n",
    "            Enter (13), Esc (27), Tab (9), BS (8), Space (32)\n",
    "Category-2: 128 to 255, Non-printible extended ASCII Codes used for control characters"
   ]
  },
  {
   "cell_type": "code",
   "execution_count": 59,
   "id": "ea9663e8-ea54-4985-8782-d996c69119c5",
   "metadata": {},
   "outputs": [
    {
     "name": "stdout",
     "output_type": "stream",
     "text": [
      "65 90 97 122\n",
      "A Z a z\n"
     ]
    }
   ],
   "source": [
    "print (ord(\"A\"), ord(\"Z\"), ord(\"a\"), ord(\"z\"))\n",
    "print (chr(65), chr(90), chr(97), chr(122))"
   ]
  },
  {
   "cell_type": "code",
   "execution_count": null,
   "id": "3c9a6de3-1191-4a69-8dcf-93a65b44d7d1",
   "metadata": {},
   "outputs": [],
   "source": [
    "# Bitwise Operator: & | ^ ~\n",
    "result = 65 "
   ]
  },
  {
   "cell_type": "code",
   "execution_count": null,
   "id": "9606dc72-fe14-4797-a122-76b3f773d997",
   "metadata": {},
   "outputs": [],
   "source": []
  },
  {
   "cell_type": "code",
   "execution_count": null,
   "id": "9474126b-d8d3-4171-ba20-beab6a89dd78",
   "metadata": {},
   "outputs": [],
   "source": []
  },
  {
   "cell_type": "code",
   "execution_count": null,
   "id": "ded2464f-333d-4b5c-af2b-bedda495b4ac",
   "metadata": {},
   "outputs": [],
   "source": []
  },
  {
   "cell_type": "code",
   "execution_count": null,
   "id": "a5e786ed-7dca-4f7d-872a-c3e564c690b2",
   "metadata": {},
   "outputs": [],
   "source": []
  },
  {
   "cell_type": "code",
   "execution_count": null,
   "id": "58500d16-1fa0-49da-b468-221067f1da77",
   "metadata": {},
   "outputs": [],
   "source": []
  },
  {
   "cell_type": "code",
   "execution_count": null,
   "id": "2e0443c1-cfa1-4e24-b315-a10a7c6b0f67",
   "metadata": {},
   "outputs": [],
   "source": []
  },
  {
   "cell_type": "code",
   "execution_count": null,
   "id": "f1093c09-f7aa-45c6-bc2a-5a7334352825",
   "metadata": {},
   "outputs": [],
   "source": []
  },
  {
   "cell_type": "code",
   "execution_count": null,
   "id": "8ea8838c-14df-4a4e-9bcf-03d50b2abdbf",
   "metadata": {},
   "outputs": [],
   "source": []
  },
  {
   "cell_type": "code",
   "execution_count": null,
   "id": "480068d6-c365-447e-855b-54ff2f4b2e21",
   "metadata": {},
   "outputs": [],
   "source": []
  },
  {
   "cell_type": "code",
   "execution_count": null,
   "id": "01230b3d-6a10-4294-8169-2a7f185c4e16",
   "metadata": {},
   "outputs": [],
   "source": []
  },
  {
   "cell_type": "code",
   "execution_count": null,
   "id": "593aa2ed-71b3-4ab9-b11b-0da7c631a046",
   "metadata": {},
   "outputs": [],
   "source": []
  },
  {
   "cell_type": "code",
   "execution_count": null,
   "id": "0eb1daf2-ce94-49fb-a179-fd2f78367c5c",
   "metadata": {},
   "outputs": [],
   "source": []
  },
  {
   "cell_type": "code",
   "execution_count": null,
   "id": "87696903-e3b5-418e-bff6-ea33e7dcff58",
   "metadata": {},
   "outputs": [],
   "source": []
  },
  {
   "cell_type": "code",
   "execution_count": null,
   "id": "7c1f3fba-fafe-4ecc-9ae2-0584f355125b",
   "metadata": {},
   "outputs": [],
   "source": []
  },
  {
   "cell_type": "code",
   "execution_count": null,
   "id": "82776d3a-94c8-4de4-bf00-18eda34a8aa2",
   "metadata": {},
   "outputs": [],
   "source": []
  },
  {
   "cell_type": "code",
   "execution_count": null,
   "id": "4f43b24c-6eb5-428d-a154-6cf503dcecc9",
   "metadata": {},
   "outputs": [],
   "source": []
  },
  {
   "cell_type": "code",
   "execution_count": null,
   "id": "8b18116b-449b-4213-ba9d-38656d3b7cdc",
   "metadata": {},
   "outputs": [],
   "source": []
  },
  {
   "cell_type": "code",
   "execution_count": null,
   "id": "eb4336ed-f10f-47c6-a6ce-915a4c7b8ee0",
   "metadata": {},
   "outputs": [],
   "source": []
  },
  {
   "cell_type": "code",
   "execution_count": null,
   "id": "d0750f21-4cfb-4929-b45e-655bf99cc09c",
   "metadata": {},
   "outputs": [],
   "source": []
  },
  {
   "cell_type": "code",
   "execution_count": null,
   "id": "aa583db3-d9c7-4ecf-b0bd-db378d7bc31a",
   "metadata": {},
   "outputs": [],
   "source": []
  },
  {
   "cell_type": "code",
   "execution_count": null,
   "id": "698f569d-989c-4cb7-9b5f-1a7d7ee13464",
   "metadata": {},
   "outputs": [],
   "source": []
  },
  {
   "cell_type": "code",
   "execution_count": null,
   "id": "25935506-5d9f-4ef3-8211-37c19af10383",
   "metadata": {},
   "outputs": [],
   "source": []
  },
  {
   "cell_type": "code",
   "execution_count": null,
   "id": "f0f58f3a-5e80-4374-8b74-4ba1226cd5fe",
   "metadata": {},
   "outputs": [],
   "source": []
  },
  {
   "cell_type": "code",
   "execution_count": null,
   "id": "a461a172-7ad4-4c58-a1de-04fce0b1ad46",
   "metadata": {},
   "outputs": [],
   "source": []
  },
  {
   "cell_type": "code",
   "execution_count": null,
   "id": "e2a594e6-e67d-4d76-96bc-1800783ad7d8",
   "metadata": {},
   "outputs": [],
   "source": []
  },
  {
   "cell_type": "code",
   "execution_count": null,
   "id": "c924536c-96b2-4771-a371-52c8f34c0af8",
   "metadata": {},
   "outputs": [],
   "source": []
  },
  {
   "cell_type": "code",
   "execution_count": null,
   "id": "c8f09d93-6052-4bec-9725-b9b336766088",
   "metadata": {},
   "outputs": [],
   "source": []
  },
  {
   "cell_type": "code",
   "execution_count": null,
   "id": "73d5cc87-1492-475f-a98c-f7cd1f870ff1",
   "metadata": {},
   "outputs": [],
   "source": []
  },
  {
   "cell_type": "code",
   "execution_count": null,
   "id": "339db87e-8228-4ddb-a578-ea68db9f8ce7",
   "metadata": {},
   "outputs": [],
   "source": []
  },
  {
   "cell_type": "code",
   "execution_count": null,
   "id": "a1409baa-ee16-435e-9588-49c0af9ef214",
   "metadata": {},
   "outputs": [],
   "source": []
  },
  {
   "cell_type": "code",
   "execution_count": null,
   "id": "8aa88843-95c4-4cd4-afd8-a2e537f19735",
   "metadata": {},
   "outputs": [],
   "source": []
  }
 ],
 "metadata": {
  "kernelspec": {
   "display_name": "Python 3",
   "language": "python",
   "name": "python3"
  },
  "language_info": {
   "codemirror_mode": {
    "name": "ipython",
    "version": 3
   },
   "file_extension": ".py",
   "mimetype": "text/x-python",
   "name": "python",
   "nbconvert_exporter": "python",
   "pygments_lexer": "ipython3",
   "version": "3.8.8"
  }
 },
 "nbformat": 4,
 "nbformat_minor": 5
}

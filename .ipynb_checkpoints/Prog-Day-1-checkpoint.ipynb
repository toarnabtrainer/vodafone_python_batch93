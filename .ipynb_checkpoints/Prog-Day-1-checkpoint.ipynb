{
 "cells": [
  {
   "cell_type": "markdown",
   "id": "163ffc11-4f97-4e6a-8e1a-ecf895abd97f",
   "metadata": {},
   "source": [
    "### Python Comment Lines"
   ]
  },
  {
   "cell_type": "code",
   "execution_count": null,
   "id": "7030f989-56df-4b07-8fa3-a854000fe3c6",
   "metadata": {},
   "outputs": [],
   "source": [
    "# ipynb stands for Interactive Python Note Book\n",
    "# We are working on Anaconda Jupyter Lab\n",
    "# Other Python popular editors available on Anaconda is \"Jupyter Notebook\" and \"Spider\"\n",
    "# Python is a case sensative, zero base, functional, fully Object Oriented Programming (OOP) language"
   ]
  },
  {
   "cell_type": "markdown",
   "id": "e4c2428f-1cba-4c4d-8ca9-7ab7f8210779",
   "metadata": {},
   "source": [
    "### Python Introduction"
   ]
  },
  {
   "cell_type": "code",
   "execution_count": 2,
   "id": "4e0392b3-0fbb-48e4-b87b-e3d9fe05555a",
   "metadata": {},
   "outputs": [
    {
     "name": "stdout",
     "output_type": "stream",
     "text": [
      "Hello to all...\n",
      "Welcome to all...\n"
     ]
    }
   ],
   "source": [
    "print (\"Hello to all...\")\n",
    "print (\"Welcome to all...\")"
   ]
  },
  {
   "cell_type": "code",
   "execution_count": 6,
   "id": "317461d5-ddb6-4f52-9c47-2260f340d3c8",
   "metadata": {},
   "outputs": [
    {
     "name": "stdout",
     "output_type": "stream",
     "text": [
      "Hello    and Welcome\n"
     ]
    }
   ],
   "source": [
    "print (\"Hello\", \"and Welcome\")"
   ]
  },
  {
   "cell_type": "code",
   "execution_count": 7,
   "id": "117fa084-44a9-41e1-880a-39e16c890cfc",
   "metadata": {},
   "outputs": [
    {
     "name": "stdout",
     "output_type": "stream",
     "text": [
      "Help on built-in function print in module builtins:\n",
      "\n",
      "print(...)\n",
      "    print(value, ..., sep=' ', end='\\n', file=sys.stdout, flush=False)\n",
      "    \n",
      "    Prints the values to a stream, or to sys.stdout by default.\n",
      "    Optional keyword arguments:\n",
      "    file:  a file-like object (stream); defaults to the current sys.stdout.\n",
      "    sep:   string inserted between values, default a space.\n",
      "    end:   string appended after the last value, default a newline.\n",
      "    flush: whether to forcibly flush the stream.\n",
      "\n"
     ]
    }
   ],
   "source": [
    "help(print)"
   ]
  },
  {
   "cell_type": "markdown",
   "id": "89b4762c-2f2b-492c-b5f7-01be23356bf3",
   "metadata": {},
   "source": [
    "<h3>Python Print Statements</h3>"
   ]
  },
  {
   "cell_type": "code",
   "execution_count": 23,
   "id": "43fa60c7-0c79-4270-ae8f-04a888802ca4",
   "metadata": {},
   "outputs": [
    {
     "name": "stdout",
     "output_type": "stream",
     "text": [
      "Hello to all..., Welcome to all...\n",
      "Hello - and Welcome\n",
      "Good Morning Good Morning Good Morning Good Morning Good Morning \n",
      "Good day...\n",
      "Good Morning \n",
      "Good Morning \n",
      "Good Morning \n",
      "Good Morning \n",
      "Good Morning \n",
      "\n"
     ]
    }
   ],
   "source": [
    "print (\"Hello to all...\", end = \", \")\n",
    "print (\"Welcome to all...\")\n",
    "print (\"Hello\", \"and Welcome\", sep = \" - \")\n",
    "print (\"Good Morning \" * 5)\n",
    "print ('Good day...')\n",
    "print (\"Good Morning \\n\" * 5)"
   ]
  },
  {
   "cell_type": "markdown",
   "id": "c9b44ede-1d78-4798-85fa-1df82f00571a",
   "metadata": {},
   "source": [
    "### Python Input Statements"
   ]
  },
  {
   "cell_type": "code",
   "execution_count": 26,
   "id": "50150494-1905-47eb-ae00-930fe50aa0c4",
   "metadata": {},
   "outputs": [
    {
     "name": "stdin",
     "output_type": "stream",
     "text": [
      "Please enter the first number:  100\n",
      "Please enter the second number:  200\n"
     ]
    },
    {
     "name": "stdout",
     "output_type": "stream",
     "text": [
      "100 <class 'str'> 200 <class 'str'>\n",
      "100 + 200 = 100200\n"
     ]
    }
   ],
   "source": [
    "num1 = input(\"Please enter the first number: \")\n",
    "num2 = input(\"Please enter the second number: \")\n",
    "print (num1, type(num1), num2, type(num2))\n",
    "total = num1 + num2\n",
    "print (num1, \"+\", num2, \"=\", total)"
   ]
  },
  {
   "cell_type": "code",
   "execution_count": 27,
   "id": "20b268fc-7bc5-4359-8310-edbc3d6ac57f",
   "metadata": {},
   "outputs": [
    {
     "name": "stdin",
     "output_type": "stream",
     "text": [
      "Please enter the first number:  100\n",
      "Please enter the second number:  200\n"
     ]
    },
    {
     "name": "stdout",
     "output_type": "stream",
     "text": [
      "100 <class 'int'> 200 <class 'int'>\n",
      "100 + 200 = 300\n"
     ]
    }
   ],
   "source": [
    "num1 = int(input(\"Please enter the first number: \"))\n",
    "num2 = int(input(\"Please enter the second number: \"))\n",
    "print (num1, type(num1), num2, type(num2))\n",
    "total = num1 + num2\n",
    "print (num1, \"+\", num2, \"=\", total)"
   ]
  },
  {
   "cell_type": "code",
   "execution_count": 28,
   "id": "9b10e905-27bf-4d15-ba7c-cd0fccc48eb1",
   "metadata": {},
   "outputs": [
    {
     "name": "stdin",
     "output_type": "stream",
     "text": [
      "Please enter the first number:  200\n",
      "Please enter the second number:  300\n"
     ]
    },
    {
     "name": "stdout",
     "output_type": "stream",
     "text": [
      "200 <class 'int'> 300 <class 'int'>\n"
     ]
    }
   ],
   "source": [
    "num1 = int(input(\"Please enter the first number: \"))\n",
    "num2 = int(input(\"Please enter the second number: \"))\n",
    "print (num1, type(num1), num2, type(num2))\n",
    "total = num1 + num2"
   ]
  },
  {
   "cell_type": "code",
   "execution_count": 40,
   "id": "c29882f3-28c9-447d-81d5-bb6b545a4f6f",
   "metadata": {},
   "outputs": [
    {
     "name": "stdout",
     "output_type": "stream",
     "text": [
      "So 200 + 300 = 500\n",
      "So 200 + 300 = 500\n",
      "So 200 + 300 = 500\n",
      "So 200 + 300 = 500\n",
      "So 200 + 300 = 500\n",
      "So 200 + 300 = 500\n",
      "So 200 + 300 = 500\n",
      "So 200 + 300 = 500\n",
      "So 200 + 300.000000 = 500\n",
      "So 200 + 300.000000 = 500\n",
      "So 200 +    300.00000 = 500\n",
      "So 200 + 300 = 500\n"
     ]
    }
   ],
   "source": [
    "print (\"So\", num1, \"+\", num2, \"=\", total)\n",
    "print (\"So \" + str(num1) + \" + \" + str(num2) + \" = \" + str(total))\n",
    "print (\"So {} + {} = {}\".format(num1, num2, total))   # place holder\n",
    "print (\"So {0} + {1} = {2}\".format(num1, num2, total))   # numbered/indexed place holder\n",
    "print (\"So {2} + {1} = {0}\".format(total, num2, num1))   # numbered/indexed place holder\n",
    "print (\"So {fnum} + {snum} = {result}\".format(fnum=num1, snum=num2, result=total))   # labeled place holder\n",
    "print (\"So {fnum} + {snum} = {result}\".format(result=total, snum=num2, fnum=num1))   # labeled place holder\n",
    "print (\"So %d + %d = %d\"%(num1, num2, total))\n",
    "print (\"So %d + %f = %d\"%(num1, num2, total))\n",
    "print (\"So %d + %10.6f = %d\"%(num1, num2, total))\n",
    "print (\"So %d + %12.5f = %d\"%(num1, num2, total))\n",
    "print (f\"So {num1} + {num2} = {total}\")"
   ]
  },
  {
   "cell_type": "markdown",
   "id": "089440ac-16ff-41a0-9836-4918d24ac081",
   "metadata": {},
   "source": [
    "### Python Operators"
   ]
  },
  {
   "cell_type": "code",
   "execution_count": 44,
   "id": "b21d2431-39fb-47aa-aa12-e723bc7d64d3",
   "metadata": {},
   "outputs": [
    {
     "name": "stdout",
     "output_type": "stream",
     "text": [
      "120\n",
      "80\n",
      "2000\n",
      "3.3333333333333335\n",
      "3\n",
      "20\n",
      "10000\n"
     ]
    }
   ],
   "source": [
    "# Arithmetic Operators: + - * / // % **\n",
    "print (100 + 20)   # addition operation\n",
    "print (100 - 20)   # subtraction operation\n",
    "print (100 * 20)   # multiplication operation\n",
    "print (100 / 30)   # float division operation\n",
    "print (100 // 30)  # integer division operation\n",
    "print (100 % 40)   # modulus operation\n",
    "print (100 ** 2)   # exponentiation operation"
   ]
  },
  {
   "cell_type": "code",
   "execution_count": 48,
   "id": "b31de395-f4d2-497a-a921-36ee25f1a636",
   "metadata": {},
   "outputs": [
    {
     "name": "stdout",
     "output_type": "stream",
     "text": [
      "False False False True\n",
      "False True True True\n",
      "True False\n"
     ]
    }
   ],
   "source": [
    "# Logical Operators: and, or, not\n",
    "print (False and False, False and True, True and False, True and True)\n",
    "print (False or False, False or True, True or False, True or True)\n",
    "print (not(False or False), not(True and True))"
   ]
  },
  {
   "cell_type": "code",
   "execution_count": 52,
   "id": "a7498116-2f4e-4d88-9ea0-7d09180bdb00",
   "metadata": {},
   "outputs": [
    {
     "name": "stdout",
     "output_type": "stream",
     "text": [
      "True True True True True True\n"
     ]
    }
   ],
   "source": [
    "# relational Operators: > >= < <= != ==\n",
    "print (100 > 80, 100 >= 80, 100 < 500, 100 <= 500, 100 != 80, 100 == 100)"
   ]
  },
  {
   "cell_type": "code",
   "execution_count": 55,
   "id": "05b9a156-ad16-4494-b6a4-06d50c67681d",
   "metadata": {},
   "outputs": [
    {
     "name": "stdout",
     "output_type": "stream",
     "text": [
      "EVEN\n",
      "ODD\n"
     ]
    }
   ],
   "source": [
    "# Ternary Operator: Unary (one operand) -10 +20, Binary (two operands) 10+20, Ternary (three operands)\n",
    "num = 100\n",
    "result = \"EVEN\" if (num % 2  == 0) else \"ODD\"  # three operands: True Part, Condition and False Part\n",
    "print (result)\n",
    "\n",
    "num = 101\n",
    "result = \"EVEN\" if (num % 2  == 0) else \"ODD\"\n",
    "print (result)"
   ]
  },
  {
   "cell_type": "raw",
   "id": "76367f21-3937-4fc1-812a-7580e0da2389",
   "metadata": {},
   "source": [
    "ASCII (American Standard Code for Information Interchange) Code:\n",
    "----------------------------------------------------------------\n",
    "ASCII Code are of 8 bits: Value range is 0 to 255\n",
    "Category-1: 0 to 127 (Normal ASCII codes, printable)\n",
    "            A (65), B (66), ..., Z (90), a (97), b (98), ..., z (122), 0 (48), 1 (49), ..., 9 (57), \n",
    "            Enter (13), Esc (27), Tab (9), BS (8), Space (32)\n",
    "Category-2: 128 to 255, Non-printible extended ASCII Codes used for control characters"
   ]
  },
  {
   "cell_type": "code",
   "execution_count": 59,
   "id": "ea9663e8-ea54-4985-8782-d996c69119c5",
   "metadata": {},
   "outputs": [
    {
     "name": "stdout",
     "output_type": "stream",
     "text": [
      "65 90 97 122\n",
      "A Z a z\n"
     ]
    }
   ],
   "source": [
    "print (ord(\"A\"), ord(\"Z\"), ord(\"a\"), ord(\"z\"))\n",
    "print (chr(65), chr(90), chr(97), chr(122))"
   ]
  },
  {
   "cell_type": "code",
   "execution_count": 63,
   "id": "3c9a6de3-1191-4a69-8dcf-93a65b44d7d1",
   "metadata": {},
   "outputs": [
    {
     "name": "stdout",
     "output_type": "stream",
     "text": [
      "A a\n",
      "a A\n",
      "a A\n"
     ]
    }
   ],
   "source": [
    "# Bitwise Operator: & | ^ ~ (1's complement)\n",
    "#   65 (A) => 64 + 1      = 0100 0001             97 (a) => 64 + 32 + 1 = 0110 0001\n",
    "#                    or (|) 0010 0000 (32)                        and (&) 1101 1111 (223)\n",
    "#                           ---------                                     ---------          \n",
    "#   97 (a) => 64 + 32 + 1 = 0110 0001             65 (A) => 64 + 1      = 0100 0001\n",
    "mychar = \"A\"\n",
    "print (mychar, chr(ord(mychar) | 32))\n",
    "mychar = \"a\"\n",
    "print (mychar, chr(ord(mychar) & 223))\n",
    "mychar = \"a\"\n",
    "print (mychar, chr(ord(mychar) & (~32)))"
   ]
  },
  {
   "cell_type": "markdown",
   "id": "215ecda1-fb44-4912-904d-a97129c3c918",
   "metadata": {},
   "source": [
    "### Python Conditional Statements"
   ]
  },
  {
   "cell_type": "code",
   "execution_count": 78,
   "id": "9606dc72-fe14-4797-a122-76b3f773d997",
   "metadata": {},
   "outputs": [
    {
     "name": "stdin",
     "output_type": "stream",
     "text": [
      "Please enter the first number:  22\n",
      "Please enter the second number:  11\n",
      "Please enter the third number:  33\n"
     ]
    },
    {
     "name": "stdout",
     "output_type": "stream",
     "text": [
      "So the third number is the maximum number...\n",
      "So the maximum number is 33...\n",
      "End of the program...\n"
     ]
    }
   ],
   "source": [
    "# conditional statements\n",
    "# find out the maximum of three user given numbers\n",
    "num1 = int(input(\"Please enter the first number: \"))\n",
    "num2 = int(input(\"Please enter the second number: \"))\n",
    "num3 = int(input(\"Please enter the third number: \"))\n",
    "if (num1 > num2):\n",
    "    if (num1 > num3):\n",
    "        print (\"So the first number is the maximum number...\")\n",
    "        print (f\"So the maximum number is {num1}...\")\n",
    "    else:\n",
    "        print (\"So the third number is the maximum number...\")\n",
    "        print (f\"So the maximum number is {num3}...\")\n",
    "elif (num2 > num3):\n",
    "    print (\"So the second number is the maximum number...\")\n",
    "    print (f\"So the maximum number is {num2}...\")\n",
    "else:\n",
    "    print (\"So the third number is the maximum number...\")\n",
    "    print (f\"So the maximum number is {num3}...\")\n",
    "print (\"End of the program...\")"
   ]
  },
  {
   "cell_type": "code",
   "execution_count": 80,
   "id": "9474126b-d8d3-4171-ba20-beab6a89dd78",
   "metadata": {},
   "outputs": [
    {
     "name": "stdin",
     "output_type": "stream",
     "text": [
      "Please enter the first number:  55\n",
      "Please enter the second number:  88\n",
      "Please enter the third number:  77\n"
     ]
    },
    {
     "name": "stdout",
     "output_type": "stream",
     "text": [
      "So the second number is the maximum number...\n",
      "So the maximum number is 88...\n",
      "End of the program...\n"
     ]
    }
   ],
   "source": [
    "# find out the maximum of three user given numbers\n",
    "num1 = int(input(\"Please enter the first number: \"))\n",
    "num2 = int(input(\"Please enter the second number: \"))\n",
    "num3 = int(input(\"Please enter the third number: \"))\n",
    "if (num1 > num2 and num1 > num3):\n",
    "        print (\"So the first number is the maximum number...\")\n",
    "        print (f\"So the maximum number is {num1}...\")\n",
    "elif (num2 > num3):\n",
    "    print (\"So the second number is the maximum number...\")\n",
    "    print (f\"So the maximum number is {num2}...\")\n",
    "else:\n",
    "    print (\"So the third number is the maximum number...\")\n",
    "    print (f\"So the maximum number is {num3}...\")\n",
    "print (\"End of the program...\")"
   ]
  },
  {
   "cell_type": "code",
   "execution_count": 82,
   "id": "ded2464f-333d-4b5c-af2b-bedda495b4ac",
   "metadata": {},
   "outputs": [
    {
     "name": "stdin",
     "output_type": "stream",
     "text": [
      "Please enter the number:  101\n"
     ]
    },
    {
     "name": "stdout",
     "output_type": "stream",
     "text": [
      "So the number is the ODD number...\n",
      "Else part is executed...\n",
      "End of the program...\n"
     ]
    }
   ],
   "source": [
    "# find out whether a given number is EVEN or ODD\n",
    "num1 = int(input(\"Please enter the number: \"))\n",
    "if (num1 % 2 == 0):\n",
    "    print (\"So the number is the EVEN number...\")\n",
    "    print (\"Then part is executed...\")\n",
    "else:\n",
    "    print (\"So the number is the ODD number...\")\n",
    "    print (\"Else part is executed...\")\n",
    "print (\"End of the program...\")"
   ]
  },
  {
   "cell_type": "code",
   "execution_count": 87,
   "id": "a5e786ed-7dca-4f7d-872a-c3e564c690b2",
   "metadata": {},
   "outputs": [
    {
     "name": "stdin",
     "output_type": "stream",
     "text": [
      "Please enter the number:  122\n"
     ]
    },
    {
     "name": "stdout",
     "output_type": "stream",
     "text": [
      "So the number is the EVEN number...\n",
      "Then part is executed...\n",
      "End of the program...\n"
     ]
    }
   ],
   "source": [
    "# find out whether a given number is EVEN or ODD\n",
    "num1 = int(input(\"Please enter the number: \"))\n",
    "if (num1 % 2 == 0): print (\"So the number is the EVEN number...\"); print (\"Then part is executed...\")\n",
    "else: print (\"So the number is the ODD number...\"); print (\"Else part is executed...\")\n",
    "print (\"End of the program...\")"
   ]
  },
  {
   "cell_type": "code",
   "execution_count": 42,
   "id": "58500d16-1fa0-49da-b468-221067f1da77",
   "metadata": {},
   "outputs": [
    {
     "name": "stdin",
     "output_type": "stream",
     "text": [
      "Please enter the number:  121\n"
     ]
    },
    {
     "name": "stdout",
     "output_type": "stream",
     "text": [
      "So the number is the ODD number...\n",
      "Else part is executed...\n",
      "End of the program...\n"
     ]
    }
   ],
   "source": [
    "# find out whether a given number is EVEN or ODD\n",
    "num1 = int(input(\"Please enter the number: \"))\n",
    "if (num1 % 2 == 0):\n",
    "    pass    # pass is a statement placeholder and a keyword\n",
    "else:\n",
    "    print (\"So the number is the ODD number...\")\n",
    "    print (\"Else part is executed...\")\n",
    "print (\"End of the program...\")"
   ]
  },
  {
   "cell_type": "markdown",
   "id": "0299df64-1556-4ef3-a16a-b22975b589b1",
   "metadata": {},
   "source": [
    "### Python Loop Statements"
   ]
  },
  {
   "cell_type": "code",
   "execution_count": 92,
   "id": "2e0443c1-cfa1-4e24-b315-a10a7c6b0f67",
   "metadata": {},
   "outputs": [
    {
     "name": "stdout",
     "output_type": "stream",
     "text": [
      "i = 0\n",
      "i = 1\n",
      "i = 2\n",
      "i = 3\n",
      "i = 4\n",
      "\n",
      "i = 0\n",
      "i = 1\n",
      "i = 2\n",
      "i = 3\n",
      "i = 4\n"
     ]
    }
   ],
   "source": [
    "# Looping with For Loop...\n",
    "for i in range(5):\n",
    "    print (\"i =\", i)\n",
    "print (\"\")\n",
    "for i in range(0, 5, 1):\n",
    "    print (\"i =\", i)"
   ]
  },
  {
   "cell_type": "code",
   "execution_count": 111,
   "id": "f1093c09-f7aa-45c6-bc2a-5a7334352825",
   "metadata": {},
   "outputs": [
    {
     "name": "stdout",
     "output_type": "stream",
     "text": [
      "i = -10, i = -9, i = -8, i = -7, i = -6, i = -5, i = -4, i = -3, i = -2, i = -1, i = 0, i = 1, i = 2, i = 3, i = 4, i = 5, i = 6, i = 7, i = 8, i = 9, \n",
      "So number of iterations = 20\n",
      "\n",
      "i = 10, i = 9, i = 8, i = 7, i = 6, i = 5, i = 4, i = 3, i = 2, i = 1, i = 0, i = -1, i = -2, i = -3, i = -4, i = -5, i = -6, i = -7, i = -8, i = -9, \n",
      "\n",
      "Else part is executing...\n",
      "\n",
      "So number of iterations = 20\n"
     ]
    }
   ],
   "source": [
    "count = 0\n",
    "for i in range(-10, 10, 1):\n",
    "    print (\"i =\", i, end = \", \")\n",
    "    count += 1\n",
    "print (f\"\\nSo number of iterations = {count}\")\n",
    "\n",
    "print (\"\")\n",
    "\n",
    "count = 0\n",
    "for i in range(10, -10, -1):\n",
    "    print (\"i =\", i, end = \", \")\n",
    "    count += 1\n",
    "else:\n",
    "    print (\"\\n\\nElse part is executing...\")\n",
    "print (f\"\\nSo number of iterations = {count}\")"
   ]
  },
  {
   "cell_type": "code",
   "execution_count": 97,
   "id": "8ea8838c-14df-4a4e-9bcf-03d50b2abdbf",
   "metadata": {},
   "outputs": [
    {
     "name": "stdout",
     "output_type": "stream",
     "text": [
      "i = 100\n",
      "i = 300\n",
      "i = 400\n",
      "i = 500\n"
     ]
    }
   ],
   "source": [
    "for i in [100, 300, 400, 500]:\n",
    "    print(f\"i = {i}\")"
   ]
  },
  {
   "cell_type": "code",
   "execution_count": 102,
   "id": "480068d6-c365-447e-855b-54ff2f4b2e21",
   "metadata": {},
   "outputs": [
    {
     "name": "stdout",
     "output_type": "stream",
     "text": [
      "0, \n",
      "1, \n",
      "2, \n",
      "3, \n",
      "4, \n",
      "5, \n",
      "6, \n",
      "7, \n",
      "Breaking out for i = 8\n",
      "End of the program...\n"
     ]
    }
   ],
   "source": [
    "for i in range(10):\n",
    "    if (i == 8): \n",
    "        print (\"Breaking out for i =\", i)\n",
    "        break\n",
    "    print (f\"{i}, \")\n",
    "print (\"End of the program...\")"
   ]
  },
  {
   "cell_type": "code",
   "execution_count": 104,
   "id": "01230b3d-6a10-4294-8169-2a7f185c4e16",
   "metadata": {},
   "outputs": [
    {
     "name": "stdout",
     "output_type": "stream",
     "text": [
      "i = 0, \n",
      "i = 1, \n",
      "i = 2, \n",
      "i = 3, \n",
      "Continuing with the next iteration...\n",
      "i = 5, \n",
      "i = 6, \n",
      "i = 7, \n",
      "Continuing with the next iteration...\n",
      "i = 9, \n",
      "End of the program...\n"
     ]
    }
   ],
   "source": [
    "for i in range(10):\n",
    "    if (i == 4 or i == 8): \n",
    "        print (\"Continuing with the next iteration...\")\n",
    "        continue\n",
    "    print (f\"i = {i}, \")\n",
    "print (\"End of the program...\")"
   ]
  },
  {
   "cell_type": "code",
   "execution_count": 107,
   "id": "593aa2ed-71b3-4ab9-b11b-0da7c631a046",
   "metadata": {},
   "outputs": [
    {
     "name": "stdout",
     "output_type": "stream",
     "text": [
      "range(0, 10) [0, 1, 2, 3, 4, 5, 6, 7, 8, 9]\n"
     ]
    }
   ],
   "source": [
    "print (range(10), list(range(10)))"
   ]
  },
  {
   "cell_type": "code",
   "execution_count": 113,
   "id": "0eb1daf2-ce94-49fb-a179-fd2f78367c5c",
   "metadata": {},
   "outputs": [
    {
     "name": "stdout",
     "output_type": "stream",
     "text": [
      "0, \n",
      "1, \n",
      "2, \n",
      "3, \n",
      "4, \n",
      "5, \n",
      "6, \n",
      "7, \n",
      "Breaking out for i = 8\n",
      "End of the program...\n"
     ]
    }
   ],
   "source": [
    "for i in range(10):\n",
    "    if (i == 8): \n",
    "        print (\"Breaking out for i =\", i)\n",
    "        break\n",
    "    print (f\"{i}, \")\n",
    "else:\n",
    "    print (\"Else block is executing...\")\n",
    "print (\"End of the program...\")"
   ]
  },
  {
   "cell_type": "code",
   "execution_count": 109,
   "id": "87696903-e3b5-418e-bff6-ea33e7dcff58",
   "metadata": {},
   "outputs": [
    {
     "name": "stdout",
     "output_type": "stream",
     "text": [
      "i = 0, \n",
      "i = 1, \n",
      "i = 2, \n",
      "i = 3, \n",
      "Continuing with the next iteration...\n",
      "i = 5, \n",
      "i = 6, \n",
      "i = 7, \n",
      "Continuing with the next iteration...\n",
      "i = 9, \n",
      "Else block is executing...\n",
      "End of the program...\n"
     ]
    }
   ],
   "source": [
    "for i in range(10):\n",
    "    if (i == 4 or i == 8): \n",
    "        print (\"Continuing with the next iteration...\")\n",
    "        continue\n",
    "    print (f\"i = {i}, \")\n",
    "else:\n",
    "    print (\"Else block is executing...\")\n",
    "print (\"End of the program...\")"
   ]
  },
  {
   "cell_type": "code",
   "execution_count": 120,
   "id": "7c1f3fba-fafe-4ecc-9ae2-0584f355125b",
   "metadata": {},
   "outputs": [
    {
     "name": "stdin",
     "output_type": "stream",
     "text": [
      "Please enter one integer:  101\n"
     ]
    },
    {
     "name": "stdout",
     "output_type": "stream",
     "text": [
      "101 is a Prime Number...\n",
      "End of the program...\n"
     ]
    }
   ],
   "source": [
    "num = int(input(\"Please enter one integer: \"))\n",
    "for i in range(2, int(num ** 0.5) + 1):\n",
    "    if (num % i == 0):\n",
    "        print (f\"{num} is NOT a Prime Number...\")\n",
    "        break\n",
    "else:\n",
    "    print (f\"{num} is a Prime Number...\")\n",
    "print (\"End of the program...\")"
   ]
  },
  {
   "cell_type": "code",
   "execution_count": 119,
   "id": "82776d3a-94c8-4de4-bf00-18eda34a8aa2",
   "metadata": {},
   "outputs": [
    {
     "name": "stdout",
     "output_type": "stream",
     "text": [
      "101 10.04987562112089 10\n"
     ]
    }
   ],
   "source": [
    "num = 101\n",
    "print (num, num ** 0.5, int(num ** 0.5))"
   ]
  },
  {
   "cell_type": "code",
   "execution_count": 121,
   "id": "4f43b24c-6eb5-428d-a154-6cf503dcecc9",
   "metadata": {},
   "outputs": [
    {
     "name": "stdout",
     "output_type": "stream",
     "text": [
      "Visit Doctor...\n",
      "Day No: 1, Good morning...\n",
      "Day No: 1 and Medicine No: 1...\n",
      "Day No: 1 and Medicine No: 2...\n",
      "Day No: 1 and Medicine No: 3...\n",
      "Day No: 1, Good night...\n",
      "--------------------------------------------------------------\n",
      "Day No: 2, Good morning...\n",
      "Day No: 2 and Medicine No: 1...\n",
      "Day No: 2 and Medicine No: 2...\n",
      "Day No: 2 and Medicine No: 3...\n",
      "Day No: 2, Good night...\n",
      "--------------------------------------------------------------\n",
      "Day No: 3, Good morning...\n",
      "Day No: 3 and Medicine No: 1...\n",
      "Day No: 3 and Medicine No: 2...\n",
      "Day No: 3 and Medicine No: 3...\n",
      "Day No: 3, Good night...\n",
      "--------------------------------------------------------------\n",
      "Day No: 4, Good morning...\n",
      "Day No: 4 and Medicine No: 1...\n",
      "Day No: 4 and Medicine No: 2...\n",
      "Day No: 4 and Medicine No: 3...\n",
      "Day No: 4, Good night...\n",
      "--------------------------------------------------------------\n",
      "Day No: 5, Good morning...\n",
      "Day No: 5 and Medicine No: 1...\n",
      "Day No: 5 and Medicine No: 2...\n",
      "Day No: 5 and Medicine No: 3...\n",
      "Day No: 5, Good night...\n",
      "--------------------------------------------------------------\n",
      "Thanks to Dcotor...\n"
     ]
    }
   ],
   "source": [
    "print (\"Visit Doctor...\")\n",
    "for day in range(1, 6):\n",
    "    print (f\"Day No: {day}, Good morning...\")\n",
    "    for medi in range(1, 4):\n",
    "        print (f\"Day No: {day} and Medicine No: {medi}...\")\n",
    "    print (f\"Day No: {day}, Good night...\")\n",
    "    print (\"--------------------------------------------------------------\")\n",
    "else:\n",
    "    print (\"Thanks to Dcotor...\")"
   ]
  },
  {
   "cell_type": "code",
   "execution_count": null,
   "id": "50653296-752d-4176-80b1-7df46b94bce0",
   "metadata": {},
   "outputs": [],
   "source": [
    "print (\"Visit Doctor...\")\n",
    "day = 1\n",
    "while (day <= 5):\n",
    "    print (f\"Day No: {day}, Good morning...\")\n",
    "    medi = 1\n",
    "    while (medi <= 3):\n",
    "        print (f\"Day No: {day} and Medicine No: {medi}...\")\n",
    "        medi += 1\n",
    "    print (f\"Day No: {day}, Good night...\")\n",
    "    print (\"--------------------------------------------------------------\")\n",
    "    day += 1\n",
    "else:\n",
    "    print (\"Thanks to Dcotor...\")"
   ]
  },
  {
   "cell_type": "code",
   "execution_count": 1,
   "id": "eb4336ed-f10f-47c6-a6ce-915a4c7b8ee0",
   "metadata": {},
   "outputs": [
    {
     "name": "stdin",
     "output_type": "stream",
     "text": [
      "Please enter the number of layers:  10\n"
     ]
    },
    {
     "name": "stdout",
     "output_type": "stream",
     "text": [
      ".........*\n",
      "........***\n",
      ".......*****\n",
      "......*******\n",
      ".....*********\n",
      "....***********\n",
      "...*************\n",
      "..***************\n",
      ".*****************\n",
      "*******************\n",
      "\n",
      "End of the program...\n"
     ]
    }
   ],
   "source": [
    "# Pattern printing - 1\n",
    "\n",
    "# n = 6         i   .   *\n",
    "#             -------------\n",
    "# .....*        1   5   1\n",
    "# ....***       2   4   3  . => (n - i)\n",
    "# ...*****      3   3   5\n",
    "# ..*******     4   2   7  * => (2 * i - 1)\n",
    "# .*********    5   1   9\n",
    "# ***********   6   0  11\n",
    "#             -------------\n",
    "#             Tracing Table\n",
    "#\n",
    "n = int(input(\"Please enter the number of layers: \"))\n",
    "i = 1\n",
    "while ( i <= n ):\n",
    "    blank = n - i\n",
    "    star = 2 * i - 1\n",
    "    print (\".\" * blank + \"*\" * star)\n",
    "    i += 1\n",
    "        \n",
    "print (\"\\nEnd of the program...\")"
   ]
  },
  {
   "cell_type": "code",
   "execution_count": 2,
   "id": "ea6c4446-9c71-4fc3-b8cb-a179d5b53183",
   "metadata": {},
   "outputs": [
    {
     "name": "stdin",
     "output_type": "stream",
     "text": [
      "Please enter the number of layers:  10\n"
     ]
    },
    {
     "name": "stdout",
     "output_type": "stream",
     "text": [
      ".........*\n",
      "........***\n",
      ".......*****\n",
      "......*******\n",
      ".....*********\n",
      "....***********\n",
      "...*************\n",
      "..***************\n",
      ".*****************\n",
      "*******************\n",
      "\n",
      "End of the program...\n"
     ]
    }
   ],
   "source": [
    "n = int(input(\"Please enter the number of layers: \"))\n",
    "i = 1\n",
    "while ( i <= n ):\n",
    "    print (\".\" * (n - i) + \"*\" * (2 * i - 1))\n",
    "    i += 1\n",
    "        \n",
    "print (\"\\nEnd of the program...\")"
   ]
  },
  {
   "cell_type": "code",
   "execution_count": 6,
   "id": "d0750f21-4cfb-4929-b45e-655bf99cc09c",
   "metadata": {},
   "outputs": [
    {
     "name": "stdin",
     "output_type": "stream",
     "text": [
      "Please enter the number of layers:  11\n"
     ]
    },
    {
     "name": "stdout",
     "output_type": "stream",
     "text": [
      "*********************\n",
      ".*******************\n",
      "..*****************\n",
      "...***************\n",
      "....*************\n",
      ".....***********\n",
      "......*********\n",
      ".......*******\n",
      "........*****\n",
      ".........***\n",
      "..........*\n",
      "\n",
      "End of the program...\n"
     ]
    }
   ],
   "source": [
    "# Pattern printing - 2 (Using for in Python)\n",
    "\n",
    "# n = 6         i   .   *\n",
    "#             -------------\n",
    "# ***********   1   0  11\n",
    "# .*********    2   1   9  . => ( i - 1 )\n",
    "# ..*******     3   2   7\n",
    "# ...*****      4   3   5  * => ( 2 * (n - i) + 1 )\n",
    "# ....***       5   4   3\n",
    "# .....*        6   5   1\n",
    "#             -------------\n",
    "#             Tracing Table\n",
    "#\n",
    "n = int(input(\"Please enter the number of layers: \"))\n",
    "for i in range(1, n + 1):\n",
    "    blank = (i - 1)\n",
    "    star = (2 * (n - i) + 1)\n",
    "    print (\".\" * blank + \"*\" * star)\n",
    "\n",
    "print (\"\\nEnd of the program...\")"
   ]
  },
  {
   "cell_type": "code",
   "execution_count": 12,
   "id": "aa583db3-d9c7-4ecf-b0bd-db378d7bc31a",
   "metadata": {},
   "outputs": [
    {
     "name": "stdin",
     "output_type": "stream",
     "text": [
      "Please enter the ODD number of layers:  11\n"
     ]
    },
    {
     "name": "stdout",
     "output_type": "stream",
     "text": [
      ".....*\n",
      "....***\n",
      "...*****\n",
      "..*******\n",
      ".*********\n",
      "***********\n",
      ".*********\n",
      "..*******\n",
      "...*****\n",
      "....***\n",
      ".....*\n",
      "\n",
      "End of the program...\n"
     ]
    }
   ],
   "source": [
    "# Pattern printing - 3 (Using for/while in Python)\n",
    "\n",
    "# n = 11 (OOD number of layers)\n",
    "# m = 6 = (n + 1) / 2\n",
    "#               i   .   *\n",
    "#             -------------\n",
    "# .....*        1   5   1       (n, i, m)\n",
    "# ....***       2   4   3  . => (m - i)\n",
    "# ...*****      3   3   5\n",
    "# ..*******     4   2   7  * => (2 * i - 1)\n",
    "# .*********    5   1   9\n",
    "# *********** __6___0__11__\n",
    "# .*********    7   1   9\n",
    "# ..*******     8   2   7  . => (i - m)\n",
    "# ...*****      9   3   5\n",
    "# ....***      10   4   3  * => 2 * (n - i) + 1\n",
    "# .....*       11   5   1\n",
    "#             -------------\n",
    "#             Tracing Table\n",
    "#\n",
    "while [ True ]:\n",
    "    n = int(input(\"Please enter the ODD number of layers: \"))\n",
    "    if ( n % 2 == 1 ):\n",
    "        break\n",
    "m = (n + 1) // 2\n",
    "for i in range(1, n + 1):\n",
    "    if ( i > m ): blank = (i - m); star = (2 * (n - i) + 1)\n",
    "    else: blank = (m - i); star = (2 * i - 1)\n",
    "    print (\".\" * blank + \"*\" * star)\n",
    "\n",
    "print (\"\\nEnd of the program...\")"
   ]
  },
  {
   "cell_type": "code",
   "execution_count": 28,
   "id": "698f569d-989c-4cb7-9b5f-1a7d7ee13464",
   "metadata": {},
   "outputs": [
    {
     "name": "stdin",
     "output_type": "stream",
     "text": [
      "Please enter the number of layers:  11\n"
     ]
    },
    {
     "name": "stdout",
     "output_type": "stream",
     "text": [
      "*********************\n",
      ".*******************\n",
      "..*****************\n",
      "...***************\n",
      "....*************\n",
      ".....***********\n",
      "......*********\n",
      ".......*******\n",
      "........*****\n",
      ".........***\n",
      "..........*\n",
      "\n",
      "End of the program...\n"
     ]
    }
   ],
   "source": [
    "n = int(input(\"Please enter the number of layers: \"))\n",
    "i = 1\n",
    "while ( i <= n ):\n",
    "    blank= i - 1\n",
    "    j = 1\n",
    "    while ( j <= blank ):\n",
    "        print (\".\", end = \"\")\n",
    "        j = j + 1\n",
    "    star = (2 * (n - i) + 1)\n",
    "    j = 1\n",
    "    while ( j <= star ):\n",
    "        print (\"*\", end = \"\")\n",
    "        j = j + 1\n",
    "    i = i + 1\n",
    "    print (\"\")\n",
    "print (\"\\nEnd of the program...\")"
   ]
  },
  {
   "cell_type": "markdown",
   "id": "e7f79708-7e2c-473b-823f-6fc076f01145",
   "metadata": {},
   "source": [
    "### Python Variables and IDs"
   ]
  },
  {
   "cell_type": "code",
   "execution_count": 43,
   "id": "88a11d8e-a963-4de3-9c5e-a528e37bf721",
   "metadata": {},
   "outputs": [
    {
     "name": "stdout",
     "output_type": "stream",
     "text": [
      "-5 <class 'int'> 140705845159536\n",
      "-5 <class 'int'> 140705845159536\n",
      "-5 <class 'int'> 140705845159536\n"
     ]
    }
   ],
   "source": [
    "num1 = -5\n",
    "num2 = num1\n",
    "print (num1, type(num1), id(num1))\n",
    "print (num2, type(num2), id(num2))\n",
    "num3 = -5\n",
    "print (num3, type(num3), id(num3))"
   ]
  },
  {
   "cell_type": "code",
   "execution_count": 34,
   "id": "053b5999-81d8-4c6e-b3a5-8a93ea650742",
   "metadata": {},
   "outputs": [
    {
     "name": "stdout",
     "output_type": "stream",
     "text": [
      "-6 <class 'int'> 2230715895696\n",
      "-6 <class 'int'> 2230715895696\n",
      "-6 <class 'int'> 2230715895632\n"
     ]
    }
   ],
   "source": [
    "num1 = -6\n",
    "num2 = num1\n",
    "print (num1, type(num1), id(num1))\n",
    "print (num2, type(num2), id(num2))\n",
    "num3 = -6\n",
    "print (num3, type(num3), id(num3))"
   ]
  },
  {
   "cell_type": "code",
   "execution_count": 36,
   "id": "29965017-4521-4c16-8331-c74bda0a2799",
   "metadata": {},
   "outputs": [
    {
     "name": "stdout",
     "output_type": "stream",
     "text": [
      "257 <class 'int'> 2230715895248\n",
      "257 <class 'int'> 2230715895248\n",
      "257 <class 'int'> 2230715895472\n"
     ]
    }
   ],
   "source": [
    "# Any variable initialized with any value ranging from -5 to 256 (inclusive of the limit values)\n",
    "# will have the same ids, indicating that they will occupie the same memory locations.\n",
    "num1 = 257\n",
    "num2 = num1\n",
    "print (num1, type(num1), id(num1))\n",
    "print (num2, type(num2), id(num2))\n",
    "num3 = 257\n",
    "print (num3, type(num3), id(num3))"
   ]
  },
  {
   "cell_type": "markdown",
   "id": "91df3aec-60a1-4518-b64f-2670cf19f64b",
   "metadata": {},
   "source": [
    "### Introduction to Python Collections"
   ]
  },
  {
   "cell_type": "code",
   "execution_count": 41,
   "id": "25935506-5d9f-4ef3-8211-37c19af10383",
   "metadata": {},
   "outputs": [
    {
     "name": "stdout",
     "output_type": "stream",
     "text": [
      "[1011, 'Amitava', 34, 'Developer', True] 5 <class 'list'> 2230733391552\n",
      "(1011, 'Amitava', 34, 'Developer', True) 5 <class 'tuple'> 2230716433008\n",
      "{'empid': 1011, 'empname': 'Amitava', 'empage': 34, 'empdesig': 'Developer', 'married': True} 5 <class 'dict'> 2230732967744\n",
      "{True, 34, 'Amitava', 'Developer', 1011} 5 <class 'set'> 2230736056832\n",
      "frozenset({True, 34, 'Amitava', 'Developer', 1011}) 5 <class 'frozenset'> 2230736056608\n"
     ]
    }
   ],
   "source": [
    "# Python Collections\n",
    "# implicit objects\n",
    "# List is mutable, i.e. insert, delete and update operations can be carried out on this object\n",
    "# it is collection of ordered elements of same or different types of data\n",
    "list1 = [1011, \"Amitava\", 34, \"Developer\", True]   \n",
    "print (list1, len(list1), type(list1), id(list1))\n",
    "\n",
    "# Tuple is immutable, i.e. insert, delete and update operations can not be carried out on this object\n",
    "# it is collection of ordered elements of same or different types of data\n",
    "tuple1 = (1011, \"Amitava\", 34, \"Developer\", True)\n",
    "print (tuple1, len(tuple1), type(tuple1), id(tuple1))\n",
    "\n",
    "# Dictionary is mutable, i.e. insert, delete and update operations can be carried out on this object\n",
    "# it is a collection of key-value pairs\n",
    "dict1 = {\"empid\":1011, \"empname\":\"Amitava\", \"empage\":34, \"empdesig\":\"Developer\", \"married\":True}\n",
    "print (dict1, len(dict1), type(dict1), id(dict1))\n",
    "\n",
    "# Set is mutable, i.e. insert, delete and update operations can be carried out on this object\n",
    "# it is unordered unique collection of elements of same or different types of data\n",
    "set1 = {1011, 34, \"Developer\", True, \"Amitava\", 34, \"Developer\", True}\n",
    "print (set1, len(set1), type(set1), id(set1))\n",
    "\n",
    "# Frozen-Set is immutable, i.e. insert, delete and update operations can not be carried out on this object\n",
    "# it is unordered unique collection of elements of same or different types of data\n",
    "frzset1 = frozenset([1011, 34, \"Developer\", True, \"Amitava\", 34, \"Developer\", True])\n",
    "print (frzset1, len(frzset1), type(frzset1), id(frzset1))"
   ]
  },
  {
   "cell_type": "markdown",
   "id": "13ab076c-738f-4a39-b47b-2bac3557f4aa",
   "metadata": {},
   "source": [
    "### Python User Defined Functions (UDF)"
   ]
  },
  {
   "cell_type": "code",
   "execution_count": 47,
   "id": "a461a172-7ad4-4c58-a1de-04fce0b1ad46",
   "metadata": {},
   "outputs": [
    {
     "name": "stdout",
     "output_type": "stream",
     "text": [
      "Hello Hello Hello \n",
      "Hello Hello Hello \n",
      "Hello Hello Hello \n",
      "Hello Hello Hello \n",
      "<class 'function'> 2230746350208\n"
     ]
    }
   ],
   "source": [
    "def funct1():\n",
    "    print (\"Hello \" * 3)\n",
    "    \n",
    "funct1()\n",
    "funct1()\n",
    "funct1()\n",
    "funct1()\n",
    "print (type(funct1), id(funct1))"
   ]
  },
  {
   "cell_type": "code",
   "execution_count": 50,
   "id": "e2a594e6-e67d-4d76-96bc-1800783ad7d8",
   "metadata": {},
   "outputs": [
    {
     "name": "stdout",
     "output_type": "stream",
     "text": [
      "Welcome Welcome Welcome Welcome Welcome Welcome \n",
      "Good bye !!! Good bye !!! Good bye !!! Good bye !!! Good bye !!! \n",
      "Good Day... Good Day... Good Day... \n"
     ]
    }
   ],
   "source": [
    "def funct2(msg, times):\n",
    "    print (msg * times)\n",
    "\n",
    "funct2(\"Welcome \", 6)\n",
    "funct2(\"Good bye !!! \", 5)\n",
    "funct2(\"Good Day... \", 3)"
   ]
  },
  {
   "cell_type": "code",
   "execution_count": 52,
   "id": "c924536c-96b2-4771-a371-52c8f34c0af8",
   "metadata": {},
   "outputs": [
    {
     "name": "stdout",
     "output_type": "stream",
     "text": [
      "Welcome Welcome Welcome Welcome Welcome \n",
      "Good Bye Good Bye Good Bye \n",
      "Nice Day... Nice Day... Nice Day... Nice Day... \n"
     ]
    }
   ],
   "source": [
    "def funct3(msg, times):         # here msg and times are positional parameters\n",
    "    return msg * times\n",
    "\n",
    "result = funct3(\"Welcome \", 5)  # here \"Welcome\" and 5 are positional arguments\n",
    "print (result)\n",
    "print (funct3(\"Good Bye \", 3))\n",
    "print (funct3(\"Nice Day... \", 4))"
   ]
  },
  {
   "cell_type": "code",
   "execution_count": 61,
   "id": "c8f09d93-6052-4bec-9725-b9b336766088",
   "metadata": {},
   "outputs": [
    {
     "name": "stdout",
     "output_type": "stream",
     "text": [
      "par1 = 100, par2 = 200 and par3 = 300...\n",
      "par1 = 100, par2 = 200 and par3 = 333...\n",
      "par1 = 100, par2 = 222 and par3 = 333...\n",
      "par1 = 111, par2 = 222 and par3 = 333...\n",
      "par1 = 100, par2 = 222 and par3 = 300...\n",
      "par1 = 111, par2 = 200 and par3 = 300...\n"
     ]
    }
   ],
   "source": [
    "# function with default arguments\n",
    "def funct4(par1 = 111, par2 = 222, par3 = 333):\n",
    "    print (f\"par1 = {par1}, par2 = {par2} and par3 = {par3}...\")\n",
    "    \n",
    "funct4(100, 200, 300)\n",
    "funct4(100, 200)\n",
    "funct4(100)\n",
    "funct4()\n",
    "funct4(par1 = 100, par3 = 300)\n",
    "funct4(par3 = 300, par2 = 200)"
   ]
  },
  {
   "cell_type": "code",
   "execution_count": 64,
   "id": "73d5cc87-1492-475f-a98c-f7cd1f870ff1",
   "metadata": {},
   "outputs": [
    {
     "name": "stdout",
     "output_type": "stream",
     "text": [
      "200\n",
      "1000\n"
     ]
    }
   ],
   "source": [
    "def funct5(par1, par2 = None):   # three keywords in Python starts with capital letters: True, False, None\n",
    "    # if (par2 == None):\n",
    "    if (par2 is None):\n",
    "        return par1 + par1\n",
    "    else:\n",
    "        return par1 + par2\n",
    "    \n",
    "print (funct5(100))\n",
    "print (funct5(100, 900))"
   ]
  },
  {
   "cell_type": "code",
   "execution_count": 67,
   "id": "339db87e-8228-4ddb-a578-ea68db9f8ce7",
   "metadata": {},
   "outputs": [
    {
     "name": "stdout",
     "output_type": "stream",
     "text": [
      "Total = 140, Difference = 60, Product = 4000, Quotient = 2.5, Remainder = 20...\n",
      "(140, 60, 4000, 2.5, 20) 5 <class 'tuple'> 2230732269984\n",
      "Total = 140, Difference = 60, Product = 4000, Quotient = 2.5, Remainder = 20...\n"
     ]
    }
   ],
   "source": [
    "def funct6(num1, num2):\n",
    "    total = num1 + num2\n",
    "    difference = num1 - num2\n",
    "    product = num1 * num2\n",
    "    quotient = num1 / num2\n",
    "    remainder = num1 % num2\n",
    "    return total, difference, product, quotient, remainder\n",
    "\n",
    "tot, dif, pro, quo, rem = funct6(100, 40)\n",
    "print (f\"Total = {tot}, Difference = {dif}, Product = {pro}, Quotient = {quo}, Remainder = {rem}...\")\n",
    "\n",
    "result = funct6(100, 40)\n",
    "print (result, len(result), type(result), id(result))\n",
    "print (f\"Total = {result[0]}, Difference = {result[1]}, Product = {result[2]}, Quotient = {result[3]}, Remainder = {result[4]}...\")"
   ]
  },
  {
   "cell_type": "code",
   "execution_count": 72,
   "id": "a1409baa-ee16-435e-9588-49c0af9ef214",
   "metadata": {},
   "outputs": [
    {
     "name": "stdout",
     "output_type": "stream",
     "text": [
      "100 <class 'int'> 140705845162896\n",
      "105.6 <class 'float'> 2230746735536\n",
      "100 <class 'str'> 2230735886832\n",
      "True <class 'bool'> 140705844877136\n",
      "\n",
      "India 5 <class 'str'> 2230734786992\n",
      "Japan 5 <class 'str'> 2230734787312\n"
     ]
    }
   ],
   "source": [
    "# Python supports variant data type\n",
    "data = 100\n",
    "print (data, type(data), id(data))\n",
    "data = 105.6\n",
    "print (data, type(data), id(data))\n",
    "data = \"100\"\n",
    "print (data, type(data), id(data))\n",
    "data = True\n",
    "print (data, type(data), id(data))\n",
    "print (\"\")\n",
    "strdata = \"India\"\n",
    "print (strdata, len(strdata), type(strdata), id(strdata))\n",
    "strdata = \"Japan\"\n",
    "print (strdata, len(strdata), type(strdata), id(strdata))"
   ]
  },
  {
   "cell_type": "markdown",
   "id": "efc8b344-edc5-443d-aae0-9cbe92370c4a",
   "metadata": {},
   "source": [
    "### Class Assignment"
   ]
  },
  {
   "cell_type": "code",
   "execution_count": null,
   "id": "037c54de-4dce-4eb8-b53d-5f7c8004d9f8",
   "metadata": {},
   "outputs": [],
   "source": [
    "# Shell script on a series problem\n",
    "#         1   2   3   4   5    6   7   8   9   10   11  12\n",
    "# total = 1 + 2 + 3 + 4 + 10 + 5 + 6 + 7 + 8 + 26 + 9 + 10 + ... n terms\n",
    "# What is the 99th term of the series? Ordinary term => 80\n",
    "# 5 x 20 = 100 -> 80 ordinary terms and 20 sum terms\n",
    "# \n",
    "# ALGORITHM:\n",
    "# input n\n",
    "# tsum = 0; fsum = 0; term = 1\n",
    "# for i = 1 to n step 1\n",
    "# \tif (i % 5 == 0) then\n",
    "# \t\tfsum = fsum + tsum\n",
    "# \t\ttsum = 0\n",
    "# \telse\n",
    "# \t\tfsum = fsum + term\n",
    "# \t\ttsum = tsum + term\n",
    "# \t\tterm = term + 1\n",
    "#   end if\n",
    "# end for\n",
    "# print fsum\n",
    "# end\n",
    "\n",
    "echo -e -n \"\\n\\nPlease enter the numbe of terms: \"\n",
    "read n\n",
    "tsum=0\n",
    "fsum=0\n",
    "term=1\n",
    "for ((i = 1; i <= n; i++)) ; do\n",
    " \tif (( i % 5 == 0 )) ; then\n",
    " \t\tfsum=$((fsum + tsum))\n",
    " \t\techo \"Adding the temporary sum $tsum...\"\n",
    " \t\ttsum=0\n",
    " \telse\n",
    " \t\tfsum=$((fsum + term))\n",
    " \t\ttsum=$((tsum + term))\n",
    " \t\techo \"Adding the term $term...\"\n",
    " \t\tterm=$((term + 1))\n",
    "    fi\n",
    "done\n",
    "echo -e \"\\nSo the sum of the series is $fsum...\"\n",
    "echo -e \"\\n End of the program...\""
   ]
  }
 ],
 "metadata": {
  "kernelspec": {
   "display_name": "Python 3",
   "language": "python",
   "name": "python3"
  },
  "language_info": {
   "codemirror_mode": {
    "name": "ipython",
    "version": 3
   },
   "file_extension": ".py",
   "mimetype": "text/x-python",
   "name": "python",
   "nbconvert_exporter": "python",
   "pygments_lexer": "ipython3",
   "version": "3.8.8"
  }
 },
 "nbformat": 4,
 "nbformat_minor": 5
}

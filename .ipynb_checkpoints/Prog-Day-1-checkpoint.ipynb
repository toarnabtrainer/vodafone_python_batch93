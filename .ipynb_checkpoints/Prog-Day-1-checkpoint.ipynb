{
 "cells": [
  {
   "cell_type": "code",
   "execution_count": null,
   "id": "7030f989-56df-4b07-8fa3-a854000fe3c6",
   "metadata": {},
   "outputs": [],
   "source": [
    "# ipynb stands for Interactive Python Note Book\n",
    "# We are working on Anaconda Jupyter Lab\n",
    "# Other Python popular editors available on Anaconda is \"Jupyter Notebook\" and \"Spider\"\n",
    "# Python is a case sensative, zero base, functional, fully Object Oriented Programming (OOP) language"
   ]
  },
  {
   "cell_type": "code",
   "execution_count": 2,
   "id": "4e0392b3-0fbb-48e4-b87b-e3d9fe05555a",
   "metadata": {},
   "outputs": [
    {
     "name": "stdout",
     "output_type": "stream",
     "text": [
      "Hello to all...\n",
      "Welcome to all...\n"
     ]
    }
   ],
   "source": [
    "print (\"Hello to all...\")\n",
    "print (\"Welcome to all...\")"
   ]
  },
  {
   "cell_type": "code",
   "execution_count": 6,
   "id": "317461d5-ddb6-4f52-9c47-2260f340d3c8",
   "metadata": {},
   "outputs": [
    {
     "name": "stdout",
     "output_type": "stream",
     "text": [
      "Hello    and Welcome\n"
     ]
    }
   ],
   "source": [
    "print (\"Hello\", \"and Welcome\")"
   ]
  },
  {
   "cell_type": "code",
   "execution_count": 7,
   "id": "117fa084-44a9-41e1-880a-39e16c890cfc",
   "metadata": {},
   "outputs": [
    {
     "name": "stdout",
     "output_type": "stream",
     "text": [
      "Help on built-in function print in module builtins:\n",
      "\n",
      "print(...)\n",
      "    print(value, ..., sep=' ', end='\\n', file=sys.stdout, flush=False)\n",
      "    \n",
      "    Prints the values to a stream, or to sys.stdout by default.\n",
      "    Optional keyword arguments:\n",
      "    file:  a file-like object (stream); defaults to the current sys.stdout.\n",
      "    sep:   string inserted between values, default a space.\n",
      "    end:   string appended after the last value, default a newline.\n",
      "    flush: whether to forcibly flush the stream.\n",
      "\n"
     ]
    }
   ],
   "source": [
    "help(print)"
   ]
  },
  {
   "cell_type": "code",
   "execution_count": 23,
   "id": "43fa60c7-0c79-4270-ae8f-04a888802ca4",
   "metadata": {},
   "outputs": [
    {
     "name": "stdout",
     "output_type": "stream",
     "text": [
      "Hello to all..., Welcome to all...\n",
      "Hello - and Welcome\n",
      "Good Morning Good Morning Good Morning Good Morning Good Morning \n",
      "Good day...\n",
      "Good Morning \n",
      "Good Morning \n",
      "Good Morning \n",
      "Good Morning \n",
      "Good Morning \n",
      "\n"
     ]
    }
   ],
   "source": [
    "print (\"Hello to all...\", end = \", \")\n",
    "print (\"Welcome to all...\")\n",
    "print (\"Hello\", \"and Welcome\", sep = \" - \")\n",
    "print (\"Good Morning \" * 5)\n",
    "print ('Good day...')\n",
    "print (\"Good Morning \\n\" * 5)"
   ]
  },
  {
   "cell_type": "code",
   "execution_count": 26,
   "id": "50150494-1905-47eb-ae00-930fe50aa0c4",
   "metadata": {},
   "outputs": [
    {
     "name": "stdin",
     "output_type": "stream",
     "text": [
      "Please enter the first number:  100\n",
      "Please enter the second number:  200\n"
     ]
    },
    {
     "name": "stdout",
     "output_type": "stream",
     "text": [
      "100 <class 'str'> 200 <class 'str'>\n",
      "100 + 200 = 100200\n"
     ]
    }
   ],
   "source": [
    "num1 = input(\"Please enter the first number: \")\n",
    "num2 = input(\"Please enter the second number: \")\n",
    "print (num1, type(num1), num2, type(num2))\n",
    "total = num1 + num2\n",
    "print (num1, \"+\", num2, \"=\", total)"
   ]
  },
  {
   "cell_type": "code",
   "execution_count": 27,
   "id": "20b268fc-7bc5-4359-8310-edbc3d6ac57f",
   "metadata": {},
   "outputs": [
    {
     "name": "stdin",
     "output_type": "stream",
     "text": [
      "Please enter the first number:  100\n",
      "Please enter the second number:  200\n"
     ]
    },
    {
     "name": "stdout",
     "output_type": "stream",
     "text": [
      "100 <class 'int'> 200 <class 'int'>\n",
      "100 + 200 = 300\n"
     ]
    }
   ],
   "source": [
    "num1 = int(input(\"Please enter the first number: \"))\n",
    "num2 = int(input(\"Please enter the second number: \"))\n",
    "print (num1, type(num1), num2, type(num2))\n",
    "total = num1 + num2\n",
    "print (num1, \"+\", num2, \"=\", total)"
   ]
  },
  {
   "cell_type": "code",
   "execution_count": 28,
   "id": "9b10e905-27bf-4d15-ba7c-cd0fccc48eb1",
   "metadata": {},
   "outputs": [
    {
     "name": "stdin",
     "output_type": "stream",
     "text": [
      "Please enter the first number:  200\n",
      "Please enter the second number:  300\n"
     ]
    },
    {
     "name": "stdout",
     "output_type": "stream",
     "text": [
      "200 <class 'int'> 300 <class 'int'>\n"
     ]
    }
   ],
   "source": [
    "num1 = int(input(\"Please enter the first number: \"))\n",
    "num2 = int(input(\"Please enter the second number: \"))\n",
    "print (num1, type(num1), num2, type(num2))\n",
    "total = num1 + num2"
   ]
  },
  {
   "cell_type": "code",
   "execution_count": 40,
   "id": "c29882f3-28c9-447d-81d5-bb6b545a4f6f",
   "metadata": {},
   "outputs": [
    {
     "name": "stdout",
     "output_type": "stream",
     "text": [
      "So 200 + 300 = 500\n",
      "So 200 + 300 = 500\n",
      "So 200 + 300 = 500\n",
      "So 200 + 300 = 500\n",
      "So 200 + 300 = 500\n",
      "So 200 + 300 = 500\n",
      "So 200 + 300 = 500\n",
      "So 200 + 300 = 500\n",
      "So 200 + 300.000000 = 500\n",
      "So 200 + 300.000000 = 500\n",
      "So 200 +    300.00000 = 500\n",
      "So 200 + 300 = 500\n"
     ]
    }
   ],
   "source": [
    "print (\"So\", num1, \"+\", num2, \"=\", total)\n",
    "print (\"So \" + str(num1) + \" + \" + str(num2) + \" = \" + str(total))\n",
    "print (\"So {} + {} = {}\".format(num1, num2, total))   # place holder\n",
    "print (\"So {0} + {1} = {2}\".format(num1, num2, total))   # numbered/indexed place holder\n",
    "print (\"So {2} + {1} = {0}\".format(total, num2, num1))   # numbered/indexed place holder\n",
    "print (\"So {fnum} + {snum} = {result}\".format(fnum=num1, snum=num2, result=total))   # labeled place holder\n",
    "print (\"So {fnum} + {snum} = {result}\".format(result=total, snum=num2, fnum=num1))   # labeled place holder\n",
    "print (\"So %d + %d = %d\"%(num1, num2, total))\n",
    "print (\"So %d + %f = %d\"%(num1, num2, total))\n",
    "print (\"So %d + %10.6f = %d\"%(num1, num2, total))\n",
    "print (\"So %d + %12.5f = %d\"%(num1, num2, total))\n",
    "print (f\"So {num1} + {num2} = {total}\")"
   ]
  },
  {
   "cell_type": "code",
   "execution_count": null,
   "id": "b21d2431-39fb-47aa-aa12-e723bc7d64d3",
   "metadata": {},
   "outputs": [],
   "source": []
  },
  {
   "cell_type": "code",
   "execution_count": null,
   "id": "a1409baa-ee16-435e-9588-49c0af9ef214",
   "metadata": {},
   "outputs": [],
   "source": []
  },
  {
   "cell_type": "code",
   "execution_count": null,
   "id": "8aa88843-95c4-4cd4-afd8-a2e537f19735",
   "metadata": {},
   "outputs": [],
   "source": []
  }
 ],
 "metadata": {
  "kernelspec": {
   "display_name": "Python 3",
   "language": "python",
   "name": "python3"
  },
  "language_info": {
   "codemirror_mode": {
    "name": "ipython",
    "version": 3
   },
   "file_extension": ".py",
   "mimetype": "text/x-python",
   "name": "python",
   "nbconvert_exporter": "python",
   "pygments_lexer": "ipython3",
   "version": "3.8.8"
  }
 },
 "nbformat": 4,
 "nbformat_minor": 5
}

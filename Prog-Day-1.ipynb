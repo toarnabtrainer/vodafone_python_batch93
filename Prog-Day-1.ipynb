{
 "cells": [
  {
   "cell_type": "code",
   "execution_count": null,
   "id": "7030f989-56df-4b07-8fa3-a854000fe3c6",
   "metadata": {},
   "outputs": [],
   "source": [
    "# ipynb stands for Interactive Python Note Book\n",
    "# We are working on Anaconda Jupyter Lab\n",
    "# Other Python popular editors available on Anaconda is \"Jupyter Notebook\" and \"Spider\"\n",
    "# Python is a case sensative, zero base, functional, fully Object Oriented Programming (OOP) language"
   ]
  },
  {
   "cell_type": "code",
   "execution_count": 2,
   "id": "4e0392b3-0fbb-48e4-b87b-e3d9fe05555a",
   "metadata": {},
   "outputs": [
    {
     "name": "stdout",
     "output_type": "stream",
     "text": [
      "Hello to all...\n",
      "Welcome to all...\n"
     ]
    }
   ],
   "source": [
    "print (\"Hello to all...\")\n",
    "print (\"Welcome to all...\")"
   ]
  },
  {
   "cell_type": "code",
   "execution_count": 6,
   "id": "317461d5-ddb6-4f52-9c47-2260f340d3c8",
   "metadata": {},
   "outputs": [
    {
     "name": "stdout",
     "output_type": "stream",
     "text": [
      "Hello    and Welcome\n"
     ]
    }
   ],
   "source": [
    "print (\"Hello\", \"and Welcome\")"
   ]
  },
  {
   "cell_type": "code",
   "execution_count": 7,
   "id": "117fa084-44a9-41e1-880a-39e16c890cfc",
   "metadata": {},
   "outputs": [
    {
     "name": "stdout",
     "output_type": "stream",
     "text": [
      "Help on built-in function print in module builtins:\n",
      "\n",
      "print(...)\n",
      "    print(value, ..., sep=' ', end='\\n', file=sys.stdout, flush=False)\n",
      "    \n",
      "    Prints the values to a stream, or to sys.stdout by default.\n",
      "    Optional keyword arguments:\n",
      "    file:  a file-like object (stream); defaults to the current sys.stdout.\n",
      "    sep:   string inserted between values, default a space.\n",
      "    end:   string appended after the last value, default a newline.\n",
      "    flush: whether to forcibly flush the stream.\n",
      "\n"
     ]
    }
   ],
   "source": [
    "help(print)"
   ]
  },
  {
   "cell_type": "code",
   "execution_count": 23,
   "id": "43fa60c7-0c79-4270-ae8f-04a888802ca4",
   "metadata": {},
   "outputs": [
    {
     "name": "stdout",
     "output_type": "stream",
     "text": [
      "Hello to all..., Welcome to all...\n",
      "Hello - and Welcome\n",
      "Good Morning Good Morning Good Morning Good Morning Good Morning \n",
      "Good day...\n",
      "Good Morning \n",
      "Good Morning \n",
      "Good Morning \n",
      "Good Morning \n",
      "Good Morning \n",
      "\n"
     ]
    }
   ],
   "source": [
    "print (\"Hello to all...\", end = \", \")\n",
    "print (\"Welcome to all...\")\n",
    "print (\"Hello\", \"and Welcome\", sep = \" - \")\n",
    "print (\"Good Morning \" * 5)\n",
    "print ('Good day...')\n",
    "print (\"Good Morning \\n\" * 5)"
   ]
  },
  {
   "cell_type": "code",
   "execution_count": null,
   "id": "50150494-1905-47eb-ae00-930fe50aa0c4",
   "metadata": {},
   "outputs": [],
   "source": []
  },
  {
   "cell_type": "code",
   "execution_count": null,
   "id": "20b268fc-7bc5-4359-8310-edbc3d6ac57f",
   "metadata": {},
   "outputs": [],
   "source": []
  },
  {
   "cell_type": "code",
   "execution_count": null,
   "id": "9b10e905-27bf-4d15-ba7c-cd0fccc48eb1",
   "metadata": {},
   "outputs": [],
   "source": []
  },
  {
   "cell_type": "code",
   "execution_count": null,
   "id": "c29882f3-28c9-447d-81d5-bb6b545a4f6f",
   "metadata": {},
   "outputs": [],
   "source": []
  },
  {
   "cell_type": "code",
   "execution_count": null,
   "id": "b21d2431-39fb-47aa-aa12-e723bc7d64d3",
   "metadata": {},
   "outputs": [],
   "source": []
  },
  {
   "cell_type": "code",
   "execution_count": null,
   "id": "a1409baa-ee16-435e-9588-49c0af9ef214",
   "metadata": {},
   "outputs": [],
   "source": []
  },
  {
   "cell_type": "code",
   "execution_count": null,
   "id": "8aa88843-95c4-4cd4-afd8-a2e537f19735",
   "metadata": {},
   "outputs": [],
   "source": []
  }
 ],
 "metadata": {
  "kernelspec": {
   "display_name": "Python 3",
   "language": "python",
   "name": "python3"
  },
  "language_info": {
   "codemirror_mode": {
    "name": "ipython",
    "version": 3
   },
   "file_extension": ".py",
   "mimetype": "text/x-python",
   "name": "python",
   "nbconvert_exporter": "python",
   "pygments_lexer": "ipython3",
   "version": "3.8.8"
  }
 },
 "nbformat": 4,
 "nbformat_minor": 5
}

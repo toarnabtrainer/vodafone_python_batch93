{
 "cells": [
  {
   "cell_type": "markdown",
   "id": "fa179dfc-ba9e-46a2-8086-bba3adcb1821",
   "metadata": {},
   "source": [
    "### Python Module: Python Math Module"
   ]
  },
  {
   "cell_type": "code",
   "execution_count": 1,
   "id": "25ac9642-73fc-40d1-b0e2-f26da1827d37",
   "metadata": {},
   "outputs": [],
   "source": [
    "# importing the required module\n",
    "import math"
   ]
  },
  {
   "cell_type": "code",
   "execution_count": 22,
   "id": "044000cb-8e6f-4105-9171-22f11f8aa456",
   "metadata": {},
   "outputs": [
    {
     "name": "stdout",
     "output_type": "stream",
     "text": [
      "0.0 1.0 0.0\n",
      "1000.0 1000 1000.0 1000.0\n",
      "pi: 3.141592653589793\n",
      "e: 2.718281828459045\n",
      "tau: 6.283185307179586\n",
      "6.907755278982137 6.907755278982137 2.9999999999999996\n",
      "10.0 10.0\n",
      "3.0 2.9999999999999996\n",
      "11 11 10 10\n",
      "120 5040\n",
      "GCD: 50 LCM: 9000.0\n",
      "1000 1000\n"
     ]
    }
   ],
   "source": [
    "print (math.sin(0), math.cos(0), math.tan(0))\n",
    "print (math.pow(10, 3), 10 ** 3, 10.0 ** 3, 10 ** 3.0)\n",
    "print (\"pi:\", math.pi)\n",
    "print (\"e:\", math.e)\n",
    "print (\"tau:\", math.tau)\n",
    "print (math.log(1000), math.log(1000, math.e), math.log(1000, 10))\n",
    "print (math.log2(1024), math.log(1024, 2))\n",
    "print (math.log10(1000), math.log(1000, 10))\n",
    "print (math.ceil(10.1), math.ceil(10.9), math.floor(10.1), math.floor(10.9))\n",
    "print (math.factorial(5), math.factorial(7))\n",
    "print (\"GCD:\", math.gcd(1000, 450), \"LCM:\", (1000 * 450) / math.gcd(1000, 450))\n",
    "print (abs(-1000), abs(1000))  # abs() function is inbuilt"
   ]
  },
  {
   "cell_type": "code",
   "execution_count": 23,
   "id": "5d04d087-4300-4eea-8c4c-f74535f6e5f2",
   "metadata": {},
   "outputs": [
    {
     "name": "stdout",
     "output_type": "stream",
     "text": [
      "Help on built-in function pow in module math:\n",
      "\n",
      "pow(x, y, /)\n",
      "    Return x**y (x to the power of y).\n",
      "\n"
     ]
    }
   ],
   "source": [
    "help (math.pow)"
   ]
  },
  {
   "cell_type": "code",
   "execution_count": null,
   "id": "82ee486b-006b-4c34-9a26-6ecc7650b637",
   "metadata": {},
   "outputs": [],
   "source": [
    "help (math)"
   ]
  },
  {
   "cell_type": "code",
   "execution_count": null,
   "id": "5d528067-69c9-4032-b4fa-5391f97318a7",
   "metadata": {},
   "outputs": [],
   "source": []
  },
  {
   "cell_type": "code",
   "execution_count": null,
   "id": "19d57f0c-a09b-4385-81c7-2cbaea2f16b6",
   "metadata": {},
   "outputs": [],
   "source": []
  },
  {
   "cell_type": "code",
   "execution_count": null,
   "id": "dcb45e86-48e8-4e20-a999-1f1d63596db6",
   "metadata": {},
   "outputs": [],
   "source": []
  },
  {
   "cell_type": "code",
   "execution_count": null,
   "id": "4c7faf96-a7f3-420f-bb15-07845a04b925",
   "metadata": {},
   "outputs": [],
   "source": []
  },
  {
   "cell_type": "code",
   "execution_count": null,
   "id": "3be9c0fe-2a2e-4473-9724-fc21515de440",
   "metadata": {},
   "outputs": [],
   "source": []
  },
  {
   "cell_type": "code",
   "execution_count": null,
   "id": "b9effdff-8df9-4508-8de6-1c3da874ee42",
   "metadata": {},
   "outputs": [],
   "source": []
  },
  {
   "cell_type": "code",
   "execution_count": null,
   "id": "20b24ca7-7541-4bad-81b5-d1c52362f486",
   "metadata": {},
   "outputs": [],
   "source": []
  },
  {
   "cell_type": "code",
   "execution_count": null,
   "id": "21367598-fc66-4998-8164-bc5a0c46aef9",
   "metadata": {},
   "outputs": [],
   "source": []
  },
  {
   "cell_type": "code",
   "execution_count": null,
   "id": "3daf2add-da5f-4fbf-9599-a2f7e09fa8c9",
   "metadata": {},
   "outputs": [],
   "source": []
  },
  {
   "cell_type": "code",
   "execution_count": null,
   "id": "c609820e-6a15-4ac1-bbab-f6cb558c0dda",
   "metadata": {},
   "outputs": [],
   "source": []
  },
  {
   "cell_type": "code",
   "execution_count": null,
   "id": "a1a174a2-e394-4d0e-bc6f-3f559593ebd9",
   "metadata": {},
   "outputs": [],
   "source": []
  },
  {
   "cell_type": "code",
   "execution_count": null,
   "id": "cdcc82f7-5a51-4396-b635-5b3bf0e3e40f",
   "metadata": {},
   "outputs": [],
   "source": []
  },
  {
   "cell_type": "code",
   "execution_count": null,
   "id": "0e97b92d-ff96-4dac-89e9-811e514f5b1a",
   "metadata": {},
   "outputs": [],
   "source": []
  },
  {
   "cell_type": "code",
   "execution_count": null,
   "id": "57fdfa18-50fd-484c-bd7c-70dcb1d569f8",
   "metadata": {},
   "outputs": [],
   "source": []
  },
  {
   "cell_type": "code",
   "execution_count": null,
   "id": "0b68699f-075f-45e4-bc31-35fdc51fccd2",
   "metadata": {},
   "outputs": [],
   "source": []
  },
  {
   "cell_type": "code",
   "execution_count": null,
   "id": "6d683402-b377-42fe-9c51-1489db60c6d8",
   "metadata": {},
   "outputs": [],
   "source": []
  },
  {
   "cell_type": "code",
   "execution_count": null,
   "id": "5ca7c9be-ffff-46a6-8624-7224d7806da8",
   "metadata": {},
   "outputs": [],
   "source": []
  },
  {
   "cell_type": "code",
   "execution_count": null,
   "id": "b3735436-cb8c-4fcd-a055-887937a70285",
   "metadata": {},
   "outputs": [],
   "source": []
  },
  {
   "cell_type": "code",
   "execution_count": null,
   "id": "8da7703f-aa3d-4456-83c9-d07b3858130a",
   "metadata": {},
   "outputs": [],
   "source": []
  },
  {
   "cell_type": "code",
   "execution_count": null,
   "id": "fca79b95-a4f7-4fa8-bd77-0484b78acd76",
   "metadata": {},
   "outputs": [],
   "source": []
  },
  {
   "cell_type": "code",
   "execution_count": null,
   "id": "24719e76-3ce3-4327-b532-c2a998f9eb8a",
   "metadata": {},
   "outputs": [],
   "source": []
  },
  {
   "cell_type": "code",
   "execution_count": null,
   "id": "e6e7a507-bf95-4f9b-87fd-784e51b5a080",
   "metadata": {},
   "outputs": [],
   "source": []
  },
  {
   "cell_type": "code",
   "execution_count": null,
   "id": "ca178313-6f15-4bdf-9b47-aa605548145a",
   "metadata": {},
   "outputs": [],
   "source": []
  },
  {
   "cell_type": "code",
   "execution_count": null,
   "id": "052366a7-00e8-4903-be81-94f01431b49c",
   "metadata": {},
   "outputs": [],
   "source": []
  },
  {
   "cell_type": "code",
   "execution_count": null,
   "id": "3c8918f0-8a87-4090-9071-1a0dbd513671",
   "metadata": {},
   "outputs": [],
   "source": []
  },
  {
   "cell_type": "code",
   "execution_count": null,
   "id": "15e6805e-c92d-4e91-bc67-d35da526ba3d",
   "metadata": {},
   "outputs": [],
   "source": []
  },
  {
   "cell_type": "code",
   "execution_count": null,
   "id": "25c0f836-e85f-4181-bc44-ebbba14aa321",
   "metadata": {},
   "outputs": [],
   "source": []
  },
  {
   "cell_type": "code",
   "execution_count": null,
   "id": "f53b6fdc-e744-4cab-bd3b-63b4a49041fc",
   "metadata": {},
   "outputs": [],
   "source": []
  },
  {
   "cell_type": "code",
   "execution_count": null,
   "id": "b40b05ad-33b1-4451-bd88-78dd58452310",
   "metadata": {},
   "outputs": [],
   "source": []
  },
  {
   "cell_type": "code",
   "execution_count": null,
   "id": "c097d83b-f15e-44c4-b811-e689ea82272a",
   "metadata": {},
   "outputs": [],
   "source": []
  },
  {
   "cell_type": "code",
   "execution_count": null,
   "id": "829acd2c-dfe8-4ec8-b9b7-32274cd4faa8",
   "metadata": {},
   "outputs": [],
   "source": []
  },
  {
   "cell_type": "code",
   "execution_count": null,
   "id": "a6e73746-db56-4560-994f-134a7eadf7e2",
   "metadata": {},
   "outputs": [],
   "source": []
  },
  {
   "cell_type": "code",
   "execution_count": null,
   "id": "3de37eff-7be5-4a84-bf86-e9bfac9af103",
   "metadata": {},
   "outputs": [],
   "source": []
  },
  {
   "cell_type": "code",
   "execution_count": null,
   "id": "76ccaddd-80d6-40fe-918e-86d0e1ae7dfd",
   "metadata": {},
   "outputs": [],
   "source": []
  },
  {
   "cell_type": "code",
   "execution_count": null,
   "id": "bdc96cb4-4967-4bfa-9ac0-7a757a974c4a",
   "metadata": {},
   "outputs": [],
   "source": []
  },
  {
   "cell_type": "code",
   "execution_count": null,
   "id": "149aa4e6-6e23-4b21-82ba-97e0984d84df",
   "metadata": {},
   "outputs": [],
   "source": []
  },
  {
   "cell_type": "code",
   "execution_count": null,
   "id": "d7db4106-f7b4-4667-9583-f6526f912ec1",
   "metadata": {},
   "outputs": [],
   "source": []
  },
  {
   "cell_type": "code",
   "execution_count": null,
   "id": "f666f53b-dc7d-4acc-9b71-57854801e942",
   "metadata": {},
   "outputs": [],
   "source": []
  },
  {
   "cell_type": "code",
   "execution_count": null,
   "id": "d2a99e4a-ef84-403e-afc9-20c63b07ab99",
   "metadata": {},
   "outputs": [],
   "source": []
  },
  {
   "cell_type": "code",
   "execution_count": null,
   "id": "9baa94ae-d5f7-44d7-a9e2-92b851365320",
   "metadata": {},
   "outputs": [],
   "source": []
  },
  {
   "cell_type": "code",
   "execution_count": null,
   "id": "ad073a65-9d8e-4b92-a528-3d3eb67ff8dc",
   "metadata": {},
   "outputs": [],
   "source": []
  },
  {
   "cell_type": "code",
   "execution_count": null,
   "id": "a73a4978-902d-4b6b-8788-21be58b80cff",
   "metadata": {},
   "outputs": [],
   "source": []
  },
  {
   "cell_type": "code",
   "execution_count": null,
   "id": "64a3ae29-5574-4887-a46d-7e85093e7db7",
   "metadata": {},
   "outputs": [],
   "source": []
  },
  {
   "cell_type": "code",
   "execution_count": null,
   "id": "ea89b133-e963-4e13-aaf0-5934b8d0920f",
   "metadata": {},
   "outputs": [],
   "source": []
  },
  {
   "cell_type": "code",
   "execution_count": null,
   "id": "71406f75-5bb3-4b98-ad6e-867aa32779bf",
   "metadata": {},
   "outputs": [],
   "source": []
  },
  {
   "cell_type": "code",
   "execution_count": null,
   "id": "f898e87f-800d-4bf9-a73a-ea8cb105a449",
   "metadata": {},
   "outputs": [],
   "source": []
  },
  {
   "cell_type": "code",
   "execution_count": null,
   "id": "1bd1d927-b34d-4157-853c-276ec2c20def",
   "metadata": {},
   "outputs": [],
   "source": []
  },
  {
   "cell_type": "code",
   "execution_count": null,
   "id": "887dcee4-1828-4582-af5d-d7d1b6ba230d",
   "metadata": {},
   "outputs": [],
   "source": []
  },
  {
   "cell_type": "code",
   "execution_count": null,
   "id": "2c13e079-bd67-4948-bb0f-76dbd268a5dd",
   "metadata": {},
   "outputs": [],
   "source": []
  },
  {
   "cell_type": "code",
   "execution_count": null,
   "id": "6da7dcea-efee-452b-ae6f-477bd606d0c1",
   "metadata": {},
   "outputs": [],
   "source": []
  },
  {
   "cell_type": "code",
   "execution_count": null,
   "id": "6fc951d1-73f1-42a3-aebd-f54cd0947eef",
   "metadata": {},
   "outputs": [],
   "source": []
  },
  {
   "cell_type": "code",
   "execution_count": null,
   "id": "da8f4ec0-1403-4962-8652-7732c44483e8",
   "metadata": {},
   "outputs": [],
   "source": []
  },
  {
   "cell_type": "code",
   "execution_count": null,
   "id": "8a5e0de4-0953-4259-8978-cd43edb16b22",
   "metadata": {},
   "outputs": [],
   "source": []
  },
  {
   "cell_type": "code",
   "execution_count": null,
   "id": "8ba60545-57d8-4e00-a2f3-f851723e0edf",
   "metadata": {},
   "outputs": [],
   "source": []
  },
  {
   "cell_type": "code",
   "execution_count": null,
   "id": "0a2d5f2e-2e7b-43f7-8d69-99ebddfdd590",
   "metadata": {},
   "outputs": [],
   "source": []
  },
  {
   "cell_type": "code",
   "execution_count": null,
   "id": "bc09b3e1-867d-443c-95dc-7f672d2a4e70",
   "metadata": {},
   "outputs": [],
   "source": []
  },
  {
   "cell_type": "code",
   "execution_count": null,
   "id": "cbd51089-f62e-4c2c-9ddc-ceeb82da95ac",
   "metadata": {},
   "outputs": [],
   "source": []
  },
  {
   "cell_type": "code",
   "execution_count": null,
   "id": "2c979665-7921-45ab-9abf-b38fbfd8f663",
   "metadata": {},
   "outputs": [],
   "source": []
  },
  {
   "cell_type": "code",
   "execution_count": null,
   "id": "6146bd01-ce44-425e-8c91-324e49da1601",
   "metadata": {},
   "outputs": [],
   "source": []
  },
  {
   "cell_type": "code",
   "execution_count": null,
   "id": "670fd56e-43e6-4259-b57d-28494f2344f0",
   "metadata": {},
   "outputs": [],
   "source": []
  },
  {
   "cell_type": "code",
   "execution_count": null,
   "id": "77dd6466-6283-4c26-848b-86aff9eed156",
   "metadata": {},
   "outputs": [],
   "source": []
  },
  {
   "cell_type": "code",
   "execution_count": null,
   "id": "5eaf0ecd-c71f-4375-b65d-552ca23df2e0",
   "metadata": {},
   "outputs": [],
   "source": []
  },
  {
   "cell_type": "code",
   "execution_count": null,
   "id": "50314d89-ec1a-4be5-97ed-1e56041fce37",
   "metadata": {},
   "outputs": [],
   "source": []
  },
  {
   "cell_type": "code",
   "execution_count": null,
   "id": "41bb3f85-b309-4958-be52-b2ef5137e262",
   "metadata": {},
   "outputs": [],
   "source": []
  },
  {
   "cell_type": "code",
   "execution_count": null,
   "id": "35e1adc1-2aa8-4f17-af99-c351f1514fc2",
   "metadata": {},
   "outputs": [],
   "source": []
  },
  {
   "cell_type": "code",
   "execution_count": null,
   "id": "d60cf299-9660-4c0a-a217-2c4b66de9f88",
   "metadata": {},
   "outputs": [],
   "source": []
  },
  {
   "cell_type": "code",
   "execution_count": null,
   "id": "ef193846-b1cd-4fde-aa20-3a4339d51d2d",
   "metadata": {},
   "outputs": [],
   "source": []
  },
  {
   "cell_type": "code",
   "execution_count": null,
   "id": "3e422102-d2bd-4351-bd43-5510541d1752",
   "metadata": {},
   "outputs": [],
   "source": []
  },
  {
   "cell_type": "code",
   "execution_count": null,
   "id": "ac87503f-cee0-4794-b3c6-39725c69fbbc",
   "metadata": {},
   "outputs": [],
   "source": []
  },
  {
   "cell_type": "code",
   "execution_count": null,
   "id": "7a8777f8-d6cc-4d8a-ae31-982ea55cab9b",
   "metadata": {},
   "outputs": [],
   "source": []
  },
  {
   "cell_type": "code",
   "execution_count": null,
   "id": "77e4c4f1-0e09-4811-94ad-55ebf545dda7",
   "metadata": {},
   "outputs": [],
   "source": []
  },
  {
   "cell_type": "code",
   "execution_count": null,
   "id": "a7a19c57-dedd-427e-9660-7292d758b7eb",
   "metadata": {},
   "outputs": [],
   "source": []
  },
  {
   "cell_type": "code",
   "execution_count": null,
   "id": "3a68e51e-04b8-4f8b-a674-b54c0d369e98",
   "metadata": {},
   "outputs": [],
   "source": []
  },
  {
   "cell_type": "code",
   "execution_count": null,
   "id": "2f5f42a6-2ac4-431b-906f-b9eeac30d093",
   "metadata": {},
   "outputs": [],
   "source": []
  },
  {
   "cell_type": "code",
   "execution_count": null,
   "id": "d358eaa9-badd-43fd-a854-1662b064999e",
   "metadata": {},
   "outputs": [],
   "source": []
  },
  {
   "cell_type": "code",
   "execution_count": null,
   "id": "822f45ff-18c0-40cd-93e0-7c2c647820a2",
   "metadata": {},
   "outputs": [],
   "source": []
  },
  {
   "cell_type": "code",
   "execution_count": null,
   "id": "ff49df0f-c188-4fba-812b-001774dd278d",
   "metadata": {},
   "outputs": [],
   "source": []
  },
  {
   "cell_type": "code",
   "execution_count": null,
   "id": "c93cffd6-29ed-49fb-8e54-ae680c3821f3",
   "metadata": {},
   "outputs": [],
   "source": []
  },
  {
   "cell_type": "code",
   "execution_count": null,
   "id": "1e1189b8-17c9-4c9f-88e2-ece3e2db02e7",
   "metadata": {},
   "outputs": [],
   "source": []
  },
  {
   "cell_type": "code",
   "execution_count": null,
   "id": "c17bdf44-d2fc-4a71-a61d-10046f04ab86",
   "metadata": {},
   "outputs": [],
   "source": []
  },
  {
   "cell_type": "code",
   "execution_count": null,
   "id": "057545ce-fae4-4198-ab56-7c6efa2816e8",
   "metadata": {},
   "outputs": [],
   "source": []
  },
  {
   "cell_type": "code",
   "execution_count": null,
   "id": "91759b23-0914-4d2c-bb4b-2ce96d2b588c",
   "metadata": {},
   "outputs": [],
   "source": []
  },
  {
   "cell_type": "code",
   "execution_count": null,
   "id": "eb8dad93-ebcc-46ce-8bf6-2fd2f9a502dc",
   "metadata": {},
   "outputs": [],
   "source": []
  },
  {
   "cell_type": "code",
   "execution_count": null,
   "id": "8416b457-fe16-493b-bad2-034ac509e6af",
   "metadata": {},
   "outputs": [],
   "source": []
  },
  {
   "cell_type": "code",
   "execution_count": null,
   "id": "8ded52bb-2a09-494b-8b5d-f3dfa44df2d7",
   "metadata": {},
   "outputs": [],
   "source": []
  },
  {
   "cell_type": "code",
   "execution_count": null,
   "id": "e2b8104a-4dae-4474-819a-364a00c5c147",
   "metadata": {},
   "outputs": [],
   "source": []
  },
  {
   "cell_type": "code",
   "execution_count": null,
   "id": "0117b5ff-9e40-44bb-8d38-85169583c05a",
   "metadata": {},
   "outputs": [],
   "source": []
  },
  {
   "cell_type": "code",
   "execution_count": null,
   "id": "5c35e1c3-0d1e-4983-ab99-8a97282b09e6",
   "metadata": {},
   "outputs": [],
   "source": []
  }
 ],
 "metadata": {
  "kernelspec": {
   "display_name": "Python 3",
   "language": "python",
   "name": "python3"
  },
  "language_info": {
   "codemirror_mode": {
    "name": "ipython",
    "version": 3
   },
   "file_extension": ".py",
   "mimetype": "text/x-python",
   "name": "python",
   "nbconvert_exporter": "python",
   "pygments_lexer": "ipython3",
   "version": "3.8.8"
  }
 },
 "nbformat": 4,
 "nbformat_minor": 5
}

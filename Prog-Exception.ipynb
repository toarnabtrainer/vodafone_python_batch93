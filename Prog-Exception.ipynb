{
 "cells": [
  {
   "cell_type": "markdown",
   "id": "befd99be-af03-4612-82a6-eded521034de",
   "metadata": {},
   "source": [
    "### EXCEPTION HANDLING"
   ]
  },
  {
   "cell_type": "code",
   "execution_count": 3,
   "id": "8092ba8b-4b92-4664-b7d3-05ee6c44734a",
   "metadata": {},
   "outputs": [
    {
     "name": "stdin",
     "output_type": "stream",
     "text": [
      "Please enter the first number:  100\n",
      "Please enter the second number:  40\n"
     ]
    },
    {
     "name": "stdout",
     "output_type": "stream",
     "text": [
      "So 100 / 40 = 2.5...\n",
      "End of the program...\n"
     ]
    }
   ],
   "source": [
    "num1 = int(input(\"Please enter the first number: \"))\n",
    "num2 = int(input(\"Please enter the second number: \"))\n",
    "result = num1 / num2\n",
    "print (f\"So {num1} / {num2} = {result}...\")\n",
    "print (\"End of the program...\")"
   ]
  },
  {
   "cell_type": "code",
   "execution_count": 4,
   "id": "66144b14-7f68-4be0-be96-4c169ee4cc9c",
   "metadata": {},
   "outputs": [
    {
     "name": "stdin",
     "output_type": "stream",
     "text": [
      "Please enter the first number:  100\n",
      "Please enter the second number:  0\n"
     ]
    },
    {
     "ename": "ZeroDivisionError",
     "evalue": "division by zero",
     "output_type": "error",
     "traceback": [
      "\u001b[1;31m---------------------------------------------------------------------------\u001b[0m",
      "\u001b[1;31mZeroDivisionError\u001b[0m                         Traceback (most recent call last)",
      "\u001b[1;32m<ipython-input-4-5dddedadebb0>\u001b[0m in \u001b[0;36m<module>\u001b[1;34m\u001b[0m\n\u001b[0;32m      1\u001b[0m \u001b[0mnum1\u001b[0m \u001b[1;33m=\u001b[0m \u001b[0mint\u001b[0m\u001b[1;33m(\u001b[0m\u001b[0minput\u001b[0m\u001b[1;33m(\u001b[0m\u001b[1;34m\"Please enter the first number: \"\u001b[0m\u001b[1;33m)\u001b[0m\u001b[1;33m)\u001b[0m\u001b[1;33m\u001b[0m\u001b[1;33m\u001b[0m\u001b[0m\n\u001b[0;32m      2\u001b[0m \u001b[0mnum2\u001b[0m \u001b[1;33m=\u001b[0m \u001b[0mint\u001b[0m\u001b[1;33m(\u001b[0m\u001b[0minput\u001b[0m\u001b[1;33m(\u001b[0m\u001b[1;34m\"Please enter the second number: \"\u001b[0m\u001b[1;33m)\u001b[0m\u001b[1;33m)\u001b[0m\u001b[1;33m\u001b[0m\u001b[1;33m\u001b[0m\u001b[0m\n\u001b[1;32m----> 3\u001b[1;33m \u001b[0mresult\u001b[0m \u001b[1;33m=\u001b[0m \u001b[0mnum1\u001b[0m \u001b[1;33m/\u001b[0m \u001b[0mnum2\u001b[0m\u001b[1;33m\u001b[0m\u001b[1;33m\u001b[0m\u001b[0m\n\u001b[0m\u001b[0;32m      4\u001b[0m \u001b[0mprint\u001b[0m \u001b[1;33m(\u001b[0m\u001b[1;34mf\"So {num1} / {num2} = {result}...\"\u001b[0m\u001b[1;33m)\u001b[0m\u001b[1;33m\u001b[0m\u001b[1;33m\u001b[0m\u001b[0m\n\u001b[0;32m      5\u001b[0m \u001b[0mprint\u001b[0m \u001b[1;33m(\u001b[0m\u001b[1;34m\"End of the program...\"\u001b[0m\u001b[1;33m)\u001b[0m\u001b[1;33m\u001b[0m\u001b[1;33m\u001b[0m\u001b[0m\n",
      "\u001b[1;31mZeroDivisionError\u001b[0m: division by zero"
     ]
    }
   ],
   "source": [
    "num1 = int(input(\"Please enter the first number: \"))\n",
    "num2 = int(input(\"Please enter the second number: \"))\n",
    "result = num1 / num2\n",
    "print (f\"So {num1} / {num2} = {result}...\")\n",
    "print (\"End of the program...\")"
   ]
  },
  {
   "cell_type": "code",
   "execution_count": 7,
   "id": "cb3215cd-4941-41ac-b28b-b90791b1257e",
   "metadata": {},
   "outputs": [
    {
     "name": "stdin",
     "output_type": "stream",
     "text": [
      "Please enter the first number:  100\n",
      "Please enter the second number:  0\n"
     ]
    },
    {
     "name": "stdout",
     "output_type": "stream",
     "text": [
      "ZeroDivisionError: Division by ZERO is Illegal..!!!\n",
      "ZeroDivisionError: Error message: division by zero\n",
      "End of the program...\n"
     ]
    }
   ],
   "source": [
    "try:\n",
    "    num1 = int(input(\"Please enter the first number: \"))\n",
    "    num2 = int(input(\"Please enter the second number: \"))\n",
    "    result = num1 / num2\n",
    "    print (f\"So {num1} / {num2} = {result}...\")\n",
    "except ZeroDivisionError as zde:\n",
    "    print (\"ZeroDivisionError: Division by ZERO is Illegal..!!!\")\n",
    "    print (\"ZeroDivisionError: Error message:\", zde)\n",
    "print (\"End of the program...\")"
   ]
  },
  {
   "cell_type": "code",
   "execution_count": 8,
   "id": "d1486058-8802-406e-ba74-62d2fc230493",
   "metadata": {},
   "outputs": [
    {
     "name": "stdin",
     "output_type": "stream",
     "text": [
      "Please enter the first number:  100\n",
      "Please enter the second number:  two\n"
     ]
    },
    {
     "ename": "ValueError",
     "evalue": "invalid literal for int() with base 10: 'two'",
     "output_type": "error",
     "traceback": [
      "\u001b[1;31m---------------------------------------------------------------------------\u001b[0m",
      "\u001b[1;31mValueError\u001b[0m                                Traceback (most recent call last)",
      "\u001b[1;32m<ipython-input-8-3e10182c1407>\u001b[0m in \u001b[0;36m<module>\u001b[1;34m\u001b[0m\n\u001b[0;32m      1\u001b[0m \u001b[1;32mtry\u001b[0m\u001b[1;33m:\u001b[0m\u001b[1;33m\u001b[0m\u001b[1;33m\u001b[0m\u001b[0m\n\u001b[0;32m      2\u001b[0m     \u001b[0mnum1\u001b[0m \u001b[1;33m=\u001b[0m \u001b[0mint\u001b[0m\u001b[1;33m(\u001b[0m\u001b[0minput\u001b[0m\u001b[1;33m(\u001b[0m\u001b[1;34m\"Please enter the first number: \"\u001b[0m\u001b[1;33m)\u001b[0m\u001b[1;33m)\u001b[0m\u001b[1;33m\u001b[0m\u001b[1;33m\u001b[0m\u001b[0m\n\u001b[1;32m----> 3\u001b[1;33m     \u001b[0mnum2\u001b[0m \u001b[1;33m=\u001b[0m \u001b[0mint\u001b[0m\u001b[1;33m(\u001b[0m\u001b[0minput\u001b[0m\u001b[1;33m(\u001b[0m\u001b[1;34m\"Please enter the second number: \"\u001b[0m\u001b[1;33m)\u001b[0m\u001b[1;33m)\u001b[0m\u001b[1;33m\u001b[0m\u001b[1;33m\u001b[0m\u001b[0m\n\u001b[0m\u001b[0;32m      4\u001b[0m     \u001b[0mresult\u001b[0m \u001b[1;33m=\u001b[0m \u001b[0mnum1\u001b[0m \u001b[1;33m/\u001b[0m \u001b[0mnum2\u001b[0m\u001b[1;33m\u001b[0m\u001b[1;33m\u001b[0m\u001b[0m\n\u001b[0;32m      5\u001b[0m     \u001b[0mprint\u001b[0m \u001b[1;33m(\u001b[0m\u001b[1;34mf\"So {num1} / {num2} = {result}...\"\u001b[0m\u001b[1;33m)\u001b[0m\u001b[1;33m\u001b[0m\u001b[1;33m\u001b[0m\u001b[0m\n",
      "\u001b[1;31mValueError\u001b[0m: invalid literal for int() with base 10: 'two'"
     ]
    }
   ],
   "source": [
    "try:\n",
    "    num1 = int(input(\"Please enter the first number: \"))\n",
    "    num2 = int(input(\"Please enter the second number: \"))\n",
    "    result = num1 / num2\n",
    "    print (f\"So {num1} / {num2} = {result}...\")\n",
    "except ZeroDivisionError as zde:\n",
    "    print (\"ZeroDivisionError: Division by ZERO is Illegal..!!!\")\n",
    "    print (\"ZeroDivisionError: Error message:\", zde)\n",
    "print (\"End of the program...\")"
   ]
  },
  {
   "cell_type": "code",
   "execution_count": 9,
   "id": "fdba768f-c774-4535-92a0-78f624c18891",
   "metadata": {},
   "outputs": [
    {
     "name": "stdin",
     "output_type": "stream",
     "text": [
      "Please enter the first number:  100\n",
      "Please enter the second number:  two\n"
     ]
    },
    {
     "name": "stdout",
     "output_type": "stream",
     "text": [
      "ValueError: Please give only Integer Values..!!!\n",
      "ValueError: Error message: invalid literal for int() with base 10: 'two'\n",
      "End of the program...\n"
     ]
    }
   ],
   "source": [
    "try:\n",
    "    num1 = int(input(\"Please enter the first number: \"))\n",
    "    num2 = int(input(\"Please enter the second number: \"))\n",
    "    result = num1 / num2\n",
    "    print (f\"So {num1} / {num2} = {result}...\")\n",
    "except ZeroDivisionError as zde:\n",
    "    print (\"ZeroDivisionError: Division by ZERO is Illegal..!!!\")\n",
    "    print (\"ZeroDivisionError: Error message:\", zde)\n",
    "except ValueError as ve:\n",
    "    print (\"ValueError: Please give only Integer Values..!!!\")\n",
    "    print (\"ValueError: Error message:\", ve)\n",
    "print (\"End of the program...\")"
   ]
  },
  {
   "cell_type": "code",
   "execution_count": 22,
   "id": "9d635c44-186e-4381-8ce9-5b6510abb2b3",
   "metadata": {},
   "outputs": [
    {
     "name": "stdin",
     "output_type": "stream",
     "text": [
      "Please enter the first number:  100\n",
      "Please enter the second number:  0\n"
     ]
    },
    {
     "name": "stdout",
     "output_type": "stream",
     "text": [
      "Exception: Some other exception has been raised..!!!\n",
      "Exception: Error message: division by zero\n",
      "Exception: Type of exception: <class 'ZeroDivisionError'>\n",
      "End of the program...\n"
     ]
    }
   ],
   "source": [
    "try:\n",
    "    num1 = int(input(\"Please enter the first number: \"))\n",
    "    num2 = int(input(\"Please enter the second number: \"))\n",
    "    result = num1 / num2\n",
    "    print (f\"So {num1} / {num2} = {result}...\")\n",
    "except ValueError as ve:\n",
    "    print (\"ValueError: Please give only Integer Values..!!!\")\n",
    "    print (\"ValueError: Error message:\", ve)\n",
    "    print (\"ValueError: Type of exception:\", type(ve))\n",
    "# except ZeroDivisionError as zde:\n",
    "#     print (\"ZeroDivisionError: Division by ZERO is Illegal..!!!\")\n",
    "#     print (\"ZeroDivisionError: Error message:\", zde)\n",
    "#     print (\"ZeroDivisionError: Type of exception:\", type(zde))\n",
    "except Exception as ex:\n",
    "    print (\"Exception: Some other exception has been raised..!!!\")\n",
    "    print (\"Exception: Error message:\", ex)\n",
    "    print (\"Exception: Type of exception:\", type(ex))\n",
    "\n",
    "print (\"End of the program...\")"
   ]
  },
  {
   "cell_type": "code",
   "execution_count": 24,
   "id": "b0e0a973-8347-4e89-9786-d7f66837f5cc",
   "metadata": {},
   "outputs": [
    {
     "name": "stdin",
     "output_type": "stream",
     "text": [
      "Please enter the first number:  100.5\n"
     ]
    },
    {
     "name": "stdout",
     "output_type": "stream",
     "text": [
      "Exception: Some other exception has been raised..!!!\n",
      "Exception: Error message: invalid literal for int() with base 10: '100.5'\n",
      "Exception: Type of exception: <class 'ValueError'>\n",
      "End of the program...\n"
     ]
    }
   ],
   "source": [
    "try:\n",
    "    num1 = int(input(\"Please enter the first number: \"))\n",
    "    num2 = int(input(\"Please enter the second number: \"))\n",
    "    result = num1 / num2\n",
    "    print (f\"So {num1} / {num2} = {result}...\")\n",
    "except Exception as ex:\n",
    "    print (\"Exception: Some other exception has been raised..!!!\")\n",
    "    print (\"Exception: Error message:\", ex)\n",
    "    print (\"Exception: Type of exception:\", type(ex))\n",
    "except ValueError as ve:\n",
    "    print (\"ValueError: Please give only Integer Values..!!!\")\n",
    "    print (\"ValueError: Error message:\", ve)\n",
    "    print (\"ValueError: Type of exception:\", type(ve))\n",
    "except ZeroDivisionError as zde:\n",
    "    print (\"ZeroDivisionError: Division by ZERO is Illegal..!!!\")\n",
    "    print (\"ZeroDivisionError: Error message:\", zde)\n",
    "    print (\"ZeroDivisionError: Type of exception:\", type(zde))\n",
    "\n",
    "print (\"End of the program...\")"
   ]
  },
  {
   "cell_type": "code",
   "execution_count": 28,
   "id": "4739767d-0031-416d-b8f0-d30380e54af1",
   "metadata": {},
   "outputs": [
    {
     "name": "stdin",
     "output_type": "stream",
     "text": [
      "Please enter the first number:  100\n",
      "Please enter the second number:  0\n"
     ]
    },
    {
     "name": "stdout",
     "output_type": "stream",
     "text": [
      "ZeroDivisionError: Division by ZERO is Illegal..!!!\n",
      "ZeroDivisionError: Error message: division by zero\n",
      "ZeroDivisionError: Type of exception: <class 'ZeroDivisionError'>\n",
      "Finally: Finally block is executing...\n",
      "Finally: This block executes always...\n",
      "End of the program...\n"
     ]
    }
   ],
   "source": [
    "try:\n",
    "    num1 = int(input(\"Please enter the first number: \"))\n",
    "    num2 = int(input(\"Please enter the second number: \"))\n",
    "    result = num1 / num2\n",
    "    print (f\"So {num1} / {num2} = {result}...\")\n",
    "except ValueError as ve:\n",
    "    print (\"ValueError: Please give only Integer Values..!!!\")\n",
    "    print (\"ValueError: Error message:\", ve)\n",
    "    print (\"ValueError: Type of exception:\", type(ve))\n",
    "except ZeroDivisionError as zde:\n",
    "    print (\"ZeroDivisionError: Division by ZERO is Illegal..!!!\")\n",
    "    print (\"ZeroDivisionError: Error message:\", zde)\n",
    "    print (\"ZeroDivisionError: Type of exception:\", type(zde))\n",
    "except Exception as ex:\n",
    "    print (\"Exception: Some other exception has been raised..!!!\")\n",
    "    print (\"Exception: Error message:\", ex)\n",
    "    print (\"Exception: Type of exception:\", type(ex))\n",
    "else:\n",
    "    print (\"Else: Else block is executing...\")\n",
    "    print (\"Else: Had a smooth execution...\")\n",
    "finally:\n",
    "    print (\"Finally: Finally block is executing...\")\n",
    "    print (\"Finally: This block executes always...\")\n",
    "\n",
    "print (\"End of the program...\")"
   ]
  },
  {
   "cell_type": "code",
   "execution_count": 31,
   "id": "716d939e-c35e-4e7e-82dd-7517ba3589d4",
   "metadata": {},
   "outputs": [
    {
     "name": "stdin",
     "output_type": "stream",
     "text": [
      "Please enter the first number (between -100 to +100):  500\n",
      "Please enter the second number (between -100 to +100):  -450\n"
     ]
    },
    {
     "name": "stdout",
     "output_type": "stream",
     "text": [
      "NameError: Input value out of range...\n",
      "NameError: Input value was below -100...!!!\n",
      "Finally: Finally block is executing...\n",
      "Finally: This block executes always...\n",
      "End of the program...\n"
     ]
    }
   ],
   "source": [
    "try:\n",
    "    num1 = int(input(\"Please enter the first number (between -100 to +100): \"))\n",
    "    num2 = int(input(\"Please enter the second number (between -100 to +100): \"))\n",
    "    if (num1 < -100 or num2 < -100):\n",
    "        raise NameError(\"Below-100\")\n",
    "    if (num1 > 100 or num2 > 100):\n",
    "        raise NameError(\"Above100\")\n",
    "    result = num1 / num2\n",
    "    print (f\"So {num1} / {num2} = {result}...\")\n",
    "except NameError as ne:\n",
    "    print (\"NameError: Input value out of range...\")\n",
    "    if (str(ne) == \"Below-100\"):\n",
    "        print (\"NameError: Input value was below -100...!!!\")\n",
    "    if (str(ne) == \"Above100\"):\n",
    "        print (\"NameError: Input value was above 100...!!!\")\n",
    "except ValueError as ve:\n",
    "    print (\"ValueError: Please give only Integer Values..!!!\")\n",
    "    print (\"ValueError: Error message:\", ve)\n",
    "    print (\"ValueError: Type of exception:\", type(ve))\n",
    "except ZeroDivisionError as zde:\n",
    "    print (\"ZeroDivisionError: Division by ZERO is Illegal..!!!\")\n",
    "    print (\"ZeroDivisionError: Error message:\", zde)\n",
    "    print (\"ZeroDivisionError: Type of exception:\", type(zde))\n",
    "except Exception as ex:\n",
    "    print (\"Exception: Some other exception has been raised..!!!\")\n",
    "    print (\"Exception: Error message:\", ex)\n",
    "    print (\"Exception: Type of exception:\", type(ex))\n",
    "else:\n",
    "    print (\"Else: Else block is executing...\")\n",
    "    print (\"Else: Had a smooth execution...\")\n",
    "finally:\n",
    "    print (\"Finally: Finally block is executing...\")\n",
    "    print (\"Finally: This block executes always...\")\n",
    "\n",
    "print (\"End of the program...\")"
   ]
  },
  {
   "cell_type": "code",
   "execution_count": null,
   "id": "767c0f54-f70b-4083-92ee-464e151af64e",
   "metadata": {},
   "outputs": [],
   "source": [
    "# Class Assignment-1:\n",
    "# -------------------\n",
    "# Rewrite the code in such a way that until we can perform division operation successfull with valid user\n",
    "# input numbers, the program will keep on asking both two new input numbers for the user.\n",
    "# Solve this assignment."
   ]
  },
  {
   "cell_type": "code",
   "execution_count": 32,
   "id": "3226d8cf-ffc6-4018-ad21-83bab6557d55",
   "metadata": {},
   "outputs": [
    {
     "name": "stdout",
     "output_type": "stream",
     "text": [
      "Hello\n"
     ]
    }
   ],
   "source": [
    "print (\"Hello\")"
   ]
  },
  {
   "cell_type": "code",
   "execution_count": null,
   "id": "d6600e7a-ddbb-474a-ada9-39ea558e92e8",
   "metadata": {},
   "outputs": [],
   "source": []
  },
  {
   "cell_type": "code",
   "execution_count": null,
   "id": "c2905548-d054-4405-b480-32639449878f",
   "metadata": {},
   "outputs": [],
   "source": []
  },
  {
   "cell_type": "code",
   "execution_count": null,
   "id": "7f59c629-4f33-4437-aa96-7582277f4b20",
   "metadata": {},
   "outputs": [],
   "source": []
  },
  {
   "cell_type": "code",
   "execution_count": null,
   "id": "56660af7-cd7f-467c-bc46-dfb4172e546f",
   "metadata": {},
   "outputs": [],
   "source": []
  },
  {
   "cell_type": "code",
   "execution_count": null,
   "id": "fd4642fa-6fc9-4510-ae9d-202b3ad43aa4",
   "metadata": {},
   "outputs": [],
   "source": []
  },
  {
   "cell_type": "code",
   "execution_count": null,
   "id": "e70f9556-6afd-4dbf-9f4a-3a0b85c58ce3",
   "metadata": {},
   "outputs": [],
   "source": []
  }
 ],
 "metadata": {
  "kernelspec": {
   "display_name": "Python 3",
   "language": "python",
   "name": "python3"
  },
  "language_info": {
   "codemirror_mode": {
    "name": "ipython",
    "version": 3
   },
   "file_extension": ".py",
   "mimetype": "text/x-python",
   "name": "python",
   "nbconvert_exporter": "python",
   "pygments_lexer": "ipython3",
   "version": "3.8.8"
  }
 },
 "nbformat": 4,
 "nbformat_minor": 5
}
